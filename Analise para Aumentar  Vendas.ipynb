{
 "cells": [
  {
   "cell_type": "markdown",
   "id": "d34203db",
   "metadata": {},
   "source": [
    "<hr>\n",
    "<center>\n",
    "   <font size='4'> <B> Desafio: </B> BMD é uma empresa vende bermudas e está buscando aumentar suas vendas. Ela nos fornece uma base de dados e deseja saber o que pode fazer para melhorar nesse quesito. </font> <br>\n",
    "    <br>\n",
    "    <font size='3'> <I> <B> Análise feita por: </B> Yasmin de Miranda Nobre </I> </font> <br>\n",
    "    <br>\n",
    "    <font size='3'> <I> <B> Base de dados por: </B> Hasthag Programação </I> </font>\n",
    "</center> \n",
    "<hr>\n"
   ]
  },
  {
   "cell_type": "markdown",
   "id": "9e65ace0",
   "metadata": {},
   "source": [
    "## 1) Importando bibliotecas e base de dados"
   ]
  },
  {
   "cell_type": "code",
   "execution_count": 1,
   "id": "f27ad6aa",
   "metadata": {},
   "outputs": [],
   "source": [
    "import pandas as pd\n",
    "import numpy as np\n",
    "import seaborn as sns\n",
    "import matplotlib.pyplot as plt \n",
    "from datetime import datetime, timedelta"
   ]
  },
  {
   "cell_type": "code",
   "execution_count": 2,
   "id": "110ffe1a",
   "metadata": {},
   "outputs": [],
   "source": [
    "base = pd.read_excel(\"Vendas.xlsx\")"
   ]
  },
  {
   "cell_type": "markdown",
   "id": "ccf7d41a",
   "metadata": {},
   "source": [
    "## 2) Análise exploratória da base de dados"
   ]
  },
  {
   "cell_type": "code",
   "execution_count": 3,
   "id": "1d5f4d97",
   "metadata": {
    "scrolled": false
   },
   "outputs": [
    {
     "data": {
      "text/html": [
       "<div>\n",
       "<style scoped>\n",
       "    .dataframe tbody tr th:only-of-type {\n",
       "        vertical-align: middle;\n",
       "    }\n",
       "\n",
       "    .dataframe tbody tr th {\n",
       "        vertical-align: top;\n",
       "    }\n",
       "\n",
       "    .dataframe thead th {\n",
       "        text-align: right;\n",
       "    }\n",
       "</style>\n",
       "<table border=\"1\" class=\"dataframe\">\n",
       "  <thead>\n",
       "    <tr style=\"text-align: right;\">\n",
       "      <th></th>\n",
       "      <th>Data</th>\n",
       "      <th>ID Loja</th>\n",
       "      <th>Produto</th>\n",
       "      <th>Quantidade</th>\n",
       "      <th>Valor Unitário</th>\n",
       "      <th>Valor Final</th>\n",
       "    </tr>\n",
       "  </thead>\n",
       "  <tbody>\n",
       "    <tr>\n",
       "      <th>0</th>\n",
       "      <td>2019-12-01</td>\n",
       "      <td>Iguatemi Campinas</td>\n",
       "      <td>Bermuda Estampa</td>\n",
       "      <td>1</td>\n",
       "      <td>169</td>\n",
       "      <td>169</td>\n",
       "    </tr>\n",
       "    <tr>\n",
       "      <th>1</th>\n",
       "      <td>2019-12-01</td>\n",
       "      <td>Iguatemi Esplanada</td>\n",
       "      <td>Bermuda Xadrez</td>\n",
       "      <td>1</td>\n",
       "      <td>155</td>\n",
       "      <td>155</td>\n",
       "    </tr>\n",
       "    <tr>\n",
       "      <th>2</th>\n",
       "      <td>2019-12-01</td>\n",
       "      <td>Norte Shopping</td>\n",
       "      <td>Bermuda</td>\n",
       "      <td>2</td>\n",
       "      <td>150</td>\n",
       "      <td>300</td>\n",
       "    </tr>\n",
       "    <tr>\n",
       "      <th>3</th>\n",
       "      <td>2019-12-01</td>\n",
       "      <td>Iguatemi Campinas</td>\n",
       "      <td>Bermuda Listrado</td>\n",
       "      <td>3</td>\n",
       "      <td>163</td>\n",
       "      <td>489</td>\n",
       "    </tr>\n",
       "    <tr>\n",
       "      <th>4</th>\n",
       "      <td>2019-12-01</td>\n",
       "      <td>Iguatemi Campinas</td>\n",
       "      <td>Bermuda Linho</td>\n",
       "      <td>3</td>\n",
       "      <td>195</td>\n",
       "      <td>585</td>\n",
       "    </tr>\n",
       "  </tbody>\n",
       "</table>\n",
       "</div>"
      ],
      "text/plain": [
       "        Data             ID Loja           Produto  Quantidade  \\\n",
       "0 2019-12-01   Iguatemi Campinas   Bermuda Estampa           1   \n",
       "1 2019-12-01  Iguatemi Esplanada    Bermuda Xadrez           1   \n",
       "2 2019-12-01      Norte Shopping           Bermuda           2   \n",
       "3 2019-12-01   Iguatemi Campinas  Bermuda Listrado           3   \n",
       "4 2019-12-01   Iguatemi Campinas     Bermuda Linho           3   \n",
       "\n",
       "   Valor Unitário  Valor Final  \n",
       "0             169          169  \n",
       "1             155          155  \n",
       "2             150          300  \n",
       "3             163          489  \n",
       "4             195          585  "
      ]
     },
     "execution_count": 3,
     "metadata": {},
     "output_type": "execute_result"
    }
   ],
   "source": [
    "base.head() #visualizando as 5 primeiras observações da base de dados"
   ]
  },
  {
   "cell_type": "markdown",
   "id": "3be308ca",
   "metadata": {},
   "source": [
    "A fim de tornar a análise mais simples, iremos mudar os nomes das variáveis:"
   ]
  },
  {
   "cell_type": "code",
   "execution_count": 4,
   "id": "f5c62b68",
   "metadata": {},
   "outputs": [
    {
     "data": {
      "text/html": [
       "<div>\n",
       "<style scoped>\n",
       "    .dataframe tbody tr th:only-of-type {\n",
       "        vertical-align: middle;\n",
       "    }\n",
       "\n",
       "    .dataframe tbody tr th {\n",
       "        vertical-align: top;\n",
       "    }\n",
       "\n",
       "    .dataframe thead th {\n",
       "        text-align: right;\n",
       "    }\n",
       "</style>\n",
       "<table border=\"1\" class=\"dataframe\">\n",
       "  <thead>\n",
       "    <tr style=\"text-align: right;\">\n",
       "      <th></th>\n",
       "      <th>data</th>\n",
       "      <th>id</th>\n",
       "      <th>produto</th>\n",
       "      <th>qtd</th>\n",
       "      <th>v_u</th>\n",
       "      <th>v_f</th>\n",
       "    </tr>\n",
       "  </thead>\n",
       "  <tbody>\n",
       "    <tr>\n",
       "      <th>0</th>\n",
       "      <td>2019-12-01</td>\n",
       "      <td>Iguatemi Campinas</td>\n",
       "      <td>Bermuda Estampa</td>\n",
       "      <td>1</td>\n",
       "      <td>169</td>\n",
       "      <td>169</td>\n",
       "    </tr>\n",
       "    <tr>\n",
       "      <th>1</th>\n",
       "      <td>2019-12-01</td>\n",
       "      <td>Iguatemi Esplanada</td>\n",
       "      <td>Bermuda Xadrez</td>\n",
       "      <td>1</td>\n",
       "      <td>155</td>\n",
       "      <td>155</td>\n",
       "    </tr>\n",
       "    <tr>\n",
       "      <th>2</th>\n",
       "      <td>2019-12-01</td>\n",
       "      <td>Norte Shopping</td>\n",
       "      <td>Bermuda</td>\n",
       "      <td>2</td>\n",
       "      <td>150</td>\n",
       "      <td>300</td>\n",
       "    </tr>\n",
       "    <tr>\n",
       "      <th>3</th>\n",
       "      <td>2019-12-01</td>\n",
       "      <td>Iguatemi Campinas</td>\n",
       "      <td>Bermuda Listrado</td>\n",
       "      <td>3</td>\n",
       "      <td>163</td>\n",
       "      <td>489</td>\n",
       "    </tr>\n",
       "    <tr>\n",
       "      <th>4</th>\n",
       "      <td>2019-12-01</td>\n",
       "      <td>Iguatemi Campinas</td>\n",
       "      <td>Bermuda Linho</td>\n",
       "      <td>3</td>\n",
       "      <td>195</td>\n",
       "      <td>585</td>\n",
       "    </tr>\n",
       "  </tbody>\n",
       "</table>\n",
       "</div>"
      ],
      "text/plain": [
       "        data                  id           produto  qtd  v_u  v_f\n",
       "0 2019-12-01   Iguatemi Campinas   Bermuda Estampa    1  169  169\n",
       "1 2019-12-01  Iguatemi Esplanada    Bermuda Xadrez    1  155  155\n",
       "2 2019-12-01      Norte Shopping           Bermuda    2  150  300\n",
       "3 2019-12-01   Iguatemi Campinas  Bermuda Listrado    3  163  489\n",
       "4 2019-12-01   Iguatemi Campinas     Bermuda Linho    3  195  585"
      ]
     },
     "execution_count": 4,
     "metadata": {},
     "output_type": "execute_result"
    }
   ],
   "source": [
    "base.columns=['data',\"id\",'produto','qtd','v_u','v_f']\n",
    "base.head()"
   ]
  },
  {
   "cell_type": "markdown",
   "id": "5619f273",
   "metadata": {},
   "source": [
    "Legenda da Base de Dados: <br>\n",
    "1. <I> data </I>: Dia da venda <br>\n",
    "   <br>\n",
    "2. <I> id </I>: Identificação da loja onde ocorreu a venda <br>\n",
    "    <br>\n",
    "3. <I> produto </I>: Produto que foi vendido <br>\n",
    "   <br>\n",
    "4. <I> qtd </I>: Quantidade do produto que foi vendida <br>\n",
    "    <br>\n",
    "5. <I> v_u </I>: Valor unitário, em reais, do produto que está sendo vendido <br>\n",
    "    <br>\n",
    "6. <I> v_f </I>: Valor final (total), em reais, da venda. Considera a quantidade de produtos que foram vendidos e multiplica pelo seu valor unitário. Ao longo da análise pode ser referido como \"valor da venda\" <br>"
   ]
  },
  {
   "cell_type": "markdown",
   "id": "0ff769cb",
   "metadata": {},
   "source": [
    "### 2.1) Analisando valor acumulado das vendas (valor final)"
   ]
  },
  {
   "cell_type": "code",
   "execution_count": 5,
   "id": "4debcbb8",
   "metadata": {
    "scrolled": false
   },
   "outputs": [
    {
     "name": "stderr",
     "output_type": "stream",
     "text": [
      "C:\\Users\\yasmi\\anaconda3\\lib\\site-packages\\seaborn\\distributions.py:2557: FutureWarning: `distplot` is a deprecated function and will be removed in a future version. Please adapt your code to use either `displot` (a figure-level function with similar flexibility) or `histplot` (an axes-level function for histograms).\n",
      "  warnings.warn(msg, FutureWarning)\n"
     ]
    },
    {
     "data": {
      "text/plain": [
       "<matplotlib.legend.Legend at 0x1348536f940>"
      ]
     },
     "execution_count": 5,
     "metadata": {},
     "output_type": "execute_result"
    },
    {
     "data": {
      "image/png": "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\n",
      "text/plain": [
       "<Figure size 432x288 with 1 Axes>"
      ]
     },
     "metadata": {
      "needs_background": "light"
     },
     "output_type": "display_data"
    }
   ],
   "source": [
    "sns.distplot(base['v_f'], bins=3, \n",
    "             axlabel=\"Valor Final (R\\$)\", \n",
    "             color=\"green\",\n",
    "             label = \"Valor Final (R\\$)\")\n",
    "\n",
    "plt.title(\"Histograma do Valor Final (R\\$)\")\n",
    "plt.legend()"
   ]
  },
  {
   "cell_type": "code",
   "execution_count": 6,
   "id": "a2142b76",
   "metadata": {
    "scrolled": true
   },
   "outputs": [
    {
     "data": {
      "text/plain": [
       "count       57.000000\n",
       "mean       980.614035\n",
       "std       2757.203926\n",
       "min        150.000000\n",
       "25%        163.000000\n",
       "50%        310.000000\n",
       "75%        600.000000\n",
       "max      15700.000000\n",
       "Name: v_f, dtype: float64"
      ]
     },
     "execution_count": 6,
     "metadata": {},
     "output_type": "execute_result"
    }
   ],
   "source": [
    "base['v_f'].describe() "
   ]
  },
  {
   "cell_type": "markdown",
   "id": "eca90d41",
   "metadata": {},
   "source": [
    "<B> Comentários </B>: <br>\n",
    "<br>    \n",
    "A partir do comando 'describe' notamos que 57 vendas foram observadas. Nesse conjunto de dados notamos que um cliente aleatório inviste em média $R\\$980$ reais na BMD.\n",
    "\n",
    "Entretanto, como notamos no histograma apresentado e nas medidas 'std' (desvio padrão), 'min' (mínimo) e 'max' (máximo), existe uma grande variação no valor final de uma venda: Houveram clientes cujas compras somaram valores relativamente baixos, como $R\\$150$, e outros cujo investimento total foi de quase $R\\$16.000$. \n",
    "\n",
    "Entretanto, a maior parte dos clientes tendem a gastar \"pouco\", ou seja, até 5 mil reais na empresa. Percebemos pelo gráfico que em poucas vezes o valor final foi maior que este número. "
   ]
  },
  {
   "cell_type": "markdown",
   "id": "d5cb5788",
   "metadata": {},
   "source": [
    "## 2.2) Analisando pelo período em que ocorreram as vendas"
   ]
  },
  {
   "cell_type": "code",
   "execution_count": 7,
   "id": "d4322732",
   "metadata": {},
   "outputs": [
    {
     "name": "stderr",
     "output_type": "stream",
     "text": [
      "<ipython-input-7-0413363f52c3>:1: FutureWarning: Treating datetime data as categorical rather than numeric in `.describe` is deprecated and will be removed in a future version of pandas. Specify `datetime_is_numeric=True` to silence this warning and adopt the future behavior now.\n",
      "  base['data'].describe()\n"
     ]
    },
    {
     "data": {
      "text/plain": [
       "count                      57\n",
       "unique                     24\n",
       "top       2019-12-01 00:00:00\n",
       "freq                        5\n",
       "first     2019-12-01 00:00:00\n",
       "last      2019-12-26 00:00:00\n",
       "Name: data, dtype: object"
      ]
     },
     "execution_count": 7,
     "metadata": {},
     "output_type": "execute_result"
    }
   ],
   "source": [
    "base['data'].describe()"
   ]
  },
  {
   "cell_type": "markdown",
   "id": "71134725",
   "metadata": {},
   "source": [
    "Como as datas estão no tipo \"aaaa-mm-dd\" e sabemos que todas as vendas ocorreram em dezembro de 2019, a analise será feita com a distinção dos dias do mês e dias da semana. Assim:"
   ]
  },
  {
   "cell_type": "code",
   "execution_count": 8,
   "id": "191457f6",
   "metadata": {},
   "outputs": [],
   "source": [
    "v_data = list()\n",
    "for i in range(len(base)):\n",
    "    v_data.append(base['data'][i].strftime(\"%d\"))\n",
    "    i = i+1"
   ]
  },
  {
   "cell_type": "code",
   "execution_count": 9,
   "id": "131d2cac",
   "metadata": {
    "scrolled": true
   },
   "outputs": [
    {
     "data": {
      "image/png": "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\n",
      "text/plain": [
       "<Figure size 432x288 with 1 Axes>"
      ]
     },
     "metadata": {
      "needs_background": "light"
     },
     "output_type": "display_data"
    }
   ],
   "source": [
    "plt.plot(v_data,base['v_f'], color=\"green\")\n",
    "plt.title(\"Valor Final de Vendas ao longo de Dezembro/19\")\n",
    "plt.show()"
   ]
  },
  {
   "cell_type": "markdown",
   "id": "1a688eb3",
   "metadata": {},
   "source": [
    "<B> Comentários </B>: <br>\n",
    "<br>    \n",
    "É possível perceber que o maior valor final das vendas (quantidade de produtos * valor unitário do produto) ocorreu no dias 25, sendo maior que $R\\$14.000$. Como nesse dia comemoramos o Natal e muitas pessoas compram seu presente na \"última hora\", faz sentido o aumento exponencial deste indicador.\n",
    "\n",
    "É importante observar, entretanto, que durante a maior parte do tempo, ou seja, entre os dias 05 e 23, o valor final das vendas foi constantemente baixo: abaixo de $R\\$2.000$.\n",
    "\n",
    "No gráfico abaixo notamos que o dia da semana em que houve maior valor acumulado de vendas foi na Quarta-Feira (\"Wednesday\"), seguido da Terça-Feira. Curiosamente, o dia que arrecadou o menor valor foi na Sexta, com menos de $R\\$2.000$ vendidos ao longo do mês. Visualmente, há indicios de que na sexta ocorre a venda final média, cujo investimento é de $R\\$950$.\n",
    "\n",
    "Diante disso os gerentes das lojas poderiam considerar campanhas específicas para aumentar o valor acumulado das vendas durante todo o mês e entre a Sexta-Feira e Segunda-Feira. Além disso, vemos que há maior necessidade de atendimento ao cliente entre Terça-Feira e Quinta-Feira e no dia do Natal. Essas informações podem auxiliar na alocação de seus devidos funcionários."
   ]
  },
  {
   "cell_type": "code",
   "execution_count": 10,
   "id": "85388725",
   "metadata": {},
   "outputs": [],
   "source": [
    "v_dias = list()\n",
    "for i in range(len(base)):\n",
    "    v_dias.append(base['data'][i].strftime(\"%A\"))\n",
    "    i = i+1"
   ]
  },
  {
   "cell_type": "code",
   "execution_count": 11,
   "id": "415d568f",
   "metadata": {},
   "outputs": [
    {
     "data": {
      "image/png": "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\n",
      "text/plain": [
       "<Figure size 432x288 with 1 Axes>"
      ]
     },
     "metadata": {
      "needs_background": "light"
     },
     "output_type": "display_data"
    }
   ],
   "source": [
    "plt.bar(v_dias,base['v_f'], color=\"green\")\n",
    "plt.title(\"Valor Acumulado de Vendas em Dezembro por Dia da Semana\")\n",
    "plt.show()"
   ]
  },
  {
   "cell_type": "markdown",
   "id": "15748f63",
   "metadata": {},
   "source": [
    "### 2.2) Analisando lojas que estão presentes na base de dados"
   ]
  },
  {
   "cell_type": "code",
   "execution_count": 12,
   "id": "593ac023",
   "metadata": {},
   "outputs": [
    {
     "data": {
      "text/plain": [
       "array(['Iguatemi Campinas', 'Iguatemi Esplanada', 'Norte Shopping',\n",
       "       'Bourbon Shopping SP', 'Center Shopping Uberlândia'], dtype=object)"
      ]
     },
     "execution_count": 12,
     "metadata": {},
     "output_type": "execute_result"
    }
   ],
   "source": [
    "base['id'].unique() #quais lojas aparecem"
   ]
  },
  {
   "cell_type": "code",
   "execution_count": 13,
   "id": "9670e87f",
   "metadata": {
    "scrolled": true
   },
   "outputs": [
    {
     "data": {
      "text/plain": [
       "Iguatemi Campinas             16\n",
       "Iguatemi Esplanada             8\n",
       "Norte Shopping                11\n",
       "Bourbon Shopping SP           13\n",
       "Center Shopping Uberlândia     9\n",
       "Name: id, dtype: int64"
      ]
     },
     "execution_count": 13,
     "metadata": {},
     "output_type": "execute_result"
    }
   ],
   "source": [
    "base['id'].value_counts(sort=False) #quantidade de vezes que loja foi observada"
   ]
  },
  {
   "cell_type": "markdown",
   "id": "cfc240a0",
   "metadata": {},
   "source": [
    "Podemos perceber a informação acima de uma maneira melhor, por meio do seguinte gráfico:"
   ]
  },
  {
   "cell_type": "code",
   "execution_count": 14,
   "id": "a9449e67",
   "metadata": {},
   "outputs": [],
   "source": [
    "freq_L = base['id'].value_counts(sort=False)\n",
    "freq_lojas = list()\n",
    "for i in range(len(freq_L)):\n",
    "    freq_lojas.append(freq_L[i])\n",
    "    i = i+1"
   ]
  },
  {
   "cell_type": "code",
   "execution_count": 15,
   "id": "d99d3c3d",
   "metadata": {},
   "outputs": [
    {
     "data": {
      "image/png": "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\n",
      "text/plain": [
       "<Figure size 432x288 with 1 Axes>"
      ]
     },
     "metadata": {
      "needs_background": "light"
     },
     "output_type": "display_data"
    }
   ],
   "source": [
    "plt.barh(base['id'].unique(),freq_lojas,color=[\"red\",\"blue\",\"purple\",\"green\",\"gray\"])\n",
    "plt.title(\"Frequência na Base de Dados\")\n",
    "plt.show()"
   ]
  },
  {
   "cell_type": "markdown",
   "id": "44e80c68",
   "metadata": {},
   "source": [
    "<B> Comentários </B>: <br>\n",
    "<br>    \n",
    "Notamos que a loja presente em 'Iguatemi Esplanada' é a que menos aparece na base de dados. Desse modo, esperamos que essa seja a filial que menos vendeu produtos e que acumulou menos dinheiro ao fim do período observado. Do mesmo modo, como \"Iguatemi Campinas\" possui maior frequência nas observações, ela terá maior impacto nas medidas que estamos investigando. Para mais detalhe, seria necessário conduzir uma análise de dados específica para cada loja.\n",
    "\n",
    "Abaixo segue gráfico do Valor Final de vendas que cada loja acumulou. Vemos que \"Iguatemi Campinas\" de fato possui maior participação na geração de receita de BMD, enquanto a participação das demais são similares. \n",
    "\n",
    "Embora \"Iguatemi Campinas\" tenha sido considerada 16 vezes em nossa amostra, as outras lojas foram entre 8 e 13 vezes, ou seja, esse valor não é tão diferente a ponto de justificar um valor final de vendas acumulado tão baixo para as demais lojas ou tão alto para \"Iguatemi Campinas\". \n",
    "\n",
    "Recomenda-se análise mais profunda do perfil das filiais a ponto de entender o motivo de \"Iguatemi Campinas\" se destacar."
   ]
  },
  {
   "cell_type": "code",
   "execution_count": 16,
   "id": "a126b5ca",
   "metadata": {
    "scrolled": false
   },
   "outputs": [
    {
     "data": {
      "image/png": "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\n",
      "text/plain": [
       "<Figure size 432x288 with 1 Axes>"
      ]
     },
     "metadata": {
      "needs_background": "light"
     },
     "output_type": "display_data"
    }
   ],
   "source": [
    "plt.barh(base['id'],base['v_f'], color=\"green\")\n",
    "plt.title(\"Valor Final de Vendas por Loja\")\n",
    "\n",
    "plt.show()"
   ]
  },
  {
   "cell_type": "markdown",
   "id": "7cef37ee",
   "metadata": {},
   "source": [
    "### 2.3) Quanto à quantidade de vendas"
   ]
  },
  {
   "cell_type": "code",
   "execution_count": null,
   "id": "e16d253b",
   "metadata": {
    "scrolled": false
   },
   "outputs": [],
   "source": [
    "sns.distplot(base['qtd'], bins=3, \n",
    "             axlabel=\"Frequência\", \n",
    "             color=\"orange\")\n",
    "\n",
    "plt.title(\"Histograma da Quantidade de Produtos Vendidos\")\n",
    "plt.legend()"
   ]
  },
  {
   "cell_type": "code",
   "execution_count": null,
   "id": "282131b7",
   "metadata": {
    "scrolled": false
   },
   "outputs": [],
   "source": [
    "base['qtd'].describe() "
   ]
  },
  {
   "cell_type": "code",
   "execution_count": null,
   "id": "8462ce71",
   "metadata": {
    "scrolled": false
   },
   "outputs": [],
   "source": [
    "plt.barh(base['id'],base['qtd'], color=\"orange\")\n",
    "plt.title(\"Quantidade de Produtos Vendidos por Loja\")\n",
    "plt.show()\n"
   ]
  },
  {
   "cell_type": "code",
   "execution_count": null,
   "id": "c95bd2ce",
   "metadata": {
    "scrolled": false
   },
   "outputs": [],
   "source": [
    "from tabulate import tabulate\n",
    " \n",
    "tab = [\n",
    "    [150, 23],\n",
    "    [155, 28],\n",
    "    [157, 233],\n",
    "    [163, 25],\n",
    "    [169, 21],\n",
    "    [195, 20]\n",
    "]\n",
    " \n",
    "# create header\n",
    "head = [\"Valor Unitário\", \"Quantidade de Produtos Vendidos\"]\n",
    " \n",
    "# display table\n",
    "print(tabulate(tab, headers=head, tablefmt=\"grid\"))"
   ]
  },
  {
   "cell_type": "code",
   "execution_count": null,
   "id": "dcaf8cff",
   "metadata": {},
   "outputs": [],
   "source": [
    "# quantidade por produto"
   ]
  },
 ],
 "metadata": {
  "kernelspec": {
   "display_name": "Python 3",
   "language": "python",
   "name": "python3"
  },
  "language_info": {
   "codemirror_mode": {
    "name": "ipython",
    "version": 3
   },
   "file_extension": ".py",
   "mimetype": "text/x-python",
   "name": "python",
   "nbconvert_exporter": "python",
   "pygments_lexer": "ipython3",
   "version": "3.8.8"
  }
 },
 "nbformat": 4,
 "nbformat_minor": 5
}
