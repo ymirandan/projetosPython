{
 "cells": [
  {
   "cell_type": "markdown",
   "id": "d34203db",
   "metadata": {},
   "source": [
    "<hr>\n",
    "<center>\n",
    "   <font size='4'> <B> Desafio: </B> BMD é uma empresa vende bermudas e está buscando aumentar suas vendas. Ela nos fornece uma base de dados e deseja saber o que pode fazer para melhorar nesse quesito. </font> <br>\n",
    "    <br>\n",
    "    <font size='3'> <I> <B> Análise feita por: </B> Yasmin de Miranda Nobre </I> </font> <br>\n",
    "    <br>\n",
    "    <font size='3'> <I> <B> Base de dados por: </B> Hasthag Programação </I> </font>\n",
    "</center> \n",
    "<hr>\n"
   ]
  },
  {
   "cell_type": "markdown",
   "id": "9e65ace0",
   "metadata": {},
   "source": [
    "## 1) Importando bibliotecas e base de dados"
   ]
  },
  {
   "cell_type": "code",
   "execution_count": 1,
   "id": "f27ad6aa",
   "metadata": {},
   "outputs": [],
   "source": [
    "import pandas as pd\n",
    "import numpy as np\n",
    "import seaborn as sns\n",
    "import matplotlib.pyplot as plt \n",
    "from datetime import datetime, timedelta"
   ]
  },
  {
   "cell_type": "code",
   "execution_count": 2,
   "id": "44a7f4bc",
   "metadata": {},
   "outputs": [],
   "source": [
    "sns.set()"
   ]
  },
  {
   "cell_type": "code",
   "execution_count": 3,
   "id": "110ffe1a",
   "metadata": {
    "scrolled": false
   },
   "outputs": [],
   "source": [
    "base = pd.read_excel(\"Vendas.xlsx\")"
   ]
  },
  {
   "cell_type": "markdown",
   "id": "ccf7d41a",
   "metadata": {},
   "source": [
    "## 2) Análise exploratória da base de dados (geral)"
   ]
  },
  {
   "cell_type": "code",
   "execution_count": 4,
   "id": "1d5f4d97",
   "metadata": {
    "scrolled": false
   },
   "outputs": [
    {
     "data": {
      "text/html": [
       "<div>\n",
       "<style scoped>\n",
       "    .dataframe tbody tr th:only-of-type {\n",
       "        vertical-align: middle;\n",
       "    }\n",
       "\n",
       "    .dataframe tbody tr th {\n",
       "        vertical-align: top;\n",
       "    }\n",
       "\n",
       "    .dataframe thead th {\n",
       "        text-align: right;\n",
       "    }\n",
       "</style>\n",
       "<table border=\"1\" class=\"dataframe\">\n",
       "  <thead>\n",
       "    <tr style=\"text-align: right;\">\n",
       "      <th></th>\n",
       "      <th>Data</th>\n",
       "      <th>ID Loja</th>\n",
       "      <th>Produto</th>\n",
       "      <th>Quantidade</th>\n",
       "      <th>Valor Unitário</th>\n",
       "      <th>Valor Final</th>\n",
       "    </tr>\n",
       "  </thead>\n",
       "  <tbody>\n",
       "    <tr>\n",
       "      <th>0</th>\n",
       "      <td>2019-12-01</td>\n",
       "      <td>Iguatemi Campinas</td>\n",
       "      <td>Bermuda Estampa</td>\n",
       "      <td>1</td>\n",
       "      <td>169</td>\n",
       "      <td>169</td>\n",
       "    </tr>\n",
       "    <tr>\n",
       "      <th>1</th>\n",
       "      <td>2019-12-01</td>\n",
       "      <td>Iguatemi Esplanada</td>\n",
       "      <td>Bermuda Xadrez</td>\n",
       "      <td>1</td>\n",
       "      <td>155</td>\n",
       "      <td>155</td>\n",
       "    </tr>\n",
       "    <tr>\n",
       "      <th>2</th>\n",
       "      <td>2019-12-01</td>\n",
       "      <td>Norte Shopping</td>\n",
       "      <td>Bermuda</td>\n",
       "      <td>2</td>\n",
       "      <td>150</td>\n",
       "      <td>300</td>\n",
       "    </tr>\n",
       "    <tr>\n",
       "      <th>3</th>\n",
       "      <td>2019-12-01</td>\n",
       "      <td>Iguatemi Campinas</td>\n",
       "      <td>Bermuda Listrado</td>\n",
       "      <td>3</td>\n",
       "      <td>163</td>\n",
       "      <td>489</td>\n",
       "    </tr>\n",
       "    <tr>\n",
       "      <th>4</th>\n",
       "      <td>2019-12-01</td>\n",
       "      <td>Iguatemi Campinas</td>\n",
       "      <td>Bermuda Linho</td>\n",
       "      <td>3</td>\n",
       "      <td>195</td>\n",
       "      <td>585</td>\n",
       "    </tr>\n",
       "  </tbody>\n",
       "</table>\n",
       "</div>"
      ],
      "text/plain": [
       "        Data             ID Loja           Produto  Quantidade  \\\n",
       "0 2019-12-01   Iguatemi Campinas   Bermuda Estampa           1   \n",
       "1 2019-12-01  Iguatemi Esplanada    Bermuda Xadrez           1   \n",
       "2 2019-12-01      Norte Shopping           Bermuda           2   \n",
       "3 2019-12-01   Iguatemi Campinas  Bermuda Listrado           3   \n",
       "4 2019-12-01   Iguatemi Campinas     Bermuda Linho           3   \n",
       "\n",
       "   Valor Unitário  Valor Final  \n",
       "0             169          169  \n",
       "1             155          155  \n",
       "2             150          300  \n",
       "3             163          489  \n",
       "4             195          585  "
      ]
     },
     "execution_count": 4,
     "metadata": {},
     "output_type": "execute_result"
    }
   ],
   "source": [
    "base.head() #visualizando as 5 primeiras observações da base de dados"
   ]
  },
  {
   "cell_type": "markdown",
   "id": "3be308ca",
   "metadata": {},
   "source": [
    "A fim de tornar a análise mais simples, iremos mudar os nomes das variáveis:"
   ]
  },
  {
   "cell_type": "code",
   "execution_count": 5,
   "id": "f5c62b68",
   "metadata": {},
   "outputs": [
    {
     "data": {
      "text/html": [
       "<div>\n",
       "<style scoped>\n",
       "    .dataframe tbody tr th:only-of-type {\n",
       "        vertical-align: middle;\n",
       "    }\n",
       "\n",
       "    .dataframe tbody tr th {\n",
       "        vertical-align: top;\n",
       "    }\n",
       "\n",
       "    .dataframe thead th {\n",
       "        text-align: right;\n",
       "    }\n",
       "</style>\n",
       "<table border=\"1\" class=\"dataframe\">\n",
       "  <thead>\n",
       "    <tr style=\"text-align: right;\">\n",
       "      <th></th>\n",
       "      <th>data</th>\n",
       "      <th>id</th>\n",
       "      <th>produto</th>\n",
       "      <th>qtd</th>\n",
       "      <th>v_u</th>\n",
       "      <th>v_f</th>\n",
       "    </tr>\n",
       "  </thead>\n",
       "  <tbody>\n",
       "    <tr>\n",
       "      <th>0</th>\n",
       "      <td>2019-12-01</td>\n",
       "      <td>Iguatemi Campinas</td>\n",
       "      <td>Bermuda Estampa</td>\n",
       "      <td>1</td>\n",
       "      <td>169</td>\n",
       "      <td>169</td>\n",
       "    </tr>\n",
       "    <tr>\n",
       "      <th>1</th>\n",
       "      <td>2019-12-01</td>\n",
       "      <td>Iguatemi Esplanada</td>\n",
       "      <td>Bermuda Xadrez</td>\n",
       "      <td>1</td>\n",
       "      <td>155</td>\n",
       "      <td>155</td>\n",
       "    </tr>\n",
       "    <tr>\n",
       "      <th>2</th>\n",
       "      <td>2019-12-01</td>\n",
       "      <td>Norte Shopping</td>\n",
       "      <td>Bermuda</td>\n",
       "      <td>2</td>\n",
       "      <td>150</td>\n",
       "      <td>300</td>\n",
       "    </tr>\n",
       "    <tr>\n",
       "      <th>3</th>\n",
       "      <td>2019-12-01</td>\n",
       "      <td>Iguatemi Campinas</td>\n",
       "      <td>Bermuda Listrado</td>\n",
       "      <td>3</td>\n",
       "      <td>163</td>\n",
       "      <td>489</td>\n",
       "    </tr>\n",
       "    <tr>\n",
       "      <th>4</th>\n",
       "      <td>2019-12-01</td>\n",
       "      <td>Iguatemi Campinas</td>\n",
       "      <td>Bermuda Linho</td>\n",
       "      <td>3</td>\n",
       "      <td>195</td>\n",
       "      <td>585</td>\n",
       "    </tr>\n",
       "  </tbody>\n",
       "</table>\n",
       "</div>"
      ],
      "text/plain": [
       "        data                  id           produto  qtd  v_u  v_f\n",
       "0 2019-12-01   Iguatemi Campinas   Bermuda Estampa    1  169  169\n",
       "1 2019-12-01  Iguatemi Esplanada    Bermuda Xadrez    1  155  155\n",
       "2 2019-12-01      Norte Shopping           Bermuda    2  150  300\n",
       "3 2019-12-01   Iguatemi Campinas  Bermuda Listrado    3  163  489\n",
       "4 2019-12-01   Iguatemi Campinas     Bermuda Linho    3  195  585"
      ]
     },
     "execution_count": 5,
     "metadata": {},
     "output_type": "execute_result"
    }
   ],
   "source": [
    "base.columns=['data',\"id\",'produto','qtd','v_u','v_f']\n",
    "base.head()"
   ]
  },
  {
   "cell_type": "markdown",
   "id": "5619f273",
   "metadata": {},
   "source": [
    "Legenda da Base de Dados: <br>\n",
    "1. <I> data </I>: Dia da venda <br>\n",
    "   <br>\n",
    "2. <I> id </I>: Identificação da loja onde ocorreu a venda <br>\n",
    "    <br>\n",
    "3. <I> produto </I>: Produto que foi vendido <br>\n",
    "   <br>\n",
    "4. <I> qtd </I>: Quantidade do produto que foi vendida <br>\n",
    "    <br>\n",
    "5. <I> v_u </I>: Valor unitário, em reais, do produto que está sendo vendido <br>\n",
    "    <br>\n",
    "6. <I> v_f </I>: Valor final (total), em reais, da venda. Considera a quantidade de produtos que foram vendidos e multiplica pelo seu valor unitário. Ao longo da análise pode ser referido como \"valor da venda\" <br>"
   ]
  },
  {
   "cell_type": "markdown",
   "id": "15748f63",
   "metadata": {},
   "source": [
    "### 2.1) Analisando lojas que estão presentes na base de dados"
   ]
  },
  {
   "cell_type": "code",
   "execution_count": 6,
   "id": "593ac023",
   "metadata": {},
   "outputs": [
    {
     "data": {
      "text/plain": [
       "array(['Iguatemi Campinas', 'Iguatemi Esplanada', 'Norte Shopping',\n",
       "       'Bourbon Shopping SP', 'Center Shopping Uberlândia'], dtype=object)"
      ]
     },
     "execution_count": 6,
     "metadata": {},
     "output_type": "execute_result"
    }
   ],
   "source": [
    "base['id'].unique() #quais lojas aparecem"
   ]
  },
  {
   "cell_type": "code",
   "execution_count": 7,
   "id": "9670e87f",
   "metadata": {
    "scrolled": false
   },
   "outputs": [
    {
     "data": {
      "text/plain": [
       "Iguatemi Campinas             16\n",
       "Iguatemi Esplanada             8\n",
       "Norte Shopping                11\n",
       "Bourbon Shopping SP           13\n",
       "Center Shopping Uberlândia     9\n",
       "Name: id, dtype: int64"
      ]
     },
     "execution_count": 7,
     "metadata": {},
     "output_type": "execute_result"
    }
   ],
   "source": [
    "base['id'].value_counts(sort=False) #quantidade de vezes que loja foi observada"
   ]
  },
  {
   "cell_type": "code",
   "execution_count": 8,
   "id": "9d2b27ee",
   "metadata": {},
   "outputs": [
    {
     "ename": "SyntaxError",
     "evalue": "invalid syntax (<ipython-input-8-51cd41521e0c>, line 1)",
     "output_type": "error",
     "traceback": [
      "\u001b[1;36m  File \u001b[1;32m\"<ipython-input-8-51cd41521e0c>\"\u001b[1;36m, line \u001b[1;32m1\u001b[0m\n\u001b[1;33m    Iremos fazer uma análise mais detalhada da base de dados, por loja, na seção 3. Por ora, cabe essa noção de quais lojas aparecem e com que frequência\u001b[0m\n\u001b[1;37m           ^\u001b[0m\n\u001b[1;31mSyntaxError\u001b[0m\u001b[1;31m:\u001b[0m invalid syntax\n"
     ]
    }
   ],
   "source": [
    "Iremos fazer uma análise mais detalhada da base de dados, por loja, na seção 3. Por ora, cabe essa noção de quais lojas aparecem e com que frequência"
   ]
  },
  {
   "cell_type": "markdown",
   "id": "0ff769cb",
   "metadata": {},
   "source": [
    "### 2.2) Analisando valor acumulado das vendas (valor final)"
   ]
  },
  {
   "cell_type": "code",
   "execution_count": null,
   "id": "4debcbb8",
   "metadata": {
    "scrolled": false
   },
   "outputs": [],
   "source": [
    "plt.figure(figsize=(7, 4))\n",
    "sns.distplot(base['v_f'], bins=3, \n",
    "             axlabel=\"Valor Final (R\\$)\", \n",
    "             color=\"green\",\n",
    "             label = \"Valor Final (R\\$)\")\n",
    "\n",
    "plt.title(\"Densidade e Histograma do Valor Final (R\\$)\")\n",
    "plt.legend()"
   ]
  },
  {
   "cell_type": "code",
   "execution_count": null,
   "id": "a2142b76",
   "metadata": {
    "scrolled": false
   },
   "outputs": [],
   "source": [
    "base['v_f'].describe() "
   ]
  },
  {
   "cell_type": "markdown",
   "id": "eca90d41",
   "metadata": {},
   "source": [
    "<B> Comentários </B>: <br>\n",
    "<br>    \n",
    "A partir do comando 'describe' notamos que 57 vendas foram observadas. Nesse conjunto de dados notamos que um cliente aleatório inviste em média $R\\$980$ reais na BMD.\n",
    "\n",
    "Entretanto, como notamos no histograma apresentado e nas medidas 'std' (desvio padrão), 'min' (mínimo) e 'max' (máximo), existe uma grande variação no valor final de uma venda: Houveram clientes cujas compras somaram valores relativamente baixos, como $R\\$150$, e outros cujo investimento total foi de quase $R\\$16.000$. \n",
    "\n",
    "Entretanto, a maior parte dos clientes tendem a gastar \"pouco\", ou seja, até 5 mil reais na empresa. Percebemos pelo gráfico que em poucas vezes o valor final foi maior que este número. "
   ]
  },
  {
   "cell_type": "markdown",
   "id": "d5cb5788",
   "metadata": {},
   "source": [
    "## 2.3) Analisando pelo período em que ocorreram as vendas"
   ]
  },
  {
   "cell_type": "code",
   "execution_count": null,
   "id": "d4322732",
   "metadata": {},
   "outputs": [],
   "source": [
    "base['data'].describe()"
   ]
  },
  {
   "cell_type": "markdown",
   "id": "71134725",
   "metadata": {},
   "source": [
    "Como as datas estão no tipo \"aaaa-mm-dd\" e sabemos que todas as vendas ocorreram em dezembro de 2019, a analise será feita com a distinção dos dias do mês e dias da semana. Assim:"
   ]
  },
  {
   "cell_type": "code",
   "execution_count": null,
   "id": "191457f6",
   "metadata": {},
   "outputs": [],
   "source": [
    "v_data = list()\n",
    "for i in range(len(base)):\n",
    "    v_data.append(base['data'][i].strftime(\"%d\"))\n",
    "    i = i+1"
   ]
  },
  {
   "cell_type": "code",
   "execution_count": null,
   "id": "6800297d",
   "metadata": {},
   "outputs": [],
   "source": [
    "#quantidade por data"
   ]
  },
  {
   "cell_type": "code",
   "execution_count": null,
   "id": "131d2cac",
   "metadata": {
    "scrolled": false
   },
   "outputs": [],
   "source": [
    "plt.figure(figsize=(7, 4))\n",
    "plt.plot(v_data,base['v_f'], color=\"green\")\n",
    "plt.title(\"Valor Final de Vendas ao longo de Dezembro/19\")\n",
    "plt.show()"
   ]
  },
  {
   "cell_type": "markdown",
   "id": "1a688eb3",
   "metadata": {},
   "source": [
    "<B> Comentários </B>: <br>\n",
    "<br>    \n",
    "É possível perceber que o maior valor final das vendas (quantidade de produtos * valor unitário do produto) ocorreu no dias 25, sendo maior que $R\\$14.000$. Como nesse dia comemoramos o Natal e muitas pessoas compram seu presente na \"última hora\", faz sentido o aumento exponencial deste indicador.\n",
    "\n",
    "É importante observar, entretanto, que durante a maior parte do tempo, ou seja, entre os dias 05 e 23, o valor final das vendas foi constantemente baixo: abaixo de $R\\$2.000$.\n",
    "\n",
    "No gráfico abaixo vemos que a quantidade de produtos vendidos no dia teve comportamento identico ao do valor final das vendas. Essa situação faz sentido, visto que o valor final das vendas aumenta conforme a quantidade de produtos vendidos aumenta. Com"
   ]
  },
  {
   "cell_type": "code",
   "execution_count": null,
   "id": "77fb1b93",
   "metadata": {},
   "outputs": [],
   "source": [
    "plt.figure(figsize=(7, 4))\n",
    "plt.plot(v_data,base['qtd'], color=\"red\")\n",
    "plt.title(\"Quantidade de Vendas ao longo de Dezembro/19\")\n",
    "plt.show()"
   ]
  },
  {
   "cell_type": "markdown",
   "id": "428054ed",
   "metadata": {},
   "source": [
    "<B> Comentários </B>: <br>\n",
    "<br>    \n",
    "No gráfico acima vemos que a quantidade de produtos vendidos no dia teve comportamento identico ao do valor final das vendas. Essa situação faz sentido, visto que o valor final das vendas aumenta conforme a quantidade de produtos vendidos aumenta. Notamos essa relação no gráfico de dispersão abaixo, o qual, por sua vez, sugere que o valor final da venda pode ser modelado por meio de uma regressão linear simples (que parta da origem) em função da quantidade de vendas."
   ]
  },
  {
   "cell_type": "code",
   "execution_count": null,
   "id": "340fc7af",
   "metadata": {},
   "outputs": [],
   "source": [
    "plt.figure(figsize=(7, 4))\n",
    "plt.scatter(base['qtd'],base['v_f'], color=\"black\")\n",
    "plt.title(\"Quantidade de Vendas vs Valor Final da Venda\")\n",
    "plt.show()"
   ]
  },
  {
   "cell_type": "code",
   "execution_count": null,
   "id": "85388725",
   "metadata": {},
   "outputs": [],
   "source": [
    "v_dias = list()\n",
    "for i in range(len(base)):\n",
    "    v_dias.append(base['data'][i].strftime(\"%A\"))\n",
    "    i = i+1"
   ]
  },
  {
   "cell_type": "code",
   "execution_count": null,
   "id": "f077f8ba",
   "metadata": {},
   "outputs": [],
   "source": [
    "v_dias"
   ]
  },
  {
   "cell_type": "code",
   "execution_count": null,
   "id": "c057cf16",
   "metadata": {},
   "outputs": [],
   "source": [
    "v_dias = ['Domingo',\n",
    "  'Domingo',\n",
    "  'Domingo',\n",
    "  'Domingo',\n",
    "  'Domingo',\n",
    "  'Terça-feira',\n",
    "  'Terça-feira',\n",
    "  'Terça-feira',\n",
    "  'Terça-feira',\n",
    "  'Quarta-feira',\n",
    "  'Quarta-feira',\n",
    "  'Quarta-feira',\n",
    "  'Quarta-feira',\n",
    "  'Quinta-feira',\n",
    "  'Quinta-feira',\n",
    "  'Quinta-feira',\n",
    "  'Sexta-feira',\n",
    "  'Sábado',\n",
    "  'Sábado',\n",
    "  'Domingo',\n",
    "  'Domingo',\n",
    "  'Segunda-feira',\n",
    "  'Terça-feira',\n",
    "  'Quarta-feira',\n",
    "  'Quarta-feira',\n",
    "  'Quinta-feira',\n",
    "  'Sábado',\n",
    "  'Domingo',\n",
    "  'Domingo',\n",
    "  'Domingo',\n",
    "  'Segunda-feira',\n",
    "  'Segunda-feira',\n",
    "  'Terça-feira',\n",
    "  'Terça-feira',\n",
    "  'Terça-feira',\n",
    "  'Terça-feira',\n",
    "  'Quarta-feira',\n",
    "  'Quarta-feira',\n",
    "  'Quinta-feira',\n",
    "  'Quinta-feira',\n",
    "  'Quinta-feira',\n",
    "  'Quinta-feira',\n",
    "  'Sexta-feira',\n",
    "  'Sexta-feira',\n",
    "  'Sábado',\n",
    "  'Sábado',\n",
    "  'Sábado',\n",
    "  'Domingo',\n",
    "  'Domingo',\n",
    "  'Segunda-feira',\n",
    "  'Segunda-feira',\n",
    "  'Terça-feira',\n",
    "  'Terça-feira',\n",
    "  'Terça-feira',\n",
    "  'Terça-feira',\n",
    "  'Quarta-feira',\n",
    "  'Quinta-feira']"
   ]
  },
  {
   "cell_type": "code",
   "execution_count": null,
   "id": "415d568f",
   "metadata": {},
   "outputs": [],
   "source": [
    "plt.figure(figsize=(7, 4))\n",
    "plt.bar(v_dias,base['v_f'], color=\"green\")\n",
    "plt.title(\"Valor Acumulado de Vendas em Dezembro por Dia da Semana\")\n",
    "plt.xticks(rotation=45)\n",
    "plt.show()"
   ]
  },
  {
   "cell_type": "markdown",
   "id": "7c064f0f",
   "metadata": {},
   "source": [
    "<B> Comentários </B>: <br>\n",
    "<br>    \n",
    "No gráfico acima notamos que o dia da semana em que houve maior valor acumulado de vendas foi na Quarta-Feira, o dia do Natal daquele ano, seguido da Terça-Feira. Curiosamente, o dia que arrecadou o menor valor foi na Sexta, com menos de $R\\$2.000$ vendidos ao longo do mês. Visualmente, há indicios de que na sexta ocorre a venda final média, cujo investimento é de $R\\$950$.\n",
    "\n",
    "Diante disso os gerentes das lojas poderiam considerar campanhas específicas para aumentar o valor acumulado das vendas durante todo o mês e entre a Sexta-Feira e Segunda-Feira. Além disso, vemos que há maior necessidade de atendimento ao cliente entre Terça-Feira e Quinta-Feira e no dia do Natal. Essas informações podem auxiliar na alocação de seus devidos funcionários."
   ]
  },
  {
   "cell_type": "code",
   "execution_count": null,
   "id": "6fa9ad28",
   "metadata": {},
   "outputs": [],
   "source": [
    "plt.figure(figsize=(7, 4))\n",
    "plt.bar(v_dias,base['qtd'], color=\"red\")\n",
    "plt.title(\"Quantidade de Vendas em Dezembro por Dia da Semana\")\n",
    "plt.xticks(rotation=45)\n",
    "plt.show()"
   ]
  },
  {
   "cell_type": "markdown",
   "id": "7cef37ee",
   "metadata": {},
   "source": [
    "### 2.4) Quanto à quantidade de vendas"
   ]
  },
  {
   "cell_type": "code",
   "execution_count": null,
   "id": "e16d253b",
   "metadata": {
    "scrolled": false
   },
   "outputs": [],
   "source": [
    "plt.figure(figsize=(7, 4))\n",
    "plt.boxplot(base['qtd'])\n",
    "plt.title(\"Boxplot da Quantidade de Produtos Vendidos\")"
   ]
  },
  {
   "cell_type": "markdown",
   "id": "255b881c",
   "metadata": {},
   "source": [
    "É possivel notar 3 observações cuja quantidade de produtos vendidos foi bem acima do comum, configurando como quantidades atípicas (55,78 e 100 bermudas). Esses clientes puxaram a média de quantidade de produtos vendidos pra cima e com certeza também influenciaram o valor final das vendas, investigado inicialmente.\n",
    "\n",
    "Abaixo vemos medidas descritivas dessa variável, bem como a frequência de cada quantidade de produtos vendidos. Aproximadamente 60% das pessoas que compram em BMD adquirem poucos produtos: até 2 bermudas."
   ]
  },
  {
   "cell_type": "code",
   "execution_count": null,
   "id": "282131b7",
   "metadata": {
    "scrolled": false
   },
   "outputs": [],
   "source": [
    "round(base['qtd'].describe(),2)"
   ]
  },
  {
   "cell_type": "code",
   "execution_count": null,
   "id": "6eaed5c1",
   "metadata": {},
   "outputs": [],
   "source": [
    "freq_qtd = base['qtd'].value_counts()\n",
    "freq_qtd"
   ]
  },
  {
   "cell_type": "markdown",
   "id": "35aa91e5",
   "metadata": {},
   "source": [
    "### 2.3) Quanto aos produtos"
   ]
  },
  {
   "cell_type": "code",
   "execution_count": null,
   "id": "a14ce22d",
   "metadata": {},
   "outputs": [],
   "source": [
    "b_est = base[base['produto']=='Bermuda Estampa']\n",
    "\n",
    "b_x = base[base['produto']=='Bermuda Xadrez']\n",
    "\n",
    "b = base[base['produto']=='Bermuda']\n",
    "\n",
    "b_listr =base[base['produto']=='Bermuda Listrado']\n",
    "\n",
    "b_linho = base[base['produto']=='Bermuda Linho']\n",
    "\n",
    "b_liso =base[base['produto']=='Bermuda Liso']"
   ]
  },
  {
   "cell_type": "code",
   "execution_count": null,
   "id": "0367f449",
   "metadata": {},
   "outputs": [],
   "source": [
    "prod = ['Estampa','Xadrez','Basico', 'Listrado','Linho','Liso']\n",
    "\n",
    "quant_prod=[sum(b_est['qtd']),  sum(b_x['qtd']),\n",
    "            sum(b['qtd']), sum(b_listr['qtd']),\n",
    "            sum(b_linho['qtd']), sum(b_liso['qtd'])]\n"
   ]
  },
  {
   "cell_type": "code",
   "execution_count": null,
   "id": "dcaf8cff",
   "metadata": {
    "scrolled": true
   },
   "outputs": [],
   "source": [
    "plt.figure(figsize=(7, 4))\n",
    "plt.bar(prod,quant_prod, color=\"blue\")\n",
    "plt.title(\"Quantidade de Produtos Vendidos\")\n",
    "plt.show()"
   ]
  },
  {
   "cell_type": "code",
   "execution_count": null,
   "id": "f53a13c1",
   "metadata": {},
   "outputs": [],
   "source": [
    "quant_prod"
   ]
  },
  {
   "cell_type": "code",
   "execution_count": null,
   "id": "d9c24c70",
   "metadata": {},
   "outputs": [],
   "source": [
    "valor_uni=[(b_est['v_u'][0]),(b_x['v_u'][1]),\n",
    "            (b['v_u'][2]), (b_listr['v_u'][3]),\n",
    "            (b_linho['v_u'][4]), (b_liso['v_u'][13])]\n",
    "valor_uni\n"
   ]
  },
  {
   "cell_type": "markdown",
   "id": "5072f577",
   "metadata": {},
   "source": [
    "Podemos ver pelo gráfico acima que a bermuda do tipo 'Liso' é a mais popular entre os consumidores, tendo sido vendida mais de 200 vezes no mês, mais de 4 vezes o que as demais venderam.\n",
    "\n",
    "Sugere-se realizar uma pesquisa com os consumidores antes de estocar as bermudas a fim de entender melhor os gostos dos clientes. Vendo os dados, algo que pode ser feito para a empresa não se prejudicar é realizar promoções, a fim de esvaziar o estoque das bermudas que estão saindo pouco. \n",
    "\n",
    "Outra coisa que poderia explicar o destaque da bermuda lisa é o valor, porém, como visto na célula acima, a peça mais barata é a 'Basico' (apenas 'Bermuda' na base de dados), e seu valor é similar ao da 'Liso'. Ou seja, não é como se a quantidade de vendas do tipo 'Liso' se destacasse apenas porque ela é a mais acessível."
   ]
  },
  {
   "cell_type": "markdown",
   "id": "bc09cb36",
   "metadata": {},
   "source": [
    "### 3) Analise por loja"
   ]
  },
  {
   "cell_type": "markdown",
   "id": "cfc240a0",
   "metadata": {},
   "source": [
    "Anteriormente tinhamos mostrado a frequência das lojas observadas na base de dados, mas podemos perceber essa informação de uma maneira melhor, por meio do seguinte gráfico:"
   ]
  },
  {
   "cell_type": "code",
   "execution_count": null,
   "id": "a9449e67",
   "metadata": {},
   "outputs": [],
   "source": [
    "freq_L = base['id'].value_counts(sort=False)\n",
    "freq_lojas = list()\n",
    "for i in range(len(freq_L)):\n",
    "    freq_lojas.append(freq_L[i])\n",
    "    i = i+1"
   ]
  },
  {
   "cell_type": "code",
   "execution_count": null,
   "id": "d99d3c3d",
   "metadata": {},
   "outputs": [],
   "source": [
    "plt.figure(figsize=(7, 4))\n",
    "plt.barh(base['id'].unique(),freq_lojas,color=[\"orange\",\"#45b5a8\",\"purple\",\"yellow\",\"gray\"])\n",
    "plt.title(\"Frequência na Base de Dados\")\n",
    "plt.show()"
   ]
  },
  {
   "cell_type": "markdown",
   "id": "17683f1e",
   "metadata": {},
   "source": [
    "A fim de facilitar a anlise, iremos dividir a base de dados da seguinte maneira: "
   ]
  },
  {
   "cell_type": "code",
   "execution_count": null,
   "id": "e6989b18",
   "metadata": {},
   "outputs": [],
   "source": [
    "campinas = base[base['id']=='Iguatemi Campinas']\n",
    "\n",
    "esplanada = base[base['id']=='Iguatemi Esplanada']\n",
    "\n",
    "norte = base[base['id']=='Norte Shopping']\n",
    "\n",
    "bourbon = base[base['id']=='Bourbon Shopping SP']\n",
    "\n",
    "center = base[base['id']=='Center Shopping Uberlândia']"
   ]
  },
  {
   "cell_type": "code",
   "execution_count": null,
   "id": "b33f5622",
   "metadata": {},
   "outputs": [],
   "source": [
    "quant_lojas=[sum(campinas['qtd']),  sum(esplanada['qtd']),\n",
    "            sum(norte['qtd']), sum(bourbon['qtd']),\n",
    "            sum(center['qtd'])] #vetor da quantidade total de produtos vendidos, por loja\n",
    "\n",
    "vf_lojas=[sum(campinas['v_f']),  sum(esplanada['v_f']),\n",
    "            sum(norte['v_f']), sum(bourbon['v_f']),\n",
    "            sum(center['v_f'])] #vetor do valor final obtido por cada loja"
   ]
  },
  {
   "cell_type": "code",
   "execution_count": null,
   "id": "1d2d2706",
   "metadata": {
    "scrolled": false
   },
   "outputs": [],
   "source": [
    "plt.figure(figsize=(7, 4))\n",
    "plt.bar(base['id'].unique(), quant_lojas, color=[\"orange\",\"#45b5a8\",\"purple\",\"yellow\",\"gray\"])\n",
    "plt.title(\"Quantidade de Produtos Vendidos por Loja\")\n",
    "plt.xticks(rotation=45)\n",
    "plt.legend()"
   ]
  },
  {
   "cell_type": "code",
   "execution_count": null,
   "id": "b1e030fb",
   "metadata": {},
   "outputs": [],
   "source": [
    "quant_lojas"
   ]
  },
  {
   "cell_type": "code",
   "execution_count": null,
   "id": "a126b5ca",
   "metadata": {
    "scrolled": false
   },
   "outputs": [],
   "source": [
    "plt.figure(figsize=(7, 4))\n",
    "plt.bar(base['id'].unique(), vf_lojas, color=[\"orange\",\"#45b5a8\",\"purple\",\"yellow\",\"gray\"])\n",
    "plt.title(\"Valor Final de Vendas por Loja\")\n",
    "plt.xticks(rotation=45)\n",
    "plt.legend()"
   ]
  },
  {
   "cell_type": "code",
   "execution_count": null,
   "id": "5656db15",
   "metadata": {},
   "outputs": [],
   "source": [
    "vf_lojas"
   ]
  },
  {
   "cell_type": "markdown",
   "id": "44e80c68",
   "metadata": {},
   "source": [
    "<B> Comentários </B>: <br>\n",
    "<br>    \n",
    "Notamos que a loja presente em 'Iguatemi Esplanada' é a que menos aparece na base de dados. Desse modo, esperavamos que essa seria a filial que menos vendeu produtos e que acumulou menos dinheiro ao fim do período observado. Do mesmo modo, como \"Iguatemi Campinas\" possui maior frequência nas observações, ela teria maior impacto nas medidas que estamos investigando.\n",
    "\n",
    "Com os gráficos do Valor Final de vendas que cada loja acumulou vemos que \"Iguatemi Campinas\" de fato possui maior participação na geração de receita de BMD, enquanto a participação das demais são similares. Entretanto, ela vende mais do que 5x a mais que as outras lojas. \n",
    "\n",
    "Embora \"Iguatemi Campinas\" tenha sido considerada 16 vezes em nossa amostra, as outras lojas foram entre 8 e 13 vezes, ou seja, esse valor não é tão diferente a ponto de justificar um valor final de vendas acumulado tão baixo para as demais lojas ou tão expressivo para \"Iguatemi Campinas\". Ademais, o preço dos produtos são os mesmos nas diferentes filiais. \n",
    "\n",
    "Recomenda-se análise mais profunda de outras características das filiais para entender o motivo de \"Iguatemi Campinas\" se destacar."
   ]
  },
  {
   "cell_type": "code",
   "execution_count": null,
   "id": "6d74a809",
   "metadata": {},
   "outputs": [],
   "source": [
    "#média de quqntidade vendida por loja\n",
    "\n",
    "#media de valor final por loja\n",
    "\n",
    "#tipo de bermuda vendido por loja\n",
    "\n",
    "#por periodo"
   ]
  }
 ],
 "metadata": {
  "kernelspec": {
   "display_name": "Python 3",
   "language": "python",
   "name": "python3"
  },
  "language_info": {
   "codemirror_mode": {
    "name": "ipython",
    "version": 3
   },
   "file_extension": ".py",
   "mimetype": "text/x-python",
   "name": "python",
   "nbconvert_exporter": "python",
   "pygments_lexer": "ipython3",
   "version": "3.9.4"
  }
 },
 "nbformat": 4,
 "nbformat_minor": 5
}
