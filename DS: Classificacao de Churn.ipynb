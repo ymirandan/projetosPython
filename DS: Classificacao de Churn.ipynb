{
  "nbformat": 4,
  "nbformat_minor": 0,
  "metadata": {
    "colab": {
      "provenance": [],
      "toc_visible": true,
      "authorship_tag": "ABX9TyNmXx7hPoUWX+643s9Dzwnh",
      "include_colab_link": true
    },
    "kernelspec": {
      "name": "python3",
      "display_name": "Python 3"
    },
    "language_info": {
      "name": "python"
    }
  },
  "cells": [
    {
      "cell_type": "markdown",
      "metadata": {
        "id": "view-in-github",
        "colab_type": "text"
      },
      "source": [
        "<a href=\"https://colab.research.google.com/github/ymirandan/projetosPython/blob/main/DS%3A%20Classificacao%20de%20Churn\" target=\"_parent\"><img src=\"https://colab.research.google.com/assets/colab-badge.svg\" alt=\"Open In Colab\"/></a>"
      ]
    },
    {
      "cell_type": "markdown",
      "source": [
        "# Objetivo:\n",
        "definir se cliente sairá da empresa telefonica (churn) a partir das variaveis apresentadas"
      ],
      "metadata": {
        "id": "fXEFGO1lYJSM"
      }
    },
    {
      "cell_type": "markdown",
      "source": [
        "# 1: Importando os dados e noções das dimensões\n"
      ],
      "metadata": {
        "id": "SRiLsF7yXPap"
      }
    },
    {
      "cell_type": "code",
      "execution_count": 1,
      "metadata": {
        "id": "3mIxDStqUxIl"
      },
      "outputs": [],
      "source": [
        "import pandas as pd"
      ]
    },
    {
      "cell_type": "code",
      "source": [
        "dados = pd.read_csv('/content/Customer-Churn.csv')"
      ],
      "metadata": {
        "id": "p1mq0UVzXL-X"
      },
      "execution_count": 2,
      "outputs": []
    },
    {
      "cell_type": "code",
      "source": [
        "dados.shape"
      ],
      "metadata": {
        "colab": {
          "base_uri": "https://localhost:8080/"
        },
        "id": "U68_n4Y9Xjdg",
        "outputId": "9c104bae-58e0-450d-f0ff-f229ea768f4a"
      },
      "execution_count": 3,
      "outputs": [
        {
          "output_type": "execute_result",
          "data": {
            "text/plain": [
              "(7043, 18)"
            ]
          },
          "metadata": {},
          "execution_count": 3
        }
      ]
    },
    {
      "cell_type": "code",
      "source": [
        "dados.head()"
      ],
      "metadata": {
        "colab": {
          "base_uri": "https://localhost:8080/",
          "height": 226
        },
        "id": "xhhu_YiUXsFI",
        "outputId": "fb714b05-9490-4a0a-b2e6-be21adcc2a16"
      },
      "execution_count": 4,
      "outputs": [
        {
          "output_type": "execute_result",
          "data": {
            "text/plain": [
              "   Maior65Anos Conjuge Dependentes  MesesDeContrato TelefoneFixo  \\\n",
              "0            0     Sim         Nao                1          Nao   \n",
              "1            0     Nao         Nao               34          Sim   \n",
              "2            0     Nao         Nao                2          Sim   \n",
              "3            0     Nao         Nao               45          Nao   \n",
              "4            0     Nao         Nao                2          Sim   \n",
              "\n",
              "  VariasLinhasTelefonicas ServicoDeInternet SegurancaOnline BackupOnline  \\\n",
              "0    SemServicoTelefonico               DSL             Nao          Sim   \n",
              "1                     Nao               DSL             Sim          Nao   \n",
              "2                     Nao               DSL             Sim          Sim   \n",
              "3    SemServicoTelefonico               DSL             Sim          Nao   \n",
              "4                     Nao       FibraOptica             Nao          Nao   \n",
              "\n",
              "  SeguroNoDispositivo SuporteTecnico TVaCabo StreamingDeFilmes TipoDeContrato  \\\n",
              "0                 Nao            Nao     Nao               Nao    Mensalmente   \n",
              "1                 Sim            Nao     Nao               Nao          UmAno   \n",
              "2                 Nao            Nao     Nao               Nao    Mensalmente   \n",
              "3                 Sim            Sim     Nao               Nao          UmAno   \n",
              "4                 Nao            Nao     Nao               Nao    Mensalmente   \n",
              "\n",
              "  PagamentoOnline FormaDePagamento  ContaMensal Churn  \n",
              "0             Sim    ChequeDigital        29.85   Nao  \n",
              "1             Nao      ChequePapel        56.95   Nao  \n",
              "2             Sim      ChequePapel        53.85   Sim  \n",
              "3             Nao    DebitoEmConta        42.30   Nao  \n",
              "4             Sim    ChequeDigital        70.70   Sim  "
            ],
            "text/html": [
              "\n",
              "  <div id=\"df-5c24b270-df6c-49d3-9563-12df39a21e71\" class=\"colab-df-container\">\n",
              "    <div>\n",
              "<style scoped>\n",
              "    .dataframe tbody tr th:only-of-type {\n",
              "        vertical-align: middle;\n",
              "    }\n",
              "\n",
              "    .dataframe tbody tr th {\n",
              "        vertical-align: top;\n",
              "    }\n",
              "\n",
              "    .dataframe thead th {\n",
              "        text-align: right;\n",
              "    }\n",
              "</style>\n",
              "<table border=\"1\" class=\"dataframe\">\n",
              "  <thead>\n",
              "    <tr style=\"text-align: right;\">\n",
              "      <th></th>\n",
              "      <th>Maior65Anos</th>\n",
              "      <th>Conjuge</th>\n",
              "      <th>Dependentes</th>\n",
              "      <th>MesesDeContrato</th>\n",
              "      <th>TelefoneFixo</th>\n",
              "      <th>VariasLinhasTelefonicas</th>\n",
              "      <th>ServicoDeInternet</th>\n",
              "      <th>SegurancaOnline</th>\n",
              "      <th>BackupOnline</th>\n",
              "      <th>SeguroNoDispositivo</th>\n",
              "      <th>SuporteTecnico</th>\n",
              "      <th>TVaCabo</th>\n",
              "      <th>StreamingDeFilmes</th>\n",
              "      <th>TipoDeContrato</th>\n",
              "      <th>PagamentoOnline</th>\n",
              "      <th>FormaDePagamento</th>\n",
              "      <th>ContaMensal</th>\n",
              "      <th>Churn</th>\n",
              "    </tr>\n",
              "  </thead>\n",
              "  <tbody>\n",
              "    <tr>\n",
              "      <th>0</th>\n",
              "      <td>0</td>\n",
              "      <td>Sim</td>\n",
              "      <td>Nao</td>\n",
              "      <td>1</td>\n",
              "      <td>Nao</td>\n",
              "      <td>SemServicoTelefonico</td>\n",
              "      <td>DSL</td>\n",
              "      <td>Nao</td>\n",
              "      <td>Sim</td>\n",
              "      <td>Nao</td>\n",
              "      <td>Nao</td>\n",
              "      <td>Nao</td>\n",
              "      <td>Nao</td>\n",
              "      <td>Mensalmente</td>\n",
              "      <td>Sim</td>\n",
              "      <td>ChequeDigital</td>\n",
              "      <td>29.85</td>\n",
              "      <td>Nao</td>\n",
              "    </tr>\n",
              "    <tr>\n",
              "      <th>1</th>\n",
              "      <td>0</td>\n",
              "      <td>Nao</td>\n",
              "      <td>Nao</td>\n",
              "      <td>34</td>\n",
              "      <td>Sim</td>\n",
              "      <td>Nao</td>\n",
              "      <td>DSL</td>\n",
              "      <td>Sim</td>\n",
              "      <td>Nao</td>\n",
              "      <td>Sim</td>\n",
              "      <td>Nao</td>\n",
              "      <td>Nao</td>\n",
              "      <td>Nao</td>\n",
              "      <td>UmAno</td>\n",
              "      <td>Nao</td>\n",
              "      <td>ChequePapel</td>\n",
              "      <td>56.95</td>\n",
              "      <td>Nao</td>\n",
              "    </tr>\n",
              "    <tr>\n",
              "      <th>2</th>\n",
              "      <td>0</td>\n",
              "      <td>Nao</td>\n",
              "      <td>Nao</td>\n",
              "      <td>2</td>\n",
              "      <td>Sim</td>\n",
              "      <td>Nao</td>\n",
              "      <td>DSL</td>\n",
              "      <td>Sim</td>\n",
              "      <td>Sim</td>\n",
              "      <td>Nao</td>\n",
              "      <td>Nao</td>\n",
              "      <td>Nao</td>\n",
              "      <td>Nao</td>\n",
              "      <td>Mensalmente</td>\n",
              "      <td>Sim</td>\n",
              "      <td>ChequePapel</td>\n",
              "      <td>53.85</td>\n",
              "      <td>Sim</td>\n",
              "    </tr>\n",
              "    <tr>\n",
              "      <th>3</th>\n",
              "      <td>0</td>\n",
              "      <td>Nao</td>\n",
              "      <td>Nao</td>\n",
              "      <td>45</td>\n",
              "      <td>Nao</td>\n",
              "      <td>SemServicoTelefonico</td>\n",
              "      <td>DSL</td>\n",
              "      <td>Sim</td>\n",
              "      <td>Nao</td>\n",
              "      <td>Sim</td>\n",
              "      <td>Sim</td>\n",
              "      <td>Nao</td>\n",
              "      <td>Nao</td>\n",
              "      <td>UmAno</td>\n",
              "      <td>Nao</td>\n",
              "      <td>DebitoEmConta</td>\n",
              "      <td>42.30</td>\n",
              "      <td>Nao</td>\n",
              "    </tr>\n",
              "    <tr>\n",
              "      <th>4</th>\n",
              "      <td>0</td>\n",
              "      <td>Nao</td>\n",
              "      <td>Nao</td>\n",
              "      <td>2</td>\n",
              "      <td>Sim</td>\n",
              "      <td>Nao</td>\n",
              "      <td>FibraOptica</td>\n",
              "      <td>Nao</td>\n",
              "      <td>Nao</td>\n",
              "      <td>Nao</td>\n",
              "      <td>Nao</td>\n",
              "      <td>Nao</td>\n",
              "      <td>Nao</td>\n",
              "      <td>Mensalmente</td>\n",
              "      <td>Sim</td>\n",
              "      <td>ChequeDigital</td>\n",
              "      <td>70.70</td>\n",
              "      <td>Sim</td>\n",
              "    </tr>\n",
              "  </tbody>\n",
              "</table>\n",
              "</div>\n",
              "    <div class=\"colab-df-buttons\">\n",
              "\n",
              "  <div class=\"colab-df-container\">\n",
              "    <button class=\"colab-df-convert\" onclick=\"convertToInteractive('df-5c24b270-df6c-49d3-9563-12df39a21e71')\"\n",
              "            title=\"Convert this dataframe to an interactive table.\"\n",
              "            style=\"display:none;\">\n",
              "\n",
              "  <svg xmlns=\"http://www.w3.org/2000/svg\" height=\"24px\" viewBox=\"0 -960 960 960\">\n",
              "    <path d=\"M120-120v-720h720v720H120Zm60-500h600v-160H180v160Zm220 220h160v-160H400v160Zm0 220h160v-160H400v160ZM180-400h160v-160H180v160Zm440 0h160v-160H620v160ZM180-180h160v-160H180v160Zm440 0h160v-160H620v160Z\"/>\n",
              "  </svg>\n",
              "    </button>\n",
              "\n",
              "  <style>\n",
              "    .colab-df-container {\n",
              "      display:flex;\n",
              "      gap: 12px;\n",
              "    }\n",
              "\n",
              "    .colab-df-convert {\n",
              "      background-color: #E8F0FE;\n",
              "      border: none;\n",
              "      border-radius: 50%;\n",
              "      cursor: pointer;\n",
              "      display: none;\n",
              "      fill: #1967D2;\n",
              "      height: 32px;\n",
              "      padding: 0 0 0 0;\n",
              "      width: 32px;\n",
              "    }\n",
              "\n",
              "    .colab-df-convert:hover {\n",
              "      background-color: #E2EBFA;\n",
              "      box-shadow: 0px 1px 2px rgba(60, 64, 67, 0.3), 0px 1px 3px 1px rgba(60, 64, 67, 0.15);\n",
              "      fill: #174EA6;\n",
              "    }\n",
              "\n",
              "    .colab-df-buttons div {\n",
              "      margin-bottom: 4px;\n",
              "    }\n",
              "\n",
              "    [theme=dark] .colab-df-convert {\n",
              "      background-color: #3B4455;\n",
              "      fill: #D2E3FC;\n",
              "    }\n",
              "\n",
              "    [theme=dark] .colab-df-convert:hover {\n",
              "      background-color: #434B5C;\n",
              "      box-shadow: 0px 1px 3px 1px rgba(0, 0, 0, 0.15);\n",
              "      filter: drop-shadow(0px 1px 2px rgba(0, 0, 0, 0.3));\n",
              "      fill: #FFFFFF;\n",
              "    }\n",
              "  </style>\n",
              "\n",
              "    <script>\n",
              "      const buttonEl =\n",
              "        document.querySelector('#df-5c24b270-df6c-49d3-9563-12df39a21e71 button.colab-df-convert');\n",
              "      buttonEl.style.display =\n",
              "        google.colab.kernel.accessAllowed ? 'block' : 'none';\n",
              "\n",
              "      async function convertToInteractive(key) {\n",
              "        const element = document.querySelector('#df-5c24b270-df6c-49d3-9563-12df39a21e71');\n",
              "        const dataTable =\n",
              "          await google.colab.kernel.invokeFunction('convertToInteractive',\n",
              "                                                    [key], {});\n",
              "        if (!dataTable) return;\n",
              "\n",
              "        const docLinkHtml = 'Like what you see? Visit the ' +\n",
              "          '<a target=\"_blank\" href=https://colab.research.google.com/notebooks/data_table.ipynb>data table notebook</a>'\n",
              "          + ' to learn more about interactive tables.';\n",
              "        element.innerHTML = '';\n",
              "        dataTable['output_type'] = 'display_data';\n",
              "        await google.colab.output.renderOutput(dataTable, element);\n",
              "        const docLink = document.createElement('div');\n",
              "        docLink.innerHTML = docLinkHtml;\n",
              "        element.appendChild(docLink);\n",
              "      }\n",
              "    </script>\n",
              "  </div>\n",
              "\n",
              "\n",
              "<div id=\"df-5b7d9492-5c53-4a1d-866f-21edaf114006\">\n",
              "  <button class=\"colab-df-quickchart\" onclick=\"quickchart('df-5b7d9492-5c53-4a1d-866f-21edaf114006')\"\n",
              "            title=\"Suggest charts\"\n",
              "            style=\"display:none;\">\n",
              "\n",
              "<svg xmlns=\"http://www.w3.org/2000/svg\" height=\"24px\"viewBox=\"0 0 24 24\"\n",
              "     width=\"24px\">\n",
              "    <g>\n",
              "        <path d=\"M19 3H5c-1.1 0-2 .9-2 2v14c0 1.1.9 2 2 2h14c1.1 0 2-.9 2-2V5c0-1.1-.9-2-2-2zM9 17H7v-7h2v7zm4 0h-2V7h2v10zm4 0h-2v-4h2v4z\"/>\n",
              "    </g>\n",
              "</svg>\n",
              "  </button>\n",
              "\n",
              "<style>\n",
              "  .colab-df-quickchart {\n",
              "      --bg-color: #E8F0FE;\n",
              "      --fill-color: #1967D2;\n",
              "      --hover-bg-color: #E2EBFA;\n",
              "      --hover-fill-color: #174EA6;\n",
              "      --disabled-fill-color: #AAA;\n",
              "      --disabled-bg-color: #DDD;\n",
              "  }\n",
              "\n",
              "  [theme=dark] .colab-df-quickchart {\n",
              "      --bg-color: #3B4455;\n",
              "      --fill-color: #D2E3FC;\n",
              "      --hover-bg-color: #434B5C;\n",
              "      --hover-fill-color: #FFFFFF;\n",
              "      --disabled-bg-color: #3B4455;\n",
              "      --disabled-fill-color: #666;\n",
              "  }\n",
              "\n",
              "  .colab-df-quickchart {\n",
              "    background-color: var(--bg-color);\n",
              "    border: none;\n",
              "    border-radius: 50%;\n",
              "    cursor: pointer;\n",
              "    display: none;\n",
              "    fill: var(--fill-color);\n",
              "    height: 32px;\n",
              "    padding: 0;\n",
              "    width: 32px;\n",
              "  }\n",
              "\n",
              "  .colab-df-quickchart:hover {\n",
              "    background-color: var(--hover-bg-color);\n",
              "    box-shadow: 0 1px 2px rgba(60, 64, 67, 0.3), 0 1px 3px 1px rgba(60, 64, 67, 0.15);\n",
              "    fill: var(--button-hover-fill-color);\n",
              "  }\n",
              "\n",
              "  .colab-df-quickchart-complete:disabled,\n",
              "  .colab-df-quickchart-complete:disabled:hover {\n",
              "    background-color: var(--disabled-bg-color);\n",
              "    fill: var(--disabled-fill-color);\n",
              "    box-shadow: none;\n",
              "  }\n",
              "\n",
              "  .colab-df-spinner {\n",
              "    border: 2px solid var(--fill-color);\n",
              "    border-color: transparent;\n",
              "    border-bottom-color: var(--fill-color);\n",
              "    animation:\n",
              "      spin 1s steps(1) infinite;\n",
              "  }\n",
              "\n",
              "  @keyframes spin {\n",
              "    0% {\n",
              "      border-color: transparent;\n",
              "      border-bottom-color: var(--fill-color);\n",
              "      border-left-color: var(--fill-color);\n",
              "    }\n",
              "    20% {\n",
              "      border-color: transparent;\n",
              "      border-left-color: var(--fill-color);\n",
              "      border-top-color: var(--fill-color);\n",
              "    }\n",
              "    30% {\n",
              "      border-color: transparent;\n",
              "      border-left-color: var(--fill-color);\n",
              "      border-top-color: var(--fill-color);\n",
              "      border-right-color: var(--fill-color);\n",
              "    }\n",
              "    40% {\n",
              "      border-color: transparent;\n",
              "      border-right-color: var(--fill-color);\n",
              "      border-top-color: var(--fill-color);\n",
              "    }\n",
              "    60% {\n",
              "      border-color: transparent;\n",
              "      border-right-color: var(--fill-color);\n",
              "    }\n",
              "    80% {\n",
              "      border-color: transparent;\n",
              "      border-right-color: var(--fill-color);\n",
              "      border-bottom-color: var(--fill-color);\n",
              "    }\n",
              "    90% {\n",
              "      border-color: transparent;\n",
              "      border-bottom-color: var(--fill-color);\n",
              "    }\n",
              "  }\n",
              "</style>\n",
              "\n",
              "  <script>\n",
              "    async function quickchart(key) {\n",
              "      const quickchartButtonEl =\n",
              "        document.querySelector('#' + key + ' button');\n",
              "      quickchartButtonEl.disabled = true;  // To prevent multiple clicks.\n",
              "      quickchartButtonEl.classList.add('colab-df-spinner');\n",
              "      try {\n",
              "        const charts = await google.colab.kernel.invokeFunction(\n",
              "            'suggestCharts', [key], {});\n",
              "      } catch (error) {\n",
              "        console.error('Error during call to suggestCharts:', error);\n",
              "      }\n",
              "      quickchartButtonEl.classList.remove('colab-df-spinner');\n",
              "      quickchartButtonEl.classList.add('colab-df-quickchart-complete');\n",
              "    }\n",
              "    (() => {\n",
              "      let quickchartButtonEl =\n",
              "        document.querySelector('#df-5b7d9492-5c53-4a1d-866f-21edaf114006 button');\n",
              "      quickchartButtonEl.style.display =\n",
              "        google.colab.kernel.accessAllowed ? 'block' : 'none';\n",
              "    })();\n",
              "  </script>\n",
              "</div>\n",
              "\n",
              "    </div>\n",
              "  </div>\n"
            ]
          },
          "metadata": {},
          "execution_count": 4
        }
      ]
    },
    {
      "cell_type": "markdown",
      "source": [
        "Percebemos diversas variáveis categóricas. Apenas uma dimensao, o valor da conta, é numérica.\n",
        "\n",
        "Para trabalhar com algoritmo de ML, iremos transformar as variaveis categoricas em numericas"
      ],
      "metadata": {
        "id": "Hb_EKhtdYjfK"
      }
    },
    {
      "cell_type": "markdown",
      "source": [
        "# 2 - Modificação de variaveis categoricas para variaveis binarias"
      ],
      "metadata": {
        "id": "zrO_s2GualrX"
      }
    },
    {
      "cell_type": "code",
      "source": [
        "traducao_dic = {'Sim':1,\n",
        "                'Nao':0}\n",
        "dados_modificados = dados[['Conjuge','Dependentes','TelefoneFixo','PagamentoOnline','Churn']].replace(traducao_dic)\n",
        "dados_modificados.head()"
      ],
      "metadata": {
        "colab": {
          "base_uri": "https://localhost:8080/",
          "height": 206
        },
        "id": "iYkKkPFDYHwm",
        "outputId": "36f89d85-5d37-4e4a-d880-94d0d832abb4"
      },
      "execution_count": 5,
      "outputs": [
        {
          "output_type": "execute_result",
          "data": {
            "text/plain": [
              "   Conjuge  Dependentes  TelefoneFixo  PagamentoOnline  Churn\n",
              "0        1            0             0                1      0\n",
              "1        0            0             1                0      0\n",
              "2        0            0             1                1      1\n",
              "3        0            0             0                0      0\n",
              "4        0            0             1                1      1"
            ],
            "text/html": [
              "\n",
              "  <div id=\"df-26664faf-c256-44bc-bf9a-f19f90760274\" class=\"colab-df-container\">\n",
              "    <div>\n",
              "<style scoped>\n",
              "    .dataframe tbody tr th:only-of-type {\n",
              "        vertical-align: middle;\n",
              "    }\n",
              "\n",
              "    .dataframe tbody tr th {\n",
              "        vertical-align: top;\n",
              "    }\n",
              "\n",
              "    .dataframe thead th {\n",
              "        text-align: right;\n",
              "    }\n",
              "</style>\n",
              "<table border=\"1\" class=\"dataframe\">\n",
              "  <thead>\n",
              "    <tr style=\"text-align: right;\">\n",
              "      <th></th>\n",
              "      <th>Conjuge</th>\n",
              "      <th>Dependentes</th>\n",
              "      <th>TelefoneFixo</th>\n",
              "      <th>PagamentoOnline</th>\n",
              "      <th>Churn</th>\n",
              "    </tr>\n",
              "  </thead>\n",
              "  <tbody>\n",
              "    <tr>\n",
              "      <th>0</th>\n",
              "      <td>1</td>\n",
              "      <td>0</td>\n",
              "      <td>0</td>\n",
              "      <td>1</td>\n",
              "      <td>0</td>\n",
              "    </tr>\n",
              "    <tr>\n",
              "      <th>1</th>\n",
              "      <td>0</td>\n",
              "      <td>0</td>\n",
              "      <td>1</td>\n",
              "      <td>0</td>\n",
              "      <td>0</td>\n",
              "    </tr>\n",
              "    <tr>\n",
              "      <th>2</th>\n",
              "      <td>0</td>\n",
              "      <td>0</td>\n",
              "      <td>1</td>\n",
              "      <td>1</td>\n",
              "      <td>1</td>\n",
              "    </tr>\n",
              "    <tr>\n",
              "      <th>3</th>\n",
              "      <td>0</td>\n",
              "      <td>0</td>\n",
              "      <td>0</td>\n",
              "      <td>0</td>\n",
              "      <td>0</td>\n",
              "    </tr>\n",
              "    <tr>\n",
              "      <th>4</th>\n",
              "      <td>0</td>\n",
              "      <td>0</td>\n",
              "      <td>1</td>\n",
              "      <td>1</td>\n",
              "      <td>1</td>\n",
              "    </tr>\n",
              "  </tbody>\n",
              "</table>\n",
              "</div>\n",
              "    <div class=\"colab-df-buttons\">\n",
              "\n",
              "  <div class=\"colab-df-container\">\n",
              "    <button class=\"colab-df-convert\" onclick=\"convertToInteractive('df-26664faf-c256-44bc-bf9a-f19f90760274')\"\n",
              "            title=\"Convert this dataframe to an interactive table.\"\n",
              "            style=\"display:none;\">\n",
              "\n",
              "  <svg xmlns=\"http://www.w3.org/2000/svg\" height=\"24px\" viewBox=\"0 -960 960 960\">\n",
              "    <path d=\"M120-120v-720h720v720H120Zm60-500h600v-160H180v160Zm220 220h160v-160H400v160Zm0 220h160v-160H400v160ZM180-400h160v-160H180v160Zm440 0h160v-160H620v160ZM180-180h160v-160H180v160Zm440 0h160v-160H620v160Z\"/>\n",
              "  </svg>\n",
              "    </button>\n",
              "\n",
              "  <style>\n",
              "    .colab-df-container {\n",
              "      display:flex;\n",
              "      gap: 12px;\n",
              "    }\n",
              "\n",
              "    .colab-df-convert {\n",
              "      background-color: #E8F0FE;\n",
              "      border: none;\n",
              "      border-radius: 50%;\n",
              "      cursor: pointer;\n",
              "      display: none;\n",
              "      fill: #1967D2;\n",
              "      height: 32px;\n",
              "      padding: 0 0 0 0;\n",
              "      width: 32px;\n",
              "    }\n",
              "\n",
              "    .colab-df-convert:hover {\n",
              "      background-color: #E2EBFA;\n",
              "      box-shadow: 0px 1px 2px rgba(60, 64, 67, 0.3), 0px 1px 3px 1px rgba(60, 64, 67, 0.15);\n",
              "      fill: #174EA6;\n",
              "    }\n",
              "\n",
              "    .colab-df-buttons div {\n",
              "      margin-bottom: 4px;\n",
              "    }\n",
              "\n",
              "    [theme=dark] .colab-df-convert {\n",
              "      background-color: #3B4455;\n",
              "      fill: #D2E3FC;\n",
              "    }\n",
              "\n",
              "    [theme=dark] .colab-df-convert:hover {\n",
              "      background-color: #434B5C;\n",
              "      box-shadow: 0px 1px 3px 1px rgba(0, 0, 0, 0.15);\n",
              "      filter: drop-shadow(0px 1px 2px rgba(0, 0, 0, 0.3));\n",
              "      fill: #FFFFFF;\n",
              "    }\n",
              "  </style>\n",
              "\n",
              "    <script>\n",
              "      const buttonEl =\n",
              "        document.querySelector('#df-26664faf-c256-44bc-bf9a-f19f90760274 button.colab-df-convert');\n",
              "      buttonEl.style.display =\n",
              "        google.colab.kernel.accessAllowed ? 'block' : 'none';\n",
              "\n",
              "      async function convertToInteractive(key) {\n",
              "        const element = document.querySelector('#df-26664faf-c256-44bc-bf9a-f19f90760274');\n",
              "        const dataTable =\n",
              "          await google.colab.kernel.invokeFunction('convertToInteractive',\n",
              "                                                    [key], {});\n",
              "        if (!dataTable) return;\n",
              "\n",
              "        const docLinkHtml = 'Like what you see? Visit the ' +\n",
              "          '<a target=\"_blank\" href=https://colab.research.google.com/notebooks/data_table.ipynb>data table notebook</a>'\n",
              "          + ' to learn more about interactive tables.';\n",
              "        element.innerHTML = '';\n",
              "        dataTable['output_type'] = 'display_data';\n",
              "        await google.colab.output.renderOutput(dataTable, element);\n",
              "        const docLink = document.createElement('div');\n",
              "        docLink.innerHTML = docLinkHtml;\n",
              "        element.appendChild(docLink);\n",
              "      }\n",
              "    </script>\n",
              "  </div>\n",
              "\n",
              "\n",
              "<div id=\"df-4e0000c4-e812-4de6-a019-32b429a8388c\">\n",
              "  <button class=\"colab-df-quickchart\" onclick=\"quickchart('df-4e0000c4-e812-4de6-a019-32b429a8388c')\"\n",
              "            title=\"Suggest charts\"\n",
              "            style=\"display:none;\">\n",
              "\n",
              "<svg xmlns=\"http://www.w3.org/2000/svg\" height=\"24px\"viewBox=\"0 0 24 24\"\n",
              "     width=\"24px\">\n",
              "    <g>\n",
              "        <path d=\"M19 3H5c-1.1 0-2 .9-2 2v14c0 1.1.9 2 2 2h14c1.1 0 2-.9 2-2V5c0-1.1-.9-2-2-2zM9 17H7v-7h2v7zm4 0h-2V7h2v10zm4 0h-2v-4h2v4z\"/>\n",
              "    </g>\n",
              "</svg>\n",
              "  </button>\n",
              "\n",
              "<style>\n",
              "  .colab-df-quickchart {\n",
              "      --bg-color: #E8F0FE;\n",
              "      --fill-color: #1967D2;\n",
              "      --hover-bg-color: #E2EBFA;\n",
              "      --hover-fill-color: #174EA6;\n",
              "      --disabled-fill-color: #AAA;\n",
              "      --disabled-bg-color: #DDD;\n",
              "  }\n",
              "\n",
              "  [theme=dark] .colab-df-quickchart {\n",
              "      --bg-color: #3B4455;\n",
              "      --fill-color: #D2E3FC;\n",
              "      --hover-bg-color: #434B5C;\n",
              "      --hover-fill-color: #FFFFFF;\n",
              "      --disabled-bg-color: #3B4455;\n",
              "      --disabled-fill-color: #666;\n",
              "  }\n",
              "\n",
              "  .colab-df-quickchart {\n",
              "    background-color: var(--bg-color);\n",
              "    border: none;\n",
              "    border-radius: 50%;\n",
              "    cursor: pointer;\n",
              "    display: none;\n",
              "    fill: var(--fill-color);\n",
              "    height: 32px;\n",
              "    padding: 0;\n",
              "    width: 32px;\n",
              "  }\n",
              "\n",
              "  .colab-df-quickchart:hover {\n",
              "    background-color: var(--hover-bg-color);\n",
              "    box-shadow: 0 1px 2px rgba(60, 64, 67, 0.3), 0 1px 3px 1px rgba(60, 64, 67, 0.15);\n",
              "    fill: var(--button-hover-fill-color);\n",
              "  }\n",
              "\n",
              "  .colab-df-quickchart-complete:disabled,\n",
              "  .colab-df-quickchart-complete:disabled:hover {\n",
              "    background-color: var(--disabled-bg-color);\n",
              "    fill: var(--disabled-fill-color);\n",
              "    box-shadow: none;\n",
              "  }\n",
              "\n",
              "  .colab-df-spinner {\n",
              "    border: 2px solid var(--fill-color);\n",
              "    border-color: transparent;\n",
              "    border-bottom-color: var(--fill-color);\n",
              "    animation:\n",
              "      spin 1s steps(1) infinite;\n",
              "  }\n",
              "\n",
              "  @keyframes spin {\n",
              "    0% {\n",
              "      border-color: transparent;\n",
              "      border-bottom-color: var(--fill-color);\n",
              "      border-left-color: var(--fill-color);\n",
              "    }\n",
              "    20% {\n",
              "      border-color: transparent;\n",
              "      border-left-color: var(--fill-color);\n",
              "      border-top-color: var(--fill-color);\n",
              "    }\n",
              "    30% {\n",
              "      border-color: transparent;\n",
              "      border-left-color: var(--fill-color);\n",
              "      border-top-color: var(--fill-color);\n",
              "      border-right-color: var(--fill-color);\n",
              "    }\n",
              "    40% {\n",
              "      border-color: transparent;\n",
              "      border-right-color: var(--fill-color);\n",
              "      border-top-color: var(--fill-color);\n",
              "    }\n",
              "    60% {\n",
              "      border-color: transparent;\n",
              "      border-right-color: var(--fill-color);\n",
              "    }\n",
              "    80% {\n",
              "      border-color: transparent;\n",
              "      border-right-color: var(--fill-color);\n",
              "      border-bottom-color: var(--fill-color);\n",
              "    }\n",
              "    90% {\n",
              "      border-color: transparent;\n",
              "      border-bottom-color: var(--fill-color);\n",
              "    }\n",
              "  }\n",
              "</style>\n",
              "\n",
              "  <script>\n",
              "    async function quickchart(key) {\n",
              "      const quickchartButtonEl =\n",
              "        document.querySelector('#' + key + ' button');\n",
              "      quickchartButtonEl.disabled = true;  // To prevent multiple clicks.\n",
              "      quickchartButtonEl.classList.add('colab-df-spinner');\n",
              "      try {\n",
              "        const charts = await google.colab.kernel.invokeFunction(\n",
              "            'suggestCharts', [key], {});\n",
              "      } catch (error) {\n",
              "        console.error('Error during call to suggestCharts:', error);\n",
              "      }\n",
              "      quickchartButtonEl.classList.remove('colab-df-spinner');\n",
              "      quickchartButtonEl.classList.add('colab-df-quickchart-complete');\n",
              "    }\n",
              "    (() => {\n",
              "      let quickchartButtonEl =\n",
              "        document.querySelector('#df-4e0000c4-e812-4de6-a019-32b429a8388c button');\n",
              "      quickchartButtonEl.style.display =\n",
              "        google.colab.kernel.accessAllowed ? 'block' : 'none';\n",
              "    })();\n",
              "  </script>\n",
              "</div>\n",
              "\n",
              "    </div>\n",
              "  </div>\n"
            ]
          },
          "metadata": {},
          "execution_count": 5
        }
      ]
    },
    {
      "cell_type": "markdown",
      "source": [
        "alternativamente, essa modificação pode ser feita com a função get_dummies da biblioteca pandas.\n",
        "\n",
        "iremos aplica-la nas categorias restantes. para tanto, irei retirar as colunas mencionadas no codigo acima:"
      ],
      "metadata": {
        "id": "flloIdIFZgxy"
      }
    },
    {
      "cell_type": "code",
      "source": [
        "dummie_dados = pd.get_dummies(dados.drop(['Conjuge','Dependentes','TelefoneFixo','PagamentoOnline','Churn'],axis=1))\n",
        "\n",
        "dados_final = pd.concat([dados_modificados,dummie_dados],axis=1)"
      ],
      "metadata": {
        "id": "7ES05DMDZgL8"
      },
      "execution_count": 6,
      "outputs": []
    },
    {
      "cell_type": "code",
      "source": [
        "dados_final.head()"
      ],
      "metadata": {
        "colab": {
          "base_uri": "https://localhost:8080/",
          "height": 256
        },
        "id": "3HkA6164agBN",
        "outputId": "bedd4a87-6b1f-4407-dce1-732ca08b70ac"
      },
      "execution_count": 7,
      "outputs": [
        {
          "output_type": "execute_result",
          "data": {
            "text/plain": [
              "   Conjuge  Dependentes  TelefoneFixo  PagamentoOnline  Churn  Maior65Anos  \\\n",
              "0        1            0             0                1      0            0   \n",
              "1        0            0             1                0      0            0   \n",
              "2        0            0             1                1      1            0   \n",
              "3        0            0             0                0      0            0   \n",
              "4        0            0             1                1      1            0   \n",
              "\n",
              "   MesesDeContrato  ContaMensal  VariasLinhasTelefonicas_Nao  \\\n",
              "0                1        29.85                            0   \n",
              "1               34        56.95                            1   \n",
              "2                2        53.85                            1   \n",
              "3               45        42.30                            0   \n",
              "4                2        70.70                            1   \n",
              "\n",
              "   VariasLinhasTelefonicas_SemServicoTelefonico  ...  StreamingDeFilmes_Nao  \\\n",
              "0                                             1  ...                      1   \n",
              "1                                             0  ...                      1   \n",
              "2                                             0  ...                      1   \n",
              "3                                             1  ...                      1   \n",
              "4                                             0  ...                      1   \n",
              "\n",
              "   StreamingDeFilmes_SemServicoDeInternet  StreamingDeFilmes_Sim  \\\n",
              "0                                       0                      0   \n",
              "1                                       0                      0   \n",
              "2                                       0                      0   \n",
              "3                                       0                      0   \n",
              "4                                       0                      0   \n",
              "\n",
              "   TipoDeContrato_DoisAnos  TipoDeContrato_Mensalmente  TipoDeContrato_UmAno  \\\n",
              "0                        0                           1                     0   \n",
              "1                        0                           0                     1   \n",
              "2                        0                           1                     0   \n",
              "3                        0                           0                     1   \n",
              "4                        0                           1                     0   \n",
              "\n",
              "   FormaDePagamento_CartaoDeCredito  FormaDePagamento_ChequeDigital  \\\n",
              "0                                 0                               1   \n",
              "1                                 0                               0   \n",
              "2                                 0                               0   \n",
              "3                                 0                               0   \n",
              "4                                 0                               1   \n",
              "\n",
              "   FormaDePagamento_ChequePapel  FormaDePagamento_DebitoEmConta  \n",
              "0                             0                               0  \n",
              "1                             1                               0  \n",
              "2                             1                               0  \n",
              "3                             0                               1  \n",
              "4                             0                               0  \n",
              "\n",
              "[5 rows x 39 columns]"
            ],
            "text/html": [
              "\n",
              "  <div id=\"df-c2f220df-d6dc-4ea9-8a78-dd70168d4540\" class=\"colab-df-container\">\n",
              "    <div>\n",
              "<style scoped>\n",
              "    .dataframe tbody tr th:only-of-type {\n",
              "        vertical-align: middle;\n",
              "    }\n",
              "\n",
              "    .dataframe tbody tr th {\n",
              "        vertical-align: top;\n",
              "    }\n",
              "\n",
              "    .dataframe thead th {\n",
              "        text-align: right;\n",
              "    }\n",
              "</style>\n",
              "<table border=\"1\" class=\"dataframe\">\n",
              "  <thead>\n",
              "    <tr style=\"text-align: right;\">\n",
              "      <th></th>\n",
              "      <th>Conjuge</th>\n",
              "      <th>Dependentes</th>\n",
              "      <th>TelefoneFixo</th>\n",
              "      <th>PagamentoOnline</th>\n",
              "      <th>Churn</th>\n",
              "      <th>Maior65Anos</th>\n",
              "      <th>MesesDeContrato</th>\n",
              "      <th>ContaMensal</th>\n",
              "      <th>VariasLinhasTelefonicas_Nao</th>\n",
              "      <th>VariasLinhasTelefonicas_SemServicoTelefonico</th>\n",
              "      <th>...</th>\n",
              "      <th>StreamingDeFilmes_Nao</th>\n",
              "      <th>StreamingDeFilmes_SemServicoDeInternet</th>\n",
              "      <th>StreamingDeFilmes_Sim</th>\n",
              "      <th>TipoDeContrato_DoisAnos</th>\n",
              "      <th>TipoDeContrato_Mensalmente</th>\n",
              "      <th>TipoDeContrato_UmAno</th>\n",
              "      <th>FormaDePagamento_CartaoDeCredito</th>\n",
              "      <th>FormaDePagamento_ChequeDigital</th>\n",
              "      <th>FormaDePagamento_ChequePapel</th>\n",
              "      <th>FormaDePagamento_DebitoEmConta</th>\n",
              "    </tr>\n",
              "  </thead>\n",
              "  <tbody>\n",
              "    <tr>\n",
              "      <th>0</th>\n",
              "      <td>1</td>\n",
              "      <td>0</td>\n",
              "      <td>0</td>\n",
              "      <td>1</td>\n",
              "      <td>0</td>\n",
              "      <td>0</td>\n",
              "      <td>1</td>\n",
              "      <td>29.85</td>\n",
              "      <td>0</td>\n",
              "      <td>1</td>\n",
              "      <td>...</td>\n",
              "      <td>1</td>\n",
              "      <td>0</td>\n",
              "      <td>0</td>\n",
              "      <td>0</td>\n",
              "      <td>1</td>\n",
              "      <td>0</td>\n",
              "      <td>0</td>\n",
              "      <td>1</td>\n",
              "      <td>0</td>\n",
              "      <td>0</td>\n",
              "    </tr>\n",
              "    <tr>\n",
              "      <th>1</th>\n",
              "      <td>0</td>\n",
              "      <td>0</td>\n",
              "      <td>1</td>\n",
              "      <td>0</td>\n",
              "      <td>0</td>\n",
              "      <td>0</td>\n",
              "      <td>34</td>\n",
              "      <td>56.95</td>\n",
              "      <td>1</td>\n",
              "      <td>0</td>\n",
              "      <td>...</td>\n",
              "      <td>1</td>\n",
              "      <td>0</td>\n",
              "      <td>0</td>\n",
              "      <td>0</td>\n",
              "      <td>0</td>\n",
              "      <td>1</td>\n",
              "      <td>0</td>\n",
              "      <td>0</td>\n",
              "      <td>1</td>\n",
              "      <td>0</td>\n",
              "    </tr>\n",
              "    <tr>\n",
              "      <th>2</th>\n",
              "      <td>0</td>\n",
              "      <td>0</td>\n",
              "      <td>1</td>\n",
              "      <td>1</td>\n",
              "      <td>1</td>\n",
              "      <td>0</td>\n",
              "      <td>2</td>\n",
              "      <td>53.85</td>\n",
              "      <td>1</td>\n",
              "      <td>0</td>\n",
              "      <td>...</td>\n",
              "      <td>1</td>\n",
              "      <td>0</td>\n",
              "      <td>0</td>\n",
              "      <td>0</td>\n",
              "      <td>1</td>\n",
              "      <td>0</td>\n",
              "      <td>0</td>\n",
              "      <td>0</td>\n",
              "      <td>1</td>\n",
              "      <td>0</td>\n",
              "    </tr>\n",
              "    <tr>\n",
              "      <th>3</th>\n",
              "      <td>0</td>\n",
              "      <td>0</td>\n",
              "      <td>0</td>\n",
              "      <td>0</td>\n",
              "      <td>0</td>\n",
              "      <td>0</td>\n",
              "      <td>45</td>\n",
              "      <td>42.30</td>\n",
              "      <td>0</td>\n",
              "      <td>1</td>\n",
              "      <td>...</td>\n",
              "      <td>1</td>\n",
              "      <td>0</td>\n",
              "      <td>0</td>\n",
              "      <td>0</td>\n",
              "      <td>0</td>\n",
              "      <td>1</td>\n",
              "      <td>0</td>\n",
              "      <td>0</td>\n",
              "      <td>0</td>\n",
              "      <td>1</td>\n",
              "    </tr>\n",
              "    <tr>\n",
              "      <th>4</th>\n",
              "      <td>0</td>\n",
              "      <td>0</td>\n",
              "      <td>1</td>\n",
              "      <td>1</td>\n",
              "      <td>1</td>\n",
              "      <td>0</td>\n",
              "      <td>2</td>\n",
              "      <td>70.70</td>\n",
              "      <td>1</td>\n",
              "      <td>0</td>\n",
              "      <td>...</td>\n",
              "      <td>1</td>\n",
              "      <td>0</td>\n",
              "      <td>0</td>\n",
              "      <td>0</td>\n",
              "      <td>1</td>\n",
              "      <td>0</td>\n",
              "      <td>0</td>\n",
              "      <td>1</td>\n",
              "      <td>0</td>\n",
              "      <td>0</td>\n",
              "    </tr>\n",
              "  </tbody>\n",
              "</table>\n",
              "<p>5 rows × 39 columns</p>\n",
              "</div>\n",
              "    <div class=\"colab-df-buttons\">\n",
              "\n",
              "  <div class=\"colab-df-container\">\n",
              "    <button class=\"colab-df-convert\" onclick=\"convertToInteractive('df-c2f220df-d6dc-4ea9-8a78-dd70168d4540')\"\n",
              "            title=\"Convert this dataframe to an interactive table.\"\n",
              "            style=\"display:none;\">\n",
              "\n",
              "  <svg xmlns=\"http://www.w3.org/2000/svg\" height=\"24px\" viewBox=\"0 -960 960 960\">\n",
              "    <path d=\"M120-120v-720h720v720H120Zm60-500h600v-160H180v160Zm220 220h160v-160H400v160Zm0 220h160v-160H400v160ZM180-400h160v-160H180v160Zm440 0h160v-160H620v160ZM180-180h160v-160H180v160Zm440 0h160v-160H620v160Z\"/>\n",
              "  </svg>\n",
              "    </button>\n",
              "\n",
              "  <style>\n",
              "    .colab-df-container {\n",
              "      display:flex;\n",
              "      gap: 12px;\n",
              "    }\n",
              "\n",
              "    .colab-df-convert {\n",
              "      background-color: #E8F0FE;\n",
              "      border: none;\n",
              "      border-radius: 50%;\n",
              "      cursor: pointer;\n",
              "      display: none;\n",
              "      fill: #1967D2;\n",
              "      height: 32px;\n",
              "      padding: 0 0 0 0;\n",
              "      width: 32px;\n",
              "    }\n",
              "\n",
              "    .colab-df-convert:hover {\n",
              "      background-color: #E2EBFA;\n",
              "      box-shadow: 0px 1px 2px rgba(60, 64, 67, 0.3), 0px 1px 3px 1px rgba(60, 64, 67, 0.15);\n",
              "      fill: #174EA6;\n",
              "    }\n",
              "\n",
              "    .colab-df-buttons div {\n",
              "      margin-bottom: 4px;\n",
              "    }\n",
              "\n",
              "    [theme=dark] .colab-df-convert {\n",
              "      background-color: #3B4455;\n",
              "      fill: #D2E3FC;\n",
              "    }\n",
              "\n",
              "    [theme=dark] .colab-df-convert:hover {\n",
              "      background-color: #434B5C;\n",
              "      box-shadow: 0px 1px 3px 1px rgba(0, 0, 0, 0.15);\n",
              "      filter: drop-shadow(0px 1px 2px rgba(0, 0, 0, 0.3));\n",
              "      fill: #FFFFFF;\n",
              "    }\n",
              "  </style>\n",
              "\n",
              "    <script>\n",
              "      const buttonEl =\n",
              "        document.querySelector('#df-c2f220df-d6dc-4ea9-8a78-dd70168d4540 button.colab-df-convert');\n",
              "      buttonEl.style.display =\n",
              "        google.colab.kernel.accessAllowed ? 'block' : 'none';\n",
              "\n",
              "      async function convertToInteractive(key) {\n",
              "        const element = document.querySelector('#df-c2f220df-d6dc-4ea9-8a78-dd70168d4540');\n",
              "        const dataTable =\n",
              "          await google.colab.kernel.invokeFunction('convertToInteractive',\n",
              "                                                    [key], {});\n",
              "        if (!dataTable) return;\n",
              "\n",
              "        const docLinkHtml = 'Like what you see? Visit the ' +\n",
              "          '<a target=\"_blank\" href=https://colab.research.google.com/notebooks/data_table.ipynb>data table notebook</a>'\n",
              "          + ' to learn more about interactive tables.';\n",
              "        element.innerHTML = '';\n",
              "        dataTable['output_type'] = 'display_data';\n",
              "        await google.colab.output.renderOutput(dataTable, element);\n",
              "        const docLink = document.createElement('div');\n",
              "        docLink.innerHTML = docLinkHtml;\n",
              "        element.appendChild(docLink);\n",
              "      }\n",
              "    </script>\n",
              "  </div>\n",
              "\n",
              "\n",
              "<div id=\"df-a9218aa0-e118-41e9-982b-8d28296361d9\">\n",
              "  <button class=\"colab-df-quickchart\" onclick=\"quickchart('df-a9218aa0-e118-41e9-982b-8d28296361d9')\"\n",
              "            title=\"Suggest charts\"\n",
              "            style=\"display:none;\">\n",
              "\n",
              "<svg xmlns=\"http://www.w3.org/2000/svg\" height=\"24px\"viewBox=\"0 0 24 24\"\n",
              "     width=\"24px\">\n",
              "    <g>\n",
              "        <path d=\"M19 3H5c-1.1 0-2 .9-2 2v14c0 1.1.9 2 2 2h14c1.1 0 2-.9 2-2V5c0-1.1-.9-2-2-2zM9 17H7v-7h2v7zm4 0h-2V7h2v10zm4 0h-2v-4h2v4z\"/>\n",
              "    </g>\n",
              "</svg>\n",
              "  </button>\n",
              "\n",
              "<style>\n",
              "  .colab-df-quickchart {\n",
              "      --bg-color: #E8F0FE;\n",
              "      --fill-color: #1967D2;\n",
              "      --hover-bg-color: #E2EBFA;\n",
              "      --hover-fill-color: #174EA6;\n",
              "      --disabled-fill-color: #AAA;\n",
              "      --disabled-bg-color: #DDD;\n",
              "  }\n",
              "\n",
              "  [theme=dark] .colab-df-quickchart {\n",
              "      --bg-color: #3B4455;\n",
              "      --fill-color: #D2E3FC;\n",
              "      --hover-bg-color: #434B5C;\n",
              "      --hover-fill-color: #FFFFFF;\n",
              "      --disabled-bg-color: #3B4455;\n",
              "      --disabled-fill-color: #666;\n",
              "  }\n",
              "\n",
              "  .colab-df-quickchart {\n",
              "    background-color: var(--bg-color);\n",
              "    border: none;\n",
              "    border-radius: 50%;\n",
              "    cursor: pointer;\n",
              "    display: none;\n",
              "    fill: var(--fill-color);\n",
              "    height: 32px;\n",
              "    padding: 0;\n",
              "    width: 32px;\n",
              "  }\n",
              "\n",
              "  .colab-df-quickchart:hover {\n",
              "    background-color: var(--hover-bg-color);\n",
              "    box-shadow: 0 1px 2px rgba(60, 64, 67, 0.3), 0 1px 3px 1px rgba(60, 64, 67, 0.15);\n",
              "    fill: var(--button-hover-fill-color);\n",
              "  }\n",
              "\n",
              "  .colab-df-quickchart-complete:disabled,\n",
              "  .colab-df-quickchart-complete:disabled:hover {\n",
              "    background-color: var(--disabled-bg-color);\n",
              "    fill: var(--disabled-fill-color);\n",
              "    box-shadow: none;\n",
              "  }\n",
              "\n",
              "  .colab-df-spinner {\n",
              "    border: 2px solid var(--fill-color);\n",
              "    border-color: transparent;\n",
              "    border-bottom-color: var(--fill-color);\n",
              "    animation:\n",
              "      spin 1s steps(1) infinite;\n",
              "  }\n",
              "\n",
              "  @keyframes spin {\n",
              "    0% {\n",
              "      border-color: transparent;\n",
              "      border-bottom-color: var(--fill-color);\n",
              "      border-left-color: var(--fill-color);\n",
              "    }\n",
              "    20% {\n",
              "      border-color: transparent;\n",
              "      border-left-color: var(--fill-color);\n",
              "      border-top-color: var(--fill-color);\n",
              "    }\n",
              "    30% {\n",
              "      border-color: transparent;\n",
              "      border-left-color: var(--fill-color);\n",
              "      border-top-color: var(--fill-color);\n",
              "      border-right-color: var(--fill-color);\n",
              "    }\n",
              "    40% {\n",
              "      border-color: transparent;\n",
              "      border-right-color: var(--fill-color);\n",
              "      border-top-color: var(--fill-color);\n",
              "    }\n",
              "    60% {\n",
              "      border-color: transparent;\n",
              "      border-right-color: var(--fill-color);\n",
              "    }\n",
              "    80% {\n",
              "      border-color: transparent;\n",
              "      border-right-color: var(--fill-color);\n",
              "      border-bottom-color: var(--fill-color);\n",
              "    }\n",
              "    90% {\n",
              "      border-color: transparent;\n",
              "      border-bottom-color: var(--fill-color);\n",
              "    }\n",
              "  }\n",
              "</style>\n",
              "\n",
              "  <script>\n",
              "    async function quickchart(key) {\n",
              "      const quickchartButtonEl =\n",
              "        document.querySelector('#' + key + ' button');\n",
              "      quickchartButtonEl.disabled = true;  // To prevent multiple clicks.\n",
              "      quickchartButtonEl.classList.add('colab-df-spinner');\n",
              "      try {\n",
              "        const charts = await google.colab.kernel.invokeFunction(\n",
              "            'suggestCharts', [key], {});\n",
              "      } catch (error) {\n",
              "        console.error('Error during call to suggestCharts:', error);\n",
              "      }\n",
              "      quickchartButtonEl.classList.remove('colab-df-spinner');\n",
              "      quickchartButtonEl.classList.add('colab-df-quickchart-complete');\n",
              "    }\n",
              "    (() => {\n",
              "      let quickchartButtonEl =\n",
              "        document.querySelector('#df-a9218aa0-e118-41e9-982b-8d28296361d9 button');\n",
              "      quickchartButtonEl.style.display =\n",
              "        google.colab.kernel.accessAllowed ? 'block' : 'none';\n",
              "    })();\n",
              "  </script>\n",
              "</div>\n",
              "\n",
              "    </div>\n",
              "  </div>\n"
            ]
          },
          "metadata": {},
          "execution_count": 7
        }
      ]
    },
    {
      "cell_type": "markdown",
      "source": [
        "# 3 - verificando se a variavel esta balanceada (mesma proporção de 0-1)"
      ],
      "metadata": {
        "id": "rV4NCt_6a9uR"
      }
    },
    {
      "cell_type": "code",
      "source": [
        "import seaborn as sns\n",
        "%matplotlib inline\n",
        "\n",
        "ax = sns.countplot(x='Churn', data=dados_final)"
      ],
      "metadata": {
        "colab": {
          "base_uri": "https://localhost:8080/",
          "height": 449
        },
        "id": "316sPzNbbU-A",
        "outputId": "87dbc971-f846-479d-bdd9-659b5feb4c2f"
      },
      "execution_count": 8,
      "outputs": [
        {
          "output_type": "display_data",
          "data": {
            "text/plain": [
              "<Figure size 640x480 with 1 Axes>"
            ],
            "image/png": "[encoded data removed]"
          },
          "metadata": {}
        }
      ]
    },
    {
      "cell_type": "markdown",
      "source": [
        "como está desbalanceada, fazemos:"
      ],
      "metadata": {
        "id": "iWi0_VtndJsE"
      }
    },
    {
      "cell_type": "code",
      "source": [
        "# aplicação do SMOTE: separar  os dados em variáveis características e resposta\n",
        "\n",
        "X = dados_final.drop('Churn', axis = 1)\n",
        "y = dados_final['Churn']"
      ],
      "metadata": {
        "id": "6YUWESQCdNfH"
      },
      "execution_count": 9,
      "outputs": []
    },
    {
      "cell_type": "code",
      "source": [
        "from imblearn.over_sampling import SMOTE\n",
        "\n",
        "smt = SMOTE(random_state=123)  # Instancia um objeto da classe SMOTE\n",
        "X, y = smt.fit_resample(X, y)  # Realiza a reamostragem do conjunto de dados"
      ],
      "metadata": {
        "id": "ZRWf81QydX6L"
      },
      "execution_count": 10,
      "outputs": []
    },
    {
      "cell_type": "code",
      "source": [
        "dados_final = pd.concat([X, y], axis=1)  # Concatena a variável target (y) com as features (X)\n",
        "\n",
        "# Verifica se o balanceamento e a concatenação estão corretos.\n",
        "dados_final.head(2)"
      ],
      "metadata": {
        "colab": {
          "base_uri": "https://localhost:8080/",
          "height": 161
        },
        "id": "LndWjVj5daat",
        "outputId": "87014383-cd94-488c-f2d5-a12ea4027739"
      },
      "execution_count": 11,
      "outputs": [
        {
          "output_type": "execute_result",
          "data": {
            "text/plain": [
              "   Conjuge  Dependentes  TelefoneFixo  PagamentoOnline  Maior65Anos  \\\n",
              "0        1            0             0                1            0   \n",
              "1        0            0             1                0            0   \n",
              "\n",
              "   MesesDeContrato  ContaMensal  VariasLinhasTelefonicas_Nao  \\\n",
              "0                1        29.85                            0   \n",
              "1               34        56.95                            1   \n",
              "\n",
              "   VariasLinhasTelefonicas_SemServicoTelefonico  VariasLinhasTelefonicas_Sim  \\\n",
              "0                                             1                            0   \n",
              "1                                             0                            0   \n",
              "\n",
              "   ...  StreamingDeFilmes_SemServicoDeInternet  StreamingDeFilmes_Sim  \\\n",
              "0  ...                                       0                      0   \n",
              "1  ...                                       0                      0   \n",
              "\n",
              "   TipoDeContrato_DoisAnos  TipoDeContrato_Mensalmente  TipoDeContrato_UmAno  \\\n",
              "0                        0                           1                     0   \n",
              "1                        0                           0                     1   \n",
              "\n",
              "   FormaDePagamento_CartaoDeCredito  FormaDePagamento_ChequeDigital  \\\n",
              "0                                 0                               1   \n",
              "1                                 0                               0   \n",
              "\n",
              "   FormaDePagamento_ChequePapel  FormaDePagamento_DebitoEmConta  Churn  \n",
              "0                             0                               0      0  \n",
              "1                             1                               0      0  \n",
              "\n",
              "[2 rows x 39 columns]"
            ],
            "text/html": [
              "\n",
              "  <div id=\"df-cbca7ac0-972f-4971-89ff-74cd2db804b9\" class=\"colab-df-container\">\n",
              "    <div>\n",
              "<style scoped>\n",
              "    .dataframe tbody tr th:only-of-type {\n",
              "        vertical-align: middle;\n",
              "    }\n",
              "\n",
              "    .dataframe tbody tr th {\n",
              "        vertical-align: top;\n",
              "    }\n",
              "\n",
              "    .dataframe thead th {\n",
              "        text-align: right;\n",
              "    }\n",
              "</style>\n",
              "<table border=\"1\" class=\"dataframe\">\n",
              "  <thead>\n",
              "    <tr style=\"text-align: right;\">\n",
              "      <th></th>\n",
              "      <th>Conjuge</th>\n",
              "      <th>Dependentes</th>\n",
              "      <th>TelefoneFixo</th>\n",
              "      <th>PagamentoOnline</th>\n",
              "      <th>Maior65Anos</th>\n",
              "      <th>MesesDeContrato</th>\n",
              "      <th>ContaMensal</th>\n",
              "      <th>VariasLinhasTelefonicas_Nao</th>\n",
              "      <th>VariasLinhasTelefonicas_SemServicoTelefonico</th>\n",
              "      <th>VariasLinhasTelefonicas_Sim</th>\n",
              "      <th>...</th>\n",
              "      <th>StreamingDeFilmes_SemServicoDeInternet</th>\n",
              "      <th>StreamingDeFilmes_Sim</th>\n",
              "      <th>TipoDeContrato_DoisAnos</th>\n",
              "      <th>TipoDeContrato_Mensalmente</th>\n",
              "      <th>TipoDeContrato_UmAno</th>\n",
              "      <th>FormaDePagamento_CartaoDeCredito</th>\n",
              "      <th>FormaDePagamento_ChequeDigital</th>\n",
              "      <th>FormaDePagamento_ChequePapel</th>\n",
              "      <th>FormaDePagamento_DebitoEmConta</th>\n",
              "      <th>Churn</th>\n",
              "    </tr>\n",
              "  </thead>\n",
              "  <tbody>\n",
              "    <tr>\n",
              "      <th>0</th>\n",
              "      <td>1</td>\n",
              "      <td>0</td>\n",
              "      <td>0</td>\n",
              "      <td>1</td>\n",
              "      <td>0</td>\n",
              "      <td>1</td>\n",
              "      <td>29.85</td>\n",
              "      <td>0</td>\n",
              "      <td>1</td>\n",
              "      <td>0</td>\n",
              "      <td>...</td>\n",
              "      <td>0</td>\n",
              "      <td>0</td>\n",
              "      <td>0</td>\n",
              "      <td>1</td>\n",
              "      <td>0</td>\n",
              "      <td>0</td>\n",
              "      <td>1</td>\n",
              "      <td>0</td>\n",
              "      <td>0</td>\n",
              "      <td>0</td>\n",
              "    </tr>\n",
              "    <tr>\n",
              "      <th>1</th>\n",
              "      <td>0</td>\n",
              "      <td>0</td>\n",
              "      <td>1</td>\n",
              "      <td>0</td>\n",
              "      <td>0</td>\n",
              "      <td>34</td>\n",
              "      <td>56.95</td>\n",
              "      <td>1</td>\n",
              "      <td>0</td>\n",
              "      <td>0</td>\n",
              "      <td>...</td>\n",
              "      <td>0</td>\n",
              "      <td>0</td>\n",
              "      <td>0</td>\n",
              "      <td>0</td>\n",
              "      <td>1</td>\n",
              "      <td>0</td>\n",
              "      <td>0</td>\n",
              "      <td>1</td>\n",
              "      <td>0</td>\n",
              "      <td>0</td>\n",
              "    </tr>\n",
              "  </tbody>\n",
              "</table>\n",
              "<p>2 rows × 39 columns</p>\n",
              "</div>\n",
              "    <div class=\"colab-df-buttons\">\n",
              "\n",
              "  <div class=\"colab-df-container\">\n",
              "    <button class=\"colab-df-convert\" onclick=\"convertToInteractive('df-cbca7ac0-972f-4971-89ff-74cd2db804b9')\"\n",
              "            title=\"Convert this dataframe to an interactive table.\"\n",
              "            style=\"display:none;\">\n",
              "\n",
              "  <svg xmlns=\"http://www.w3.org/2000/svg\" height=\"24px\" viewBox=\"0 -960 960 960\">\n",
              "    <path d=\"M120-120v-720h720v720H120Zm60-500h600v-160H180v160Zm220 220h160v-160H400v160Zm0 220h160v-160H400v160ZM180-400h160v-160H180v160Zm440 0h160v-160H620v160ZM180-180h160v-160H180v160Zm440 0h160v-160H620v160Z\"/>\n",
              "  </svg>\n",
              "    </button>\n",
              "\n",
              "  <style>\n",
              "    .colab-df-container {\n",
              "      display:flex;\n",
              "      gap: 12px;\n",
              "    }\n",
              "\n",
              "    .colab-df-convert {\n",
              "      background-color: #E8F0FE;\n",
              "      border: none;\n",
              "      border-radius: 50%;\n",
              "      cursor: pointer;\n",
              "      display: none;\n",
              "      fill: #1967D2;\n",
              "      height: 32px;\n",
              "      padding: 0 0 0 0;\n",
              "      width: 32px;\n",
              "    }\n",
              "\n",
              "    .colab-df-convert:hover {\n",
              "      background-color: #E2EBFA;\n",
              "      box-shadow: 0px 1px 2px rgba(60, 64, 67, 0.3), 0px 1px 3px 1px rgba(60, 64, 67, 0.15);\n",
              "      fill: #174EA6;\n",
              "    }\n",
              "\n",
              "    .colab-df-buttons div {\n",
              "      margin-bottom: 4px;\n",
              "    }\n",
              "\n",
              "    [theme=dark] .colab-df-convert {\n",
              "      background-color: #3B4455;\n",
              "      fill: #D2E3FC;\n",
              "    }\n",
              "\n",
              "    [theme=dark] .colab-df-convert:hover {\n",
              "      background-color: #434B5C;\n",
              "      box-shadow: 0px 1px 3px 1px rgba(0, 0, 0, 0.15);\n",
              "      filter: drop-shadow(0px 1px 2px rgba(0, 0, 0, 0.3));\n",
              "      fill: #FFFFFF;\n",
              "    }\n",
              "  </style>\n",
              "\n",
              "    <script>\n",
              "      const buttonEl =\n",
              "        document.querySelector('#df-cbca7ac0-972f-4971-89ff-74cd2db804b9 button.colab-df-convert');\n",
              "      buttonEl.style.display =\n",
              "        google.colab.kernel.accessAllowed ? 'block' : 'none';\n",
              "\n",
              "      async function convertToInteractive(key) {\n",
              "        const element = document.querySelector('#df-cbca7ac0-972f-4971-89ff-74cd2db804b9');\n",
              "        const dataTable =\n",
              "          await google.colab.kernel.invokeFunction('convertToInteractive',\n",
              "                                                    [key], {});\n",
              "        if (!dataTable) return;\n",
              "\n",
              "        const docLinkHtml = 'Like what you see? Visit the ' +\n",
              "          '<a target=\"_blank\" href=https://colab.research.google.com/notebooks/data_table.ipynb>data table notebook</a>'\n",
              "          + ' to learn more about interactive tables.';\n",
              "        element.innerHTML = '';\n",
              "        dataTable['output_type'] = 'display_data';\n",
              "        await google.colab.output.renderOutput(dataTable, element);\n",
              "        const docLink = document.createElement('div');\n",
              "        docLink.innerHTML = docLinkHtml;\n",
              "        element.appendChild(docLink);\n",
              "      }\n",
              "    </script>\n",
              "  </div>\n",
              "\n",
              "\n",
              "<div id=\"df-a5e1fe11-77dd-4a86-be8f-44cf5ae6df19\">\n",
              "  <button class=\"colab-df-quickchart\" onclick=\"quickchart('df-a5e1fe11-77dd-4a86-be8f-44cf5ae6df19')\"\n",
              "            title=\"Suggest charts\"\n",
              "            style=\"display:none;\">\n",
              "\n",
              "<svg xmlns=\"http://www.w3.org/2000/svg\" height=\"24px\"viewBox=\"0 0 24 24\"\n",
              "     width=\"24px\">\n",
              "    <g>\n",
              "        <path d=\"M19 3H5c-1.1 0-2 .9-2 2v14c0 1.1.9 2 2 2h14c1.1 0 2-.9 2-2V5c0-1.1-.9-2-2-2zM9 17H7v-7h2v7zm4 0h-2V7h2v10zm4 0h-2v-4h2v4z\"/>\n",
              "    </g>\n",
              "</svg>\n",
              "  </button>\n",
              "\n",
              "<style>\n",
              "  .colab-df-quickchart {\n",
              "      --bg-color: #E8F0FE;\n",
              "      --fill-color: #1967D2;\n",
              "      --hover-bg-color: #E2EBFA;\n",
              "      --hover-fill-color: #174EA6;\n",
              "      --disabled-fill-color: #AAA;\n",
              "      --disabled-bg-color: #DDD;\n",
              "  }\n",
              "\n",
              "  [theme=dark] .colab-df-quickchart {\n",
              "      --bg-color: #3B4455;\n",
              "      --fill-color: #D2E3FC;\n",
              "      --hover-bg-color: #434B5C;\n",
              "      --hover-fill-color: #FFFFFF;\n",
              "      --disabled-bg-color: #3B4455;\n",
              "      --disabled-fill-color: #666;\n",
              "  }\n",
              "\n",
              "  .colab-df-quickchart {\n",
              "    background-color: var(--bg-color);\n",
              "    border: none;\n",
              "    border-radius: 50%;\n",
              "    cursor: pointer;\n",
              "    display: none;\n",
              "    fill: var(--fill-color);\n",
              "    height: 32px;\n",
              "    padding: 0;\n",
              "    width: 32px;\n",
              "  }\n",
              "\n",
              "  .colab-df-quickchart:hover {\n",
              "    background-color: var(--hover-bg-color);\n",
              "    box-shadow: 0 1px 2px rgba(60, 64, 67, 0.3), 0 1px 3px 1px rgba(60, 64, 67, 0.15);\n",
              "    fill: var(--button-hover-fill-color);\n",
              "  }\n",
              "\n",
              "  .colab-df-quickchart-complete:disabled,\n",
              "  .colab-df-quickchart-complete:disabled:hover {\n",
              "    background-color: var(--disabled-bg-color);\n",
              "    fill: var(--disabled-fill-color);\n",
              "    box-shadow: none;\n",
              "  }\n",
              "\n",
              "  .colab-df-spinner {\n",
              "    border: 2px solid var(--fill-color);\n",
              "    border-color: transparent;\n",
              "    border-bottom-color: var(--fill-color);\n",
              "    animation:\n",
              "      spin 1s steps(1) infinite;\n",
              "  }\n",
              "\n",
              "  @keyframes spin {\n",
              "    0% {\n",
              "      border-color: transparent;\n",
              "      border-bottom-color: var(--fill-color);\n",
              "      border-left-color: var(--fill-color);\n",
              "    }\n",
              "    20% {\n",
              "      border-color: transparent;\n",
              "      border-left-color: var(--fill-color);\n",
              "      border-top-color: var(--fill-color);\n",
              "    }\n",
              "    30% {\n",
              "      border-color: transparent;\n",
              "      border-left-color: var(--fill-color);\n",
              "      border-top-color: var(--fill-color);\n",
              "      border-right-color: var(--fill-color);\n",
              "    }\n",
              "    40% {\n",
              "      border-color: transparent;\n",
              "      border-right-color: var(--fill-color);\n",
              "      border-top-color: var(--fill-color);\n",
              "    }\n",
              "    60% {\n",
              "      border-color: transparent;\n",
              "      border-right-color: var(--fill-color);\n",
              "    }\n",
              "    80% {\n",
              "      border-color: transparent;\n",
              "      border-right-color: var(--fill-color);\n",
              "      border-bottom-color: var(--fill-color);\n",
              "    }\n",
              "    90% {\n",
              "      border-color: transparent;\n",
              "      border-bottom-color: var(--fill-color);\n",
              "    }\n",
              "  }\n",
              "</style>\n",
              "\n",
              "  <script>\n",
              "    async function quickchart(key) {\n",
              "      const quickchartButtonEl =\n",
              "        document.querySelector('#' + key + ' button');\n",
              "      quickchartButtonEl.disabled = true;  // To prevent multiple clicks.\n",
              "      quickchartButtonEl.classList.add('colab-df-spinner');\n",
              "      try {\n",
              "        const charts = await google.colab.kernel.invokeFunction(\n",
              "            'suggestCharts', [key], {});\n",
              "      } catch (error) {\n",
              "        console.error('Error during call to suggestCharts:', error);\n",
              "      }\n",
              "      quickchartButtonEl.classList.remove('colab-df-spinner');\n",
              "      quickchartButtonEl.classList.add('colab-df-quickchart-complete');\n",
              "    }\n",
              "    (() => {\n",
              "      let quickchartButtonEl =\n",
              "        document.querySelector('#df-a5e1fe11-77dd-4a86-be8f-44cf5ae6df19 button');\n",
              "      quickchartButtonEl.style.display =\n",
              "        google.colab.kernel.accessAllowed ? 'block' : 'none';\n",
              "    })();\n",
              "  </script>\n",
              "</div>\n",
              "\n",
              "    </div>\n",
              "  </div>\n"
            ]
          },
          "metadata": {},
          "execution_count": 11
        }
      ]
    },
    {
      "cell_type": "code",
      "source": [
        "ax = sns.countplot(x='Churn', data=dados_final)  # plotando a variável target balanceada."
      ],
      "metadata": {
        "colab": {
          "base_uri": "https://localhost:8080/",
          "height": 449
        },
        "id": "yCin3Tyaddrr",
        "outputId": "b1463168-cef5-4db5-9b49-0a49104e6656"
      },
      "execution_count": 12,
      "outputs": [
        {
          "output_type": "display_data",
          "data": {
            "text/plain": [
              "<Figure size 640x480 with 1 Axes>"
            ],
            "image/png": "[encoded data removed]"
          },
          "metadata": {}
        }
      ]
    },
    {
      "cell_type": "markdown",
      "source": [],
      "metadata": {
        "id": "m9WluOO81Ehh"
      }
    },
    {
      "cell_type": "markdown",
      "source": [
        "# 4 - Utilizando KNN (Treino e Teste)\n"
      ],
      "metadata": {
        "id": "AmuihvFTt_0b"
      }
    },
    {
      "cell_type": "code",
      "source": [
        "#Divisão em inputs e outputs\n",
        "X = dados_final.drop('Churn', axis = 1)\n",
        "y = dados_final['Churn']\n"
      ],
      "metadata": {
        "id": "OMIzuyLWyhKz"
      },
      "execution_count": 13,
      "outputs": []
    },
    {
      "cell_type": "code",
      "source": [
        "#biblioteca para padronizar os dados\n",
        "from sklearn.preprocessing import StandardScaler\n",
        "norm = StandardScaler()\n",
        "\n",
        "X_normalizado = norm.fit_transform(X)"
      ],
      "metadata": {
        "id": "5f9gaInyypGA"
      },
      "execution_count": 14,
      "outputs": []
    },
    {
      "cell_type": "code",
      "source": [
        "#biblioteca para divisão dos dados\n",
        "from sklearn.model_selection import train_test_split\n",
        "\n",
        "X_treino, X_teste, y_treino, y_teste = train_test_split(X_normalizado, y, test_size=0.3, random_state=123)\n",
        "\n",
        "#biblioteca para criarmos o modelo de machine learning\n",
        "from sklearn.neighbors import KNeighborsClassifier"
      ],
      "metadata": {
        "id": "a-dIvQEjzB_M"
      },
      "execution_count": 15,
      "outputs": []
    },
    {
      "cell_type": "code",
      "source": [
        "#instanciar o modelo (criamos o modelo) - por padrão são 5 vizinhos\n",
        "knn = KNeighborsClassifier(metric='euclidean')\n",
        "\n",
        "#treinando o modelo com os dados de treino\n",
        "knn.fit(X_treino, y_treino)"
      ],
      "metadata": {
        "id": "7wQt__33yvvg",
        "colab": {
          "base_uri": "https://localhost:8080/",
          "height": 75
        },
        "outputId": "e18ccf53-115f-4c39-fef3-5f06dfa9e199"
      },
      "execution_count": 16,
      "outputs": [
        {
          "output_type": "execute_result",
          "data": {
            "text/plain": [
              "KNeighborsClassifier(metric='euclidean')"
            ],
            "text/html": [
              "<style>#sk-container-id-1 {color: black;background-color: white;}#sk-container-id-1 pre{padding: 0;}#sk-container-id-1 div.sk-toggleable {background-color: white;}#sk-container-id-1 label.sk-toggleable__label {cursor: pointer;display: block;width: 100%;margin-bottom: 0;padding: 0.3em;box-sizing: border-box;text-align: center;}#sk-container-id-1 label.sk-toggleable__label-arrow:before {content: \"▸\";float: left;margin-right: 0.25em;color: #696969;}#sk-container-id-1 label.sk-toggleable__label-arrow:hover:before {color: black;}#sk-container-id-1 div.sk-estimator:hover label.sk-toggleable__label-arrow:before {color: black;}#sk-container-id-1 div.sk-toggleable__content {max-height: 0;max-width: 0;overflow: hidden;text-align: left;background-color: #f0f8ff;}#sk-container-id-1 div.sk-toggleable__content pre {margin: 0.2em;color: black;border-radius: 0.25em;background-color: #f0f8ff;}#sk-container-id-1 input.sk-toggleable__control:checked~div.sk-toggleable__content {max-height: 200px;max-width: 100%;overflow: auto;}#sk-container-id-1 input.sk-toggleable__control:checked~label.sk-toggleable__label-arrow:before {content: \"▾\";}#sk-container-id-1 div.sk-estimator input.sk-toggleable__control:checked~label.sk-toggleable__label {background-color: #d4ebff;}#sk-container-id-1 div.sk-label input.sk-toggleable__control:checked~label.sk-toggleable__label {background-color: #d4ebff;}#sk-container-id-1 input.sk-hidden--visually {border: 0;clip: rect(1px 1px 1px 1px);clip: rect(1px, 1px, 1px, 1px);height: 1px;margin: -1px;overflow: hidden;padding: 0;position: absolute;width: 1px;}#sk-container-id-1 div.sk-estimator {font-family: monospace;background-color: #f0f8ff;border: 1px dotted black;border-radius: 0.25em;box-sizing: border-box;margin-bottom: 0.5em;}#sk-container-id-1 div.sk-estimator:hover {background-color: #d4ebff;}#sk-container-id-1 div.sk-parallel-item::after {content: \"\";width: 100%;border-bottom: 1px solid gray;flex-grow: 1;}#sk-container-id-1 div.sk-label:hover label.sk-toggleable__label {background-color: #d4ebff;}#sk-container-id-1 div.sk-serial::before {content: \"\";position: absolute;border-left: 1px solid gray;box-sizing: border-box;top: 0;bottom: 0;left: 50%;z-index: 0;}#sk-container-id-1 div.sk-serial {display: flex;flex-direction: column;align-items: center;background-color: white;padding-right: 0.2em;padding-left: 0.2em;position: relative;}#sk-container-id-1 div.sk-item {position: relative;z-index: 1;}#sk-container-id-1 div.sk-parallel {display: flex;align-items: stretch;justify-content: center;background-color: white;position: relative;}#sk-container-id-1 div.sk-item::before, #sk-container-id-1 div.sk-parallel-item::before {content: \"\";position: absolute;border-left: 1px solid gray;box-sizing: border-box;top: 0;bottom: 0;left: 50%;z-index: -1;}#sk-container-id-1 div.sk-parallel-item {display: flex;flex-direction: column;z-index: 1;position: relative;background-color: white;}#sk-container-id-1 div.sk-parallel-item:first-child::after {align-self: flex-end;width: 50%;}#sk-container-id-1 div.sk-parallel-item:last-child::after {align-self: flex-start;width: 50%;}#sk-container-id-1 div.sk-parallel-item:only-child::after {width: 0;}#sk-container-id-1 div.sk-dashed-wrapped {border: 1px dashed gray;margin: 0 0.4em 0.5em 0.4em;box-sizing: border-box;padding-bottom: 0.4em;background-color: white;}#sk-container-id-1 div.sk-label label {font-family: monospace;font-weight: bold;display: inline-block;line-height: 1.2em;}#sk-container-id-1 div.sk-label-container {text-align: center;}#sk-container-id-1 div.sk-container {/* jupyter's `normalize.less` sets `[hidden] { display: none; }` but bootstrap.min.css set `[hidden] { display: none !important; }` so we also need the `!important` here to be able to override the default hidden behavior on the sphinx rendered scikit-learn.org. See: https://github.com/scikit-learn/scikit-learn/issues/21755 */display: inline-block !important;position: relative;}#sk-container-id-1 div.sk-text-repr-fallback {display: none;}</style><div id=\"sk-container-id-1\" class=\"sk-top-container\"><div class=\"sk-text-repr-fallback\"><pre>KNeighborsClassifier(metric=&#x27;euclidean&#x27;)</pre><b>In a Jupyter environment, please rerun this cell to show the HTML representation or trust the notebook. <br />On GitHub, the HTML representation is unable to render, please try loading this page with nbviewer.org.</b></div><div class=\"sk-container\" hidden><div class=\"sk-item\"><div class=\"sk-estimator sk-toggleable\"><input class=\"sk-toggleable__control sk-hidden--visually\" id=\"sk-estimator-id-1\" type=\"checkbox\" checked><label for=\"sk-estimator-id-1\" class=\"sk-toggleable__label sk-toggleable__label-arrow\">KNeighborsClassifier</label><div class=\"sk-toggleable__content\"><pre>KNeighborsClassifier(metric=&#x27;euclidean&#x27;)</pre></div></div></div></div></div>"
            ]
          },
          "metadata": {},
          "execution_count": 16
        }
      ]
    },
    {
      "cell_type": "code",
      "source": [
        "#testando o modelo com os dados de teste\n",
        "predito_knn = knn.predict(X_teste)\n",
        "predito_knn"
      ],
      "metadata": {
        "colab": {
          "base_uri": "https://localhost:8080/"
        },
        "id": "fuofLByQzgW1",
        "outputId": "99158a56-4046-4b3f-a82d-742bc5e393a0"
      },
      "execution_count": 17,
      "outputs": [
        {
          "output_type": "execute_result",
          "data": {
            "text/plain": [
              "array([1, 0, 0, ..., 0, 1, 1])"
            ]
          },
          "metadata": {},
          "execution_count": 17
        }
      ]
    },
    {
      "cell_type": "markdown",
      "source": [
        "#4.1  - Previsao do Churn de Maria"
      ],
      "metadata": {
        "id": "_vm_WFIvZzcc"
      }
    },
    {
      "cell_type": "markdown",
      "source": [
        "interesse em saber Ymaria, ou seja, se ela vai cancelar o plano ou não"
      ],
      "metadata": {
        "id": "3f2kCj4QyabU"
      }
    },
    {
      "cell_type": "code",
      "source": [
        "Xmaria = [[0,0,1,1,0,0,39.90,1,0,0,0,1,0,1,0,0,0,0,1,1,1,0,0,1,0,1,0,0,0,0,1,0,0,1,0,0,0,1]]\n"
      ],
      "metadata": {
        "id": "fko7FvA8t_bt"
      },
      "execution_count": 18,
      "outputs": []
    },
    {
      "cell_type": "code",
      "source": [
        "Xmaria_normalizado = norm.transform(pd.DataFrame(Xmaria, columns = X.columns))\n",
        "Xmaria_normalizado"
      ],
      "metadata": {
        "colab": {
          "base_uri": "https://localhost:8080/"
        },
        "id": "Wl7ZtNEG1kNQ",
        "outputId": "e9323a4c-3b26-4f03-869f-ad0622fb8259"
      },
      "execution_count": 19,
      "outputs": [
        {
          "output_type": "execute_result",
          "data": {
            "text/plain": [
              "array([[-0.79024667, -0.52771004,  0.32670777,  0.81482091, -0.41318358,\n",
              "        -1.14938255, -0.97236043,  1.13061554, -0.31386908, -0.83366906,\n",
              "        -0.66107688,  0.95797538, -0.44617598,  0.86827317, -0.44617598,\n",
              "        -0.51721942, -0.95834643, -0.44617598,  1.57389661,  1.04285807,\n",
              "         2.24126814, -0.64211419, -1.13662476,  2.24126814, -0.52426638,\n",
              "         1.18690873, -0.44617598, -0.77707385, -0.83117367, -0.44617598,\n",
              "         1.26620316, -0.44648735, -1.35522058,  2.38155929, -0.42576817,\n",
              "        -0.76702973, -0.47912706,  2.293498  ]])"
            ]
          },
          "metadata": {},
          "execution_count": 19
        }
      ]
    },
    {
      "cell_type": "code",
      "source": [
        " predito_maria = knn.predict(Xmaria_normalizado)\n",
        " predito_maria #se 1 o churn é positivo, se 0 negativo"
      ],
      "metadata": {
        "colab": {
          "base_uri": "https://localhost:8080/"
        },
        "id": "D_NNlwyb0hjp",
        "outputId": "bee5b20c-509c-4bde-a842-e11df9ba9175"
      },
      "execution_count": 20,
      "outputs": [
        {
          "output_type": "execute_result",
          "data": {
            "text/plain": [
              "array([0])"
            ]
          },
          "metadata": {},
          "execution_count": 20
        }
      ]
    },
    {
      "cell_type": "markdown",
      "source": [
        "# 5 - Utilizando Naive Bayes"
      ],
      "metadata": {
        "id": "ppGmo7Vr1hTA"
      }
    },
    {
      "cell_type": "code",
      "source": [
        "from sklearn.naive_bayes import BernoulliNB\n",
        "import numpy as np"
      ],
      "metadata": {
        "id": "YXFn2pDL1rKg"
      },
      "execution_count": 21,
      "outputs": []
    },
    {
      "cell_type": "markdown",
      "source": [
        "Existem variaveis que nao sao binarias, possuindo mais de duas categorias possiveis. Iremos, entao, adequa-las ao modelo com parametro binarize do comando bernoullinb\n",
        "\n",
        "Iremos utilizar mediana para dividir o treino e criar o modelo. As observações de X_treino com valores acima da mediana assumirão valor 1 e abaixo assumirão valor 0"
      ],
      "metadata": {
        "id": "sw8A_yUB3n5z"
      }
    },
    {
      "cell_type": "code",
      "source": [
        "med = np.abs(np.median(X_treino))\n",
        "\n",
        "bnb = BernoulliNB(binarize=med)"
      ],
      "metadata": {
        "id": "VLZ91Xjv3owv"
      },
      "execution_count": 22,
      "outputs": []
    },
    {
      "cell_type": "code",
      "source": [
        "bnb.fit(X_treino, y_treino)"
      ],
      "metadata": {
        "colab": {
          "base_uri": "https://localhost:8080/",
          "height": 75
        },
        "id": "oBA-NKAH3iUF",
        "outputId": "765d6718-6e38-489e-de82-40c602469d02"
      },
      "execution_count": 23,
      "outputs": [
        {
          "output_type": "execute_result",
          "data": {
            "text/plain": [
              "BernoulliNB(binarize=0.4461759755508453)"
            ],
            "text/html": [
              "<style>#sk-container-id-2 {color: black;background-color: white;}#sk-container-id-2 pre{padding: 0;}#sk-container-id-2 div.sk-toggleable {background-color: white;}#sk-container-id-2 label.sk-toggleable__label {cursor: pointer;display: block;width: 100%;margin-bottom: 0;padding: 0.3em;box-sizing: border-box;text-align: center;}#sk-container-id-2 label.sk-toggleable__label-arrow:before {content: \"▸\";float: left;margin-right: 0.25em;color: #696969;}#sk-container-id-2 label.sk-toggleable__label-arrow:hover:before {color: black;}#sk-container-id-2 div.sk-estimator:hover label.sk-toggleable__label-arrow:before {color: black;}#sk-container-id-2 div.sk-toggleable__content {max-height: 0;max-width: 0;overflow: hidden;text-align: left;background-color: #f0f8ff;}#sk-container-id-2 div.sk-toggleable__content pre {margin: 0.2em;color: black;border-radius: 0.25em;background-color: #f0f8ff;}#sk-container-id-2 input.sk-toggleable__control:checked~div.sk-toggleable__content {max-height: 200px;max-width: 100%;overflow: auto;}#sk-container-id-2 input.sk-toggleable__control:checked~label.sk-toggleable__label-arrow:before {content: \"▾\";}#sk-container-id-2 div.sk-estimator input.sk-toggleable__control:checked~label.sk-toggleable__label {background-color: #d4ebff;}#sk-container-id-2 div.sk-label input.sk-toggleable__control:checked~label.sk-toggleable__label {background-color: #d4ebff;}#sk-container-id-2 input.sk-hidden--visually {border: 0;clip: rect(1px 1px 1px 1px);clip: rect(1px, 1px, 1px, 1px);height: 1px;margin: -1px;overflow: hidden;padding: 0;position: absolute;width: 1px;}#sk-container-id-2 div.sk-estimator {font-family: monospace;background-color: #f0f8ff;border: 1px dotted black;border-radius: 0.25em;box-sizing: border-box;margin-bottom: 0.5em;}#sk-container-id-2 div.sk-estimator:hover {background-color: #d4ebff;}#sk-container-id-2 div.sk-parallel-item::after {content: \"\";width: 100%;border-bottom: 1px solid gray;flex-grow: 1;}#sk-container-id-2 div.sk-label:hover label.sk-toggleable__label {background-color: #d4ebff;}#sk-container-id-2 div.sk-serial::before {content: \"\";position: absolute;border-left: 1px solid gray;box-sizing: border-box;top: 0;bottom: 0;left: 50%;z-index: 0;}#sk-container-id-2 div.sk-serial {display: flex;flex-direction: column;align-items: center;background-color: white;padding-right: 0.2em;padding-left: 0.2em;position: relative;}#sk-container-id-2 div.sk-item {position: relative;z-index: 1;}#sk-container-id-2 div.sk-parallel {display: flex;align-items: stretch;justify-content: center;background-color: white;position: relative;}#sk-container-id-2 div.sk-item::before, #sk-container-id-2 div.sk-parallel-item::before {content: \"\";position: absolute;border-left: 1px solid gray;box-sizing: border-box;top: 0;bottom: 0;left: 50%;z-index: -1;}#sk-container-id-2 div.sk-parallel-item {display: flex;flex-direction: column;z-index: 1;position: relative;background-color: white;}#sk-container-id-2 div.sk-parallel-item:first-child::after {align-self: flex-end;width: 50%;}#sk-container-id-2 div.sk-parallel-item:last-child::after {align-self: flex-start;width: 50%;}#sk-container-id-2 div.sk-parallel-item:only-child::after {width: 0;}#sk-container-id-2 div.sk-dashed-wrapped {border: 1px dashed gray;margin: 0 0.4em 0.5em 0.4em;box-sizing: border-box;padding-bottom: 0.4em;background-color: white;}#sk-container-id-2 div.sk-label label {font-family: monospace;font-weight: bold;display: inline-block;line-height: 1.2em;}#sk-container-id-2 div.sk-label-container {text-align: center;}#sk-container-id-2 div.sk-container {/* jupyter's `normalize.less` sets `[hidden] { display: none; }` but bootstrap.min.css set `[hidden] { display: none !important; }` so we also need the `!important` here to be able to override the default hidden behavior on the sphinx rendered scikit-learn.org. See: https://github.com/scikit-learn/scikit-learn/issues/21755 */display: inline-block !important;position: relative;}#sk-container-id-2 div.sk-text-repr-fallback {display: none;}</style><div id=\"sk-container-id-2\" class=\"sk-top-container\"><div class=\"sk-text-repr-fallback\"><pre>BernoulliNB(binarize=0.4461759755508453)</pre><b>In a Jupyter environment, please rerun this cell to show the HTML representation or trust the notebook. <br />On GitHub, the HTML representation is unable to render, please try loading this page with nbviewer.org.</b></div><div class=\"sk-container\" hidden><div class=\"sk-item\"><div class=\"sk-estimator sk-toggleable\"><input class=\"sk-toggleable__control sk-hidden--visually\" id=\"sk-estimator-id-2\" type=\"checkbox\" checked><label for=\"sk-estimator-id-2\" class=\"sk-toggleable__label sk-toggleable__label-arrow\">BernoulliNB</label><div class=\"sk-toggleable__content\"><pre>BernoulliNB(binarize=0.4461759755508453)</pre></div></div></div></div></div>"
            ]
          },
          "metadata": {},
          "execution_count": 23
        }
      ]
    },
    {
      "cell_type": "markdown",
      "source": [
        "Prevendo valores de teste"
      ],
      "metadata": {
        "id": "pVfcaH126FsD"
      }
    },
    {
      "cell_type": "code",
      "source": [
        "predito_bnb = bnb.predict(X_teste)\n",
        "predito_bnb"
      ],
      "metadata": {
        "colab": {
          "base_uri": "https://localhost:8080/"
        },
        "id": "GFGD65sA5FIn",
        "outputId": "c356fc51-62c5-4a16-9ab9-ef5adcf6dd33"
      },
      "execution_count": 24,
      "outputs": [
        {
          "output_type": "execute_result",
          "data": {
            "text/plain": [
              "array([1, 0, 0, ..., 1, 1, 1])"
            ]
          },
          "metadata": {},
          "execution_count": 24
        }
      ]
    },
    {
      "cell_type": "markdown",
      "source": [
        "# 5.1 Previsao do Churn de Maria (Naive Bayes)"
      ],
      "metadata": {
        "id": "Bol3NeWd6fhg"
      }
    },
    {
      "cell_type": "code",
      "source": [
        "predito_mariabnb = bnb.predict(Xmaria_normalizado)\n",
        "predito_mariabnb #se 1 o churn é positivo, se 0 negativo"
      ],
      "metadata": {
        "colab": {
          "base_uri": "https://localhost:8080/"
        },
        "id": "NrRp2kzk6nf-",
        "outputId": "47519ced-1c1a-4cc1-a122-5f10910e8b5c"
      },
      "execution_count": 25,
      "outputs": [
        {
          "output_type": "execute_result",
          "data": {
            "text/plain": [
              "array([0])"
            ]
          },
          "metadata": {},
          "execution_count": 25
        }
      ]
    },
    {
      "cell_type": "markdown",
      "source": [
        "assim como no KNN, cliente Maria possui baixa probabilidade de deixar a cia telefonica."
      ],
      "metadata": {
        "id": "xrev99fo8AzS"
      }
    },
    {
      "cell_type": "markdown",
      "source": [
        "# 6 - Utilizando Árvore de Decisão"
      ],
      "metadata": {
        "id": "7iVjvhW08IQa"
      }
    },
    {
      "cell_type": "code",
      "source": [
        "from sklearn.tree import DecisionTreeClassifier"
      ],
      "metadata": {
        "id": "Rf7-4w4H8RGo"
      },
      "execution_count": 26,
      "outputs": []
    },
    {
      "cell_type": "code",
      "source": [
        "dtc = DecisionTreeClassifier(criterion='entropy',random_state=42)"
      ],
      "metadata": {
        "id": "Gqi8tJfWSLbx"
      },
      "execution_count": 27,
      "outputs": []
    },
    {
      "cell_type": "code",
      "source": [
        "#treinar o modelo\n",
        "dtc.fit(X_treino, y_treino)"
      ],
      "metadata": {
        "colab": {
          "base_uri": "https://localhost:8080/",
          "height": 75
        },
        "id": "RDQ5kIl3SVao",
        "outputId": "ad25e0c0-4aae-46f9-85f0-2a6e234c79c6"
      },
      "execution_count": 28,
      "outputs": [
        {
          "output_type": "execute_result",
          "data": {
            "text/plain": [
              "DecisionTreeClassifier(criterion='entropy', random_state=42)"
            ],
            "text/html": [
              "<style>#sk-container-id-3 {color: black;background-color: white;}#sk-container-id-3 pre{padding: 0;}#sk-container-id-3 div.sk-toggleable {background-color: white;}#sk-container-id-3 label.sk-toggleable__label {cursor: pointer;display: block;width: 100%;margin-bottom: 0;padding: 0.3em;box-sizing: border-box;text-align: center;}#sk-container-id-3 label.sk-toggleable__label-arrow:before {content: \"▸\";float: left;margin-right: 0.25em;color: #696969;}#sk-container-id-3 label.sk-toggleable__label-arrow:hover:before {color: black;}#sk-container-id-3 div.sk-estimator:hover label.sk-toggleable__label-arrow:before {color: black;}#sk-container-id-3 div.sk-toggleable__content {max-height: 0;max-width: 0;overflow: hidden;text-align: left;background-color: #f0f8ff;}#sk-container-id-3 div.sk-toggleable__content pre {margin: 0.2em;color: black;border-radius: 0.25em;background-color: #f0f8ff;}#sk-container-id-3 input.sk-toggleable__control:checked~div.sk-toggleable__content {max-height: 200px;max-width: 100%;overflow: auto;}#sk-container-id-3 input.sk-toggleable__control:checked~label.sk-toggleable__label-arrow:before {content: \"▾\";}#sk-container-id-3 div.sk-estimator input.sk-toggleable__control:checked~label.sk-toggleable__label {background-color: #d4ebff;}#sk-container-id-3 div.sk-label input.sk-toggleable__control:checked~label.sk-toggleable__label {background-color: #d4ebff;}#sk-container-id-3 input.sk-hidden--visually {border: 0;clip: rect(1px 1px 1px 1px);clip: rect(1px, 1px, 1px, 1px);height: 1px;margin: -1px;overflow: hidden;padding: 0;position: absolute;width: 1px;}#sk-container-id-3 div.sk-estimator {font-family: monospace;background-color: #f0f8ff;border: 1px dotted black;border-radius: 0.25em;box-sizing: border-box;margin-bottom: 0.5em;}#sk-container-id-3 div.sk-estimator:hover {background-color: #d4ebff;}#sk-container-id-3 div.sk-parallel-item::after {content: \"\";width: 100%;border-bottom: 1px solid gray;flex-grow: 1;}#sk-container-id-3 div.sk-label:hover label.sk-toggleable__label {background-color: #d4ebff;}#sk-container-id-3 div.sk-serial::before {content: \"\";position: absolute;border-left: 1px solid gray;box-sizing: border-box;top: 0;bottom: 0;left: 50%;z-index: 0;}#sk-container-id-3 div.sk-serial {display: flex;flex-direction: column;align-items: center;background-color: white;padding-right: 0.2em;padding-left: 0.2em;position: relative;}#sk-container-id-3 div.sk-item {position: relative;z-index: 1;}#sk-container-id-3 div.sk-parallel {display: flex;align-items: stretch;justify-content: center;background-color: white;position: relative;}#sk-container-id-3 div.sk-item::before, #sk-container-id-3 div.sk-parallel-item::before {content: \"\";position: absolute;border-left: 1px solid gray;box-sizing: border-box;top: 0;bottom: 0;left: 50%;z-index: -1;}#sk-container-id-3 div.sk-parallel-item {display: flex;flex-direction: column;z-index: 1;position: relative;background-color: white;}#sk-container-id-3 div.sk-parallel-item:first-child::after {align-self: flex-end;width: 50%;}#sk-container-id-3 div.sk-parallel-item:last-child::after {align-self: flex-start;width: 50%;}#sk-container-id-3 div.sk-parallel-item:only-child::after {width: 0;}#sk-container-id-3 div.sk-dashed-wrapped {border: 1px dashed gray;margin: 0 0.4em 0.5em 0.4em;box-sizing: border-box;padding-bottom: 0.4em;background-color: white;}#sk-container-id-3 div.sk-label label {font-family: monospace;font-weight: bold;display: inline-block;line-height: 1.2em;}#sk-container-id-3 div.sk-label-container {text-align: center;}#sk-container-id-3 div.sk-container {/* jupyter's `normalize.less` sets `[hidden] { display: none; }` but bootstrap.min.css set `[hidden] { display: none !important; }` so we also need the `!important` here to be able to override the default hidden behavior on the sphinx rendered scikit-learn.org. See: https://github.com/scikit-learn/scikit-learn/issues/21755 */display: inline-block !important;position: relative;}#sk-container-id-3 div.sk-text-repr-fallback {display: none;}</style><div id=\"sk-container-id-3\" class=\"sk-top-container\"><div class=\"sk-text-repr-fallback\"><pre>DecisionTreeClassifier(criterion=&#x27;entropy&#x27;, random_state=42)</pre><b>In a Jupyter environment, please rerun this cell to show the HTML representation or trust the notebook. <br />On GitHub, the HTML representation is unable to render, please try loading this page with nbviewer.org.</b></div><div class=\"sk-container\" hidden><div class=\"sk-item\"><div class=\"sk-estimator sk-toggleable\"><input class=\"sk-toggleable__control sk-hidden--visually\" id=\"sk-estimator-id-3\" type=\"checkbox\" checked><label for=\"sk-estimator-id-3\" class=\"sk-toggleable__label sk-toggleable__label-arrow\">DecisionTreeClassifier</label><div class=\"sk-toggleable__content\"><pre>DecisionTreeClassifier(criterion=&#x27;entropy&#x27;, random_state=42)</pre></div></div></div></div></div>"
            ]
          },
          "metadata": {},
          "execution_count": 28
        }
      ]
    },
    {
      "cell_type": "code",
      "source": [
        "predito_ArvoreDecisao = dtc.predict(X_teste)\n"
      ],
      "metadata": {
        "id": "AHTQ-i0qSfqn"
      },
      "execution_count": 44,
      "outputs": []
    },
    {
      "cell_type": "markdown",
      "source": [
        "# 6.1 Previsao do Churn de Maria (Arvore de Decisao)"
      ],
      "metadata": {
        "id": "mDfMMCkHS-VZ"
      }
    },
    {
      "cell_type": "code",
      "source": [
        "predito_mariadtc = dtc.predict(Xmaria_normalizado)\n",
        "predito_mariadtc #se 1 o churn é positivo, se 0 negativo"
      ],
      "metadata": {
        "colab": {
          "base_uri": "https://localhost:8080/"
        },
        "outputId": "becf7564-e502-4df4-d7da-b8d235fb9b7a",
        "id": "69p_mNgRS-Wc"
      },
      "execution_count": 30,
      "outputs": [
        {
          "output_type": "execute_result",
          "data": {
            "text/plain": [
              "array([0])"
            ]
          },
          "metadata": {},
          "execution_count": 30
        }
      ]
    },
    {
      "cell_type": "markdown",
      "source": [
        "assim como nos algoritmos anteriores, cliente Maria possui baixa probabilidade de deixar a cia telefonica."
      ],
      "metadata": {
        "id": "NbCqRLaHS-Wc"
      }
    },
    {
      "cell_type": "markdown",
      "source": [
        "#7 - Validando Modelos"
      ],
      "metadata": {
        "id": "bpH1zrV4TOn6"
      }
    },
    {
      "cell_type": "markdown",
      "source": [
        "a fim de avaliar a qualidade dos algoritimos, é interessante visualizar sua matriz de confusao, bem como, quantificar sua acuracia e precisão. para uma analise mais completo, sugiro calculo de especificidade e sensibilidade (recall)."
      ],
      "metadata": {
        "id": "c5YC5zimWVu9"
      }
    },
    {
      "cell_type": "markdown",
      "source": [
        "# 7.1 - Matriz de Confusão"
      ],
      "metadata": {
        "id": "hppZeN5FZ78N"
      }
    },
    {
      "cell_type": "markdown",
      "source": [
        "![matrizConfusao-600x381.png](data:image/png;base64,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)"
      ],
      "metadata": {
        "id": "8reZfahL1KFp"
      }
    },
    {
      "cell_type": "code",
      "source": [
        "from sklearn.metrics import confusion_matrix"
      ],
      "metadata": {
        "id": "2g9l4FPBTSGd"
      },
      "execution_count": 31,
      "outputs": []
    },
    {
      "cell_type": "markdown",
      "source": [
        "Matriz de confusao para KNN:"
      ],
      "metadata": {
        "id": "XVt_v6xMVMeN"
      }
    },
    {
      "cell_type": "code",
      "source": [
        "print(confusion_matrix(y_teste, predito_knn))"
      ],
      "metadata": {
        "colab": {
          "base_uri": "https://localhost:8080/"
        },
        "id": "8RUlm4ejVMeO",
        "outputId": "dd946def-4eb9-49b6-fbc4-9b5bd831288c"
      },
      "execution_count": 37,
      "outputs": [
        {
          "output_type": "stream",
          "name": "stdout",
          "text": [
            "[[1242  327]\n",
            " [ 248 1288]]\n"
          ]
        }
      ]
    },
    {
      "cell_type": "markdown",
      "source": [
        "Matriz de confusao para Naives Bayes:"
      ],
      "metadata": {
        "id": "aSuxQkbrU9XO"
      }
    },
    {
      "cell_type": "code",
      "source": [
        "print(confusion_matrix(y_teste, predito_bnb))"
      ],
      "metadata": {
        "colab": {
          "base_uri": "https://localhost:8080/"
        },
        "id": "feiiyWW8Td76",
        "outputId": "308e10ca-26fc-407f-cae2-a812a9aa1ce7"
      },
      "execution_count": 40,
      "outputs": [
        {
          "output_type": "stream",
          "name": "stdout",
          "text": [
            "[[1084  485]\n",
            " [ 238 1298]]\n"
          ]
        }
      ]
    },
    {
      "cell_type": "markdown",
      "source": [
        "Matriz de confusao para Arvore de Decisao:"
      ],
      "metadata": {
        "id": "1cq-Z8bQVMQr"
      }
    },
    {
      "cell_type": "code",
      "source": [
        "print(confusion_matrix(y_teste, predito_ArvoreDecisao))"
      ],
      "metadata": {
        "colab": {
          "base_uri": "https://localhost:8080/"
        },
        "id": "dUVLfQ3tVMRW",
        "outputId": "b2f5594f-b9f1-471c-f280-eb887cc5ce9c"
      },
      "execution_count": 45,
      "outputs": [
        {
          "output_type": "stream",
          "name": "stdout",
          "text": [
            "[[1250  319]\n",
            " [ 275 1261]]\n"
          ]
        }
      ]
    },
    {
      "cell_type": "markdown",
      "source": [
        "O algoritmo que classificou a maior parte dos verdadeiros positivos foi o de Arvore de Decisao. Porem, o Naives Bayes classificou melhor os verdadeiros negativos.\n",
        "\n",
        "Iremos continuar avaliando-os a partir das estatísticas mencionadas no inicio dessa seção."
      ],
      "metadata": {
        "id": "VJnIa4N-VrDs"
      }
    },
    {
      "cell_type": "markdown",
      "source": [
        "#7.2 - Acuracia"
      ],
      "metadata": {
        "id": "HnX3TgrlZa2a"
      }
    },
    {
      "cell_type": "markdown",
      "source": [
        "![image-1.png](data:image/png;base64,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)"
      ],
      "metadata": {
        "id": "YDTxmkB7ZsrG"
      }
    },
    {
      "cell_type": "code",
      "source": [
        "from sklearn.metrics import accuracy_score"
      ],
      "metadata": {
        "id": "lYv4Vr8EbAlO"
      },
      "execution_count": 48,
      "outputs": []
    },
    {
      "cell_type": "markdown",
      "source": [
        "Acuracia (%) para KNN:"
      ],
      "metadata": {
        "id": "pl-ZT73JbAlv"
      }
    },
    {
      "cell_type": "code",
      "source": [
        "print(accuracy_score(y_teste, predito_knn)*100)"
      ],
      "metadata": {
        "colab": {
          "base_uri": "https://localhost:8080/"
        },
        "outputId": "886d7753-95df-409b-ebf1-8abfbdd67a77",
        "id": "Bxod1yAEbAlw"
      },
      "execution_count": 52,
      "outputs": [
        {
          "output_type": "stream",
          "name": "stdout",
          "text": [
            "81.48148148148148\n"
          ]
        }
      ]
    },
    {
      "cell_type": "markdown",
      "source": [
        "Acuracia (%) para Naives Bayes:"
      ],
      "metadata": {
        "id": "AQib9rRLbAlx"
      }
    },
    {
      "cell_type": "code",
      "source": [
        "print(accuracy_score(y_teste, predito_bnb)*100)"
      ],
      "metadata": {
        "colab": {
          "base_uri": "https://localhost:8080/"
        },
        "outputId": "b277016b-6796-416a-a22f-070cfc4f3853",
        "id": "hxMpG4V2bAly"
      },
      "execution_count": 53,
      "outputs": [
        {
          "output_type": "stream",
          "name": "stdout",
          "text": [
            "76.71497584541062\n"
          ]
        }
      ]
    },
    {
      "cell_type": "markdown",
      "source": [
        "Acuracia (%) para Arvore de Decisao:"
      ],
      "metadata": {
        "id": "P5dxfL_AbAlz"
      }
    },
    {
      "cell_type": "code",
      "source": [
        "print(accuracy_score(y_teste, predito_ArvoreDecisao)*100)"
      ],
      "metadata": {
        "colab": {
          "base_uri": "https://localhost:8080/"
        },
        "outputId": "5cfccbf5-b4e8-4a8a-f874-a49d7c601464",
        "id": "a6E24xPNbAlz"
      },
      "execution_count": 54,
      "outputs": [
        {
          "output_type": "stream",
          "name": "stdout",
          "text": [
            "80.8695652173913\n"
          ]
        }
      ]
    },
    {
      "cell_type": "markdown",
      "source": [
        "Vemos que o algoritmo com maior acuracia, ou seja, que preveu os verdadeiros valores com maior frequencia, foi o KNN. Em seguida, Arvore de Decisao e Naive Bayes"
      ],
      "metadata": {
        "id": "vK7gL-HtbAl0"
      }
    },
    {
      "cell_type": "markdown",
      "source": [
        "#7.3 - Precisão"
      ],
      "metadata": {
        "id": "CHula6pQaOqU"
      }
    },
    {
      "cell_type": "markdown",
      "source": [
        "![image-4.png](data:image/png;base64,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)"
      ],
      "metadata": {
        "id": "jI8q7JJxaa2F"
      }
    },
    {
      "cell_type": "code",
      "source": [
        "from sklearn.metrics import precision_score"
      ],
      "metadata": {
        "id": "tN3MfDCIa_GL"
      },
      "execution_count": 57,
      "outputs": []
    },
    {
      "cell_type": "markdown",
      "source": [
        "Precisao (%) para KNN:"
      ],
      "metadata": {
        "id": "hy9Xtfm6c7mD"
      }
    },
    {
      "cell_type": "code",
      "source": [
        "print(precision_score(y_teste, predito_knn)*100)"
      ],
      "metadata": {
        "colab": {
          "base_uri": "https://localhost:8080/"
        },
        "outputId": "c47c7d63-915d-4f1b-ba98-6737ce4625ba",
        "id": "t2jq64ywc7mb"
      },
      "execution_count": 58,
      "outputs": [
        {
          "output_type": "stream",
          "name": "stdout",
          "text": [
            "79.75232198142415\n"
          ]
        }
      ]
    },
    {
      "cell_type": "markdown",
      "source": [
        "Precisao (%) para Naives Bayes:"
      ],
      "metadata": {
        "id": "UHwzMSXMc7mc"
      }
    },
    {
      "cell_type": "code",
      "source": [
        "print(precision_score(y_teste, predito_bnb)*100)"
      ],
      "metadata": {
        "colab": {
          "base_uri": "https://localhost:8080/"
        },
        "outputId": "357091fb-060b-4b3a-d03b-a7c8b7e3194f",
        "id": "9uLjrCuTc7mc"
      },
      "execution_count": 59,
      "outputs": [
        {
          "output_type": "stream",
          "name": "stdout",
          "text": [
            "72.79865395401009\n"
          ]
        }
      ]
    },
    {
      "cell_type": "markdown",
      "source": [
        "Precisao (%) para Arvore de Decisao:"
      ],
      "metadata": {
        "id": "3DQGNAtcc7md"
      }
    },
    {
      "cell_type": "code",
      "source": [
        "print(precision_score(y_teste, predito_ArvoreDecisao)*100)"
      ],
      "metadata": {
        "colab": {
          "base_uri": "https://localhost:8080/"
        },
        "outputId": "a6ec3625-ad40-442d-a389-853fae51b19b",
        "id": "aqGPyRzpc7md"
      },
      "execution_count": 60,
      "outputs": [
        {
          "output_type": "stream",
          "name": "stdout",
          "text": [
            "79.81012658227849\n"
          ]
        }
      ]
    },
    {
      "cell_type": "markdown",
      "source": [
        "Avaliando o percentual de positivos que foram corretamente previstos, temos que KNN e Arvore de Decisao possuem as performance mais satisfatorias, em torno de 80% em ambos os casos"
      ],
      "metadata": {
        "id": "kSF9SWjKchZJ"
      }
    },
    {
      "cell_type": "markdown",
      "source": [
        "#7.4 - Sensibilidade (Recall)"
      ],
      "metadata": {
        "id": "HE8IeEnpeGIX"
      }
    },
    {
      "cell_type": "markdown",
      "source": [
        "![image-2.png](data:image/png;base64,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)"
      ],
      "metadata": {
        "id": "S4I9ZMqDeGIv"
      }
    },
    {
      "cell_type": "code",
      "source": [
        "from sklearn.metrics import recall_score"
      ],
      "metadata": {
        "id": "UsAtOB1SeGIw"
      },
      "execution_count": 61,
      "outputs": []
    },
    {
      "cell_type": "markdown",
      "source": [
        "Sensibilidade (%) para KNN:"
      ],
      "metadata": {
        "id": "MOQLo9JEeGIw"
      }
    },
    {
      "cell_type": "code",
      "source": [
        "print(recall_score(y_teste, predito_knn)*100)"
      ],
      "metadata": {
        "colab": {
          "base_uri": "https://localhost:8080/"
        },
        "outputId": "c50b86b4-aff1-4386-f384-62efa79a4b32",
        "id": "bcrkZoM7eGIw"
      },
      "execution_count": 62,
      "outputs": [
        {
          "output_type": "stream",
          "name": "stdout",
          "text": [
            "83.85416666666666\n"
          ]
        }
      ]
    },
    {
      "cell_type": "markdown",
      "source": [
        "Sensibilidade (%) para Naives Bayes:"
      ],
      "metadata": {
        "id": "M-1CCDMgeGIx"
      }
    },
    {
      "cell_type": "code",
      "source": [
        "print(recall_score(y_teste, predito_bnb)*100)"
      ],
      "metadata": {
        "colab": {
          "base_uri": "https://localhost:8080/"
        },
        "outputId": "2de4bd5f-0422-44a6-c627-ff86234e4020",
        "id": "LaR8_fbIeGIx"
      },
      "execution_count": 63,
      "outputs": [
        {
          "output_type": "stream",
          "name": "stdout",
          "text": [
            "84.50520833333334\n"
          ]
        }
      ]
    },
    {
      "cell_type": "markdown",
      "source": [
        "Sensibilidade (%) para Arvore de Decisao:"
      ],
      "metadata": {
        "id": "3j6bC_2meGIy"
      }
    },
    {
      "cell_type": "code",
      "source": [
        "print(recall_score(y_teste, predito_ArvoreDecisao)*100)"
      ],
      "metadata": {
        "colab": {
          "base_uri": "https://localhost:8080/"
        },
        "outputId": "32193361-365e-4a0c-ca51-ad8659db826f",
        "id": "ijzKSLjueGIy"
      },
      "execution_count": 64,
      "outputs": [
        {
          "output_type": "stream",
          "name": "stdout",
          "text": [
            "82.09635416666666\n"
          ]
        }
      ]
    },
    {
      "cell_type": "markdown",
      "source": [
        "Avaliando o percentual de verdadeiros positivos que foram corretamente previstos, todos algoritmos são bons. entretanto, naive bayes se destaca por 1 ou 2 pontos percentuais a mais que os outros modelos\n"
      ],
      "metadata": {
        "id": "VG8hJFF5eGIy"
      }
    },
    {
      "cell_type": "markdown",
      "source": [
        "# 8 - Conclusão"
      ],
      "metadata": {
        "id": "bq5h76K-gUo2"
      }
    },
    {
      "cell_type": "markdown",
      "source": [
        "Diante do objetivo de aplicar um modelo de machine learning cujo interesse era classificar o churn de uma cia telefonica, foram executados 3: KNN, Naive Bayes e Decision Tree.\n",
        "\n",
        "De seu modo, todos se mostraram satisfatorios e como não foi mencionado nenhum contexto adicional, sugiro a utilização da **Arvore de Decisoes** pois ela classificou melhor os verdadeiros positivos, possui maior precisao e suas etapas para chegar na classificação final é mais intuitiva para pessoas leigas, sendo mais facil de explicar a outros colaboradores."
      ],
      "metadata": {
        "id": "q4q8BHjngZA9"
      }
    }
  ]
}
