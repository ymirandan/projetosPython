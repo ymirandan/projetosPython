{
 "cells": [
  {
   "cell_type": "markdown",
   "id": "d34203db",
   "metadata": {},
   "source": [
    "<hr>\n",
    "<center>\n",
    "   <font size='4'> <B> Desafio: </B> BMD é uma empresa vende bermudas e está buscando aumentar suas vendas. Ela nos fornece uma base de dados e deseja saber o que pode fazer para melhorar nesse quesito. </font> <br>\n",
    "    <br>\n",
    "    <font size='3'> <I> <B> Análise feita por: </B> Yasmin de Miranda Nobre </I> </font> <br>\n",
    "    <br>\n",
    "    <font size='3'> <I> <B> Base de dados por: </B> Hasthag Programação </I> </font>\n",
    "</center> \n",
    "<hr>\n"
   ]
  },
  {
   "cell_type": "markdown",
   "id": "9e65ace0",
   "metadata": {},
   "source": [
    "## 1) Importando bibliotecas e base de dados"
   ]
  },
  {
   "cell_type": "code",
   "execution_count": 54,
   "id": "f27ad6aa",
   "metadata": {},
   "outputs": [],
   "source": [
    "import pandas as pd\n",
    "import numpy as np\n",
    "import seaborn as sns\n",
    "import matplotlib.pyplot as plt "
   ]
  },
  {
   "cell_type": "code",
   "execution_count": 62,
   "id": "110ffe1a",
   "metadata": {},
   "outputs": [],
   "source": [
    "base = pd.read_excel(\"Vendas.xlsx\")"
   ]
  },
  {
   "cell_type": "markdown",
   "id": "ccf7d41a",
   "metadata": {},
   "source": [
    "## 2) Análise exploratória da base de dados"
   ]
  },
  {
   "cell_type": "code",
   "execution_count": 63,
   "id": "1d5f4d97",
   "metadata": {
    "scrolled": false
   },
   "outputs": [
    {
     "data": {
      "text/html": [
       "<div>\n",
       "<style scoped>\n",
       "    .dataframe tbody tr th:only-of-type {\n",
       "        vertical-align: middle;\n",
       "    }\n",
       "\n",
       "    .dataframe tbody tr th {\n",
       "        vertical-align: top;\n",
       "    }\n",
       "\n",
       "    .dataframe thead th {\n",
       "        text-align: right;\n",
       "    }\n",
       "</style>\n",
       "<table border=\"1\" class=\"dataframe\">\n",
       "  <thead>\n",
       "    <tr style=\"text-align: right;\">\n",
       "      <th></th>\n",
       "      <th>Data</th>\n",
       "      <th>ID Loja</th>\n",
       "      <th>Produto</th>\n",
       "      <th>Quantidade</th>\n",
       "      <th>Valor Unitário</th>\n",
       "      <th>Valor Final</th>\n",
       "    </tr>\n",
       "  </thead>\n",
       "  <tbody>\n",
       "    <tr>\n",
       "      <th>0</th>\n",
       "      <td>2019-12-01</td>\n",
       "      <td>Iguatemi Campinas</td>\n",
       "      <td>Bermuda Estampa</td>\n",
       "      <td>1</td>\n",
       "      <td>169</td>\n",
       "      <td>169</td>\n",
       "    </tr>\n",
       "    <tr>\n",
       "      <th>1</th>\n",
       "      <td>2019-12-01</td>\n",
       "      <td>Iguatemi Esplanada</td>\n",
       "      <td>Bermuda Xadrez</td>\n",
       "      <td>1</td>\n",
       "      <td>155</td>\n",
       "      <td>155</td>\n",
       "    </tr>\n",
       "    <tr>\n",
       "      <th>2</th>\n",
       "      <td>2019-12-01</td>\n",
       "      <td>Norte Shopping</td>\n",
       "      <td>Bermuda</td>\n",
       "      <td>2</td>\n",
       "      <td>150</td>\n",
       "      <td>300</td>\n",
       "    </tr>\n",
       "    <tr>\n",
       "      <th>3</th>\n",
       "      <td>2019-12-01</td>\n",
       "      <td>Iguatemi Campinas</td>\n",
       "      <td>Bermuda Listrado</td>\n",
       "      <td>3</td>\n",
       "      <td>163</td>\n",
       "      <td>489</td>\n",
       "    </tr>\n",
       "    <tr>\n",
       "      <th>4</th>\n",
       "      <td>2019-12-01</td>\n",
       "      <td>Iguatemi Campinas</td>\n",
       "      <td>Bermuda Linho</td>\n",
       "      <td>3</td>\n",
       "      <td>195</td>\n",
       "      <td>585</td>\n",
       "    </tr>\n",
       "  </tbody>\n",
       "</table>\n",
       "</div>"
      ],
      "text/plain": [
       "        Data             ID Loja           Produto  Quantidade  \\\n",
       "0 2019-12-01   Iguatemi Campinas   Bermuda Estampa           1   \n",
       "1 2019-12-01  Iguatemi Esplanada    Bermuda Xadrez           1   \n",
       "2 2019-12-01      Norte Shopping           Bermuda           2   \n",
       "3 2019-12-01   Iguatemi Campinas  Bermuda Listrado           3   \n",
       "4 2019-12-01   Iguatemi Campinas     Bermuda Linho           3   \n",
       "\n",
       "   Valor Unitário  Valor Final  \n",
       "0             169          169  \n",
       "1             155          155  \n",
       "2             150          300  \n",
       "3             163          489  \n",
       "4             195          585  "
      ]
     },
     "execution_count": 63,
     "metadata": {},
     "output_type": "execute_result"
    }
   ],
   "source": [
    "base.head() #visualizando as 5 primeiras observações da base de dados"
   ]
  },
  {
   "cell_type": "markdown",
   "id": "3be308ca",
   "metadata": {},
   "source": [
    "A fim de tornar a análise mais simples, iremos mudar os nomes das variáveis:"
   ]
  },
  {
   "cell_type": "code",
   "execution_count": 64,
   "id": "f5c62b68",
   "metadata": {},
   "outputs": [
    {
     "data": {
      "text/html": [
       "<div>\n",
       "<style scoped>\n",
       "    .dataframe tbody tr th:only-of-type {\n",
       "        vertical-align: middle;\n",
       "    }\n",
       "\n",
       "    .dataframe tbody tr th {\n",
       "        vertical-align: top;\n",
       "    }\n",
       "\n",
       "    .dataframe thead th {\n",
       "        text-align: right;\n",
       "    }\n",
       "</style>\n",
       "<table border=\"1\" class=\"dataframe\">\n",
       "  <thead>\n",
       "    <tr style=\"text-align: right;\">\n",
       "      <th></th>\n",
       "      <th>data</th>\n",
       "      <th>id</th>\n",
       "      <th>produto</th>\n",
       "      <th>qtd</th>\n",
       "      <th>v_u</th>\n",
       "      <th>v_f</th>\n",
       "    </tr>\n",
       "  </thead>\n",
       "  <tbody>\n",
       "    <tr>\n",
       "      <th>0</th>\n",
       "      <td>2019-12-01</td>\n",
       "      <td>Iguatemi Campinas</td>\n",
       "      <td>Bermuda Estampa</td>\n",
       "      <td>1</td>\n",
       "      <td>169</td>\n",
       "      <td>169</td>\n",
       "    </tr>\n",
       "    <tr>\n",
       "      <th>1</th>\n",
       "      <td>2019-12-01</td>\n",
       "      <td>Iguatemi Esplanada</td>\n",
       "      <td>Bermuda Xadrez</td>\n",
       "      <td>1</td>\n",
       "      <td>155</td>\n",
       "      <td>155</td>\n",
       "    </tr>\n",
       "    <tr>\n",
       "      <th>2</th>\n",
       "      <td>2019-12-01</td>\n",
       "      <td>Norte Shopping</td>\n",
       "      <td>Bermuda</td>\n",
       "      <td>2</td>\n",
       "      <td>150</td>\n",
       "      <td>300</td>\n",
       "    </tr>\n",
       "    <tr>\n",
       "      <th>3</th>\n",
       "      <td>2019-12-01</td>\n",
       "      <td>Iguatemi Campinas</td>\n",
       "      <td>Bermuda Listrado</td>\n",
       "      <td>3</td>\n",
       "      <td>163</td>\n",
       "      <td>489</td>\n",
       "    </tr>\n",
       "    <tr>\n",
       "      <th>4</th>\n",
       "      <td>2019-12-01</td>\n",
       "      <td>Iguatemi Campinas</td>\n",
       "      <td>Bermuda Linho</td>\n",
       "      <td>3</td>\n",
       "      <td>195</td>\n",
       "      <td>585</td>\n",
       "    </tr>\n",
       "  </tbody>\n",
       "</table>\n",
       "</div>"
      ],
      "text/plain": [
       "        data                  id           produto  qtd  v_u  v_f\n",
       "0 2019-12-01   Iguatemi Campinas   Bermuda Estampa    1  169  169\n",
       "1 2019-12-01  Iguatemi Esplanada    Bermuda Xadrez    1  155  155\n",
       "2 2019-12-01      Norte Shopping           Bermuda    2  150  300\n",
       "3 2019-12-01   Iguatemi Campinas  Bermuda Listrado    3  163  489\n",
       "4 2019-12-01   Iguatemi Campinas     Bermuda Linho    3  195  585"
      ]
     },
     "execution_count": 64,
     "metadata": {},
     "output_type": "execute_result"
    }
   ],
   "source": [
    "base.columns=['data',\"id\",'produto','qtd','v_u','v_f']\n",
    "base.head()"
   ]
  },
  {
   "cell_type": "markdown",
   "id": "5619f273",
   "metadata": {},
   "source": [
    "Legenda da Base de Dados: <br>\n",
    "   1. <I> data </I>: Dia da venda <br>\n",
    "   <br>\n",
    "   2. <I> id </I>: Identificação da loja onde ocorreu a venda <br>\n",
    "    <br>\n",
    "   3.<I> produto </I>: Produto que foi vendido <br>\n",
    "   <br>\n",
    "   4.<I> qtd </I>: Quantidade do produto que foi vendida <br>\n",
    "    <br>\n",
    "   5.<I> v_u </I>: Valor unitário, em reais, do produto que está sendo vendido <br>\n",
    "    <br>\n",
    "   6.<I> v_f </I>: Valor final (total), em reais, da venda. Considera a quantidade de produtos que foram vendidos e multiplica pelo seu valor unitário. Ao longo da análise pode ser referido como \"valor da venda\" <br>"
   ]
  },
  {
   "cell_type": "markdown",
   "id": "0ff769cb",
   "metadata": {},
   "source": [
    "### 2.1) analisando o valor das vendas  (valor final)"
   ]
  },
  {
   "cell_type": "code",
   "execution_count": 101,
   "id": "4debcbb8",
   "metadata": {
    "scrolled": false
   },
   "outputs": [
    {
     "name": "stderr",
     "output_type": "stream",
     "text": [
      "C:\\Users\\yasmi\\anaconda3\\lib\\site-packages\\seaborn\\distributions.py:2557: FutureWarning: `distplot` is a deprecated function and will be removed in a future version. Please adapt your code to use either `displot` (a figure-level function with similar flexibility) or `histplot` (an axes-level function for histograms).\n",
      "  warnings.warn(msg, FutureWarning)\n"
     ]
    },
    {
     "data": {
      "text/plain": [
       "<matplotlib.legend.Legend at 0x1475f194a60>"
      ]
     },
     "execution_count": 101,
     "metadata": {},
     "output_type": "execute_result"
    },
    {
     "data": {
      "image/png": "[encoded data removed]",
      "text/plain": [
       "<Figure size 432x288 with 1 Axes>"
      ]
     },
     "metadata": {},
     "output_type": "display_data"
    }
   ],
   "source": [
    "sns.distplot(base['v_f'], bins=3, \n",
    "             axlabel=\"Valor Final (R\\$)\", \n",
    "             color=\"green\",\n",
    "             label = \"Valor Final (R\\$)\")\n",
    "\n",
    "plt.title(\"Histograma do Valor Final (R\\$)\")\n",
    "plt.legend()"
   ]
  },
  {
   "cell_type": "code",
   "execution_count": 103,
   "id": "a2142b76",
   "metadata": {
    "scrolled": false
   },
   "outputs": [
    {
     "data": {
      "text/plain": [
       "count       57.000000\n",
       "mean       980.614035\n",
       "std       2757.203926\n",
       "min        150.000000\n",
       "25%        163.000000\n",
       "50%        310.000000\n",
       "75%        600.000000\n",
       "max      15700.000000\n",
       "Name: v_f, dtype: float64"
      ]
     },
     "execution_count": 103,
     "metadata": {},
     "output_type": "execute_result"
    }
   ],
   "source": [
    "base['v_f'].describe() "
   ]
  },
  {
   "cell_type": "markdown",
   "id": "eca90d41",
   "metadata": {},
   "source": [
    "<B> Comentários </B>: <br>\n",
    "<br>    \n",
    "A partir do comando 'describe' notamos que 57 vendas foram observadas. Nesse conjunto de dados notamos que um cliente aleatório inviste, em média $R\\$980$ reais na BMD.\n",
    "\n",
    "Entretanto, como notamos no histograma apresentado e nas medidas 'std' (desvio padrão), 'min' (mínimo) e 'max' (máximo), existe uma grande variação no valor final de uma venda: Houveram clientes cujas compras somaram valores relativamente baixo, como $R\\$150$, e outros cujo investimento total foi de quase $R\\$16.000$. \n",
    "\n",
    "Entretanto, a maior parte dos clientes tendem a gastar \"pouco\", ou seja, até 5 mil reais na empresa. Percebemos pelo gráfico que em poucas vezes o valor final foi maior que este número. \n",
    "\n",
    "Utilizando essas informações, sugerimos o estudo mais profundo dos fatores que influenciam o valor das vendas, bem como do perfil dos clientes. Essa investigação pode levar a empresa BMD a aumentar sua quantidade de vendas e seu faturamento. "
   ]
  },
  {
   "cell_type": "markdown",
   "id": "7cef37ee",
   "metadata": {},
   "source": [
    "### 2.1) analisando a quantidade de vendas"
   ]
  },
  {
   "cell_type": "markdown",
   "id": "03cfac8c",
   "metadata": {},
   "source": [
    "## 3) Análise inferencial da base de dados (Univariada)"
   ]
  },
  {
   "cell_type": "markdown",
   "id": "59a91ac4",
   "metadata": {},
   "source": [
    "## 4) Análise Multivariada da base de dados"
   ]
  },
  {
   "cell_type": "markdown",
   "id": "02166bd5",
   "metadata": {},
   "source": [
    "## 5) Uso de machine learning na base de dados"
   ]
  }
 ],
 "metadata": {
  "kernelspec": {
   "display_name": "Python 3",
   "language": "python",
   "name": "python3"
  },
  "language_info": {
   "codemirror_mode": {
    "name": "ipython",
    "version": 3
   },
   "file_extension": ".py",
   "mimetype": "text/x-python",
   "name": "python",
   "nbconvert_exporter": "python",
   "pygments_lexer": "ipython3",
   "version": "3.8.8"
  }
 },
 "nbformat": 4,
 "nbformat_minor": 5
}
