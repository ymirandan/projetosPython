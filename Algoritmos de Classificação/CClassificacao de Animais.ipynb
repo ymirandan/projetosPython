{
 "cells": [
  {
   "cell_type": "markdown",
   "id": "aa4157a3",
   "metadata": {},
   "source": [
    "<center>\n",
    "    <hr> \n",
    "    <h1> 4º algoritimo: Classificação de Animais: Cachorro ou Porco </h1>\n",
    "    <br>\n",
    "    <hr> \n",
    "    <h2> Objetivo: A partir de 3 características, criar um algoritmo para classificar um animal como cachorro ou porco </h2>\n",
    "    <br>\n",
    "    <I> Feito por Yasmin Miranda </I>\n",
    "    <hr> \n",
    "</center>"
   ]
  },
  {
   "cell_type": "markdown",
   "id": "f482e996",
   "metadata": {},
   "source": [
    "<center>\n",
    "    <font size = \"4\" color = \"#003666\"> <B> Importando bibliotecas necessárias: </B> </font> \n",
    "</center>"
   ]
  },
  {
   "cell_type": "code",
   "execution_count": 1,
   "id": "b59e42f0",
   "metadata": {},
   "outputs": [],
   "source": [
    "from sklearn.svm import LinearSVC #utilizar modelo de predicao\n",
    "from sklearn.metrics import accuracy_score #utilizar metricas que julgam algoritmo"
   ]
  },
  {
   "cell_type": "markdown",
   "id": "4004cc9c",
   "metadata": {},
   "source": [
    "<center>\n",
    "<font size = \"4\" color = \"#003666\"> <B> Criando a base de dados: </B> </font> \n",
    "</center>"
   ]
  },
  {
   "cell_type": "code",
   "execution_count": 2,
   "id": "97e43f63",
   "metadata": {},
   "outputs": [],
   "source": [
    "#features/variaveis\n",
    "#pelo longo?\n",
    "#perna curta?\n",
    "#faz auau?\n",
    "#(1  sim, 0 não)\n",
    "\n",
    "porco1=[0,1,0]\n",
    "porco2=[0,1,1]\n",
    "porco3=[1,1,0]\n",
    "\n",
    "cachorro1=[0,1,1]\n",
    "cachorro2=[1,0,1]\n",
    "cachorro3=[1,1,1]\n",
    "\n",
    "#classes = 1 se porco, 0 se cachorro\n",
    "treino_x=[porco1,porco2,porco3,cachorro1,cachorro2,cachorro3]\n",
    "treino_y = [1,1,1,0,0,0]"
   ]
  },
  {
   "cell_type": "markdown",
   "id": "0b9698ee",
   "metadata": {},
   "source": [
    "<center>\n",
    "<font size = \"4\" color = \"#003666\"> <B> Criando algoritmo: </B> </font> \n",
    "</center>"
   ]
  },
  {
   "cell_type": "code",
   "execution_count": 3,
   "id": "4b0cf073",
   "metadata": {
    "scrolled": false
   },
   "outputs": [
    {
     "data": {
      "text/plain": [
       "LinearSVC()"
      ]
     },
     "execution_count": 3,
     "metadata": {},
     "output_type": "execute_result"
    }
   ],
   "source": [
    "model = LinearSVC() \n",
    "model.fit(treino_x,treino_y)"
   ]
  },
  {
   "cell_type": "markdown",
   "id": "982cdfca",
   "metadata": {},
   "source": [
    "<center>\n",
    "<font size = \"4\" color = \"#003666\"> <B> Testando algoritmo: </B> </font> \n",
    "</center>"
   ]
  },
  {
   "cell_type": "code",
   "execution_count": 4,
   "id": "44bd041f",
   "metadata": {},
   "outputs": [
    {
     "data": {
      "text/plain": [
       "array([0])"
      ]
     },
     "execution_count": 4,
     "metadata": {},
     "output_type": "execute_result"
    }
   ],
   "source": [
    "animal_misterioso=[1,1,1]\n",
    "model.predict([animal_misterioso])"
   ]
  },
  {
   "cell_type": "code",
   "execution_count": 5,
   "id": "258d66ef",
   "metadata": {},
   "outputs": [],
   "source": [
    "misterio1=[1,1,1]\n",
    "misterio2=[1,1,0]\n",
    "misterio3=[0,1,1]\n",
    "teste_x = [misterio1,misterio2,misterio3]\n",
    "testes_y = [0,1,1]"
   ]
  },
  {
   "cell_type": "code",
   "execution_count": 6,
   "id": "63185018",
   "metadata": {},
   "outputs": [
    {
     "data": {
      "text/plain": [
       "array([0, 1, 0])"
      ]
     },
     "execution_count": 6,
     "metadata": {},
     "output_type": "execute_result"
    }
   ],
   "source": [
    "previsoes =model.predict(teste_x)\n",
    "previsoes"
   ]
  },
  {
   "cell_type": "markdown",
   "id": "98dddcd9",
   "metadata": {},
   "source": [
    "<center>\n",
    "<font size = \"4\" color = \"#003666\"> <B> Validando algoritmo: </B> </font> \n",
    "</center>"
   ]
  },
  {
   "cell_type": "code",
   "execution_count": 7,
   "id": "9e03e6ca",
   "metadata": {
    "scrolled": true
   },
   "outputs": [
    {
     "name": "stdout",
     "output_type": "stream",
     "text": [
      "Taxa de acerto: 66.67\n"
     ]
    }
   ],
   "source": [
    "corretos = (previsoes == testes_y).sum()\n",
    "total = len(teste_x)\n",
    "taxa_de_acerto = corretos/total\n",
    "print(\"Taxa de acerto: %.2f\" % (taxa_de_acerto*100))"
   ]
  },
  {
   "cell_type": "code",
   "execution_count": 9,
   "id": "10c0815e",
   "metadata": {},
   "outputs": [
    {
     "name": "stdout",
     "output_type": "stream",
     "text": [
      "Taxa de acerto: 66.67\n"
     ]
    }
   ],
   "source": [
    "taxa_de_acerto = accuracy_score(testes_y, previsoes)\n",
    "print(\"Taxa de acerto: %.2f\" % (taxa_de_acerto*100))"
   ]
  }
 ],
 "metadata": {
  "kernelspec": {
   "display_name": "Python 3",
   "language": "python",
   "name": "python3"
  },
  "language_info": {
   "codemirror_mode": {
    "name": "ipython",
    "version": 3
   },
   "file_extension": ".py",
   "mimetype": "text/x-python",
   "name": "python",
   "nbconvert_exporter": "python",
   "pygments_lexer": "ipython3",
   "version": "3.8.8"
  }
 },
 "nbformat": 4,
 "nbformat_minor": 5
}
