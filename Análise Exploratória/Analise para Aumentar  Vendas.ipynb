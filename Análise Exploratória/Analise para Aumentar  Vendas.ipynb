{
 "cells": [
  {
   "cell_type": "markdown",
   "id": "d34203db",
   "metadata": {},
   "source": [
    "<hr>\n",
    "<center>\n",
    "   <font size='4'> <B> Desafio: </B> BMD é uma empresa vende bermudas e está buscando aumentar suas vendas. Ela nos fornece uma base de dados e deseja saber o que pode fazer para melhorar nesse quesito. </font> <br>\n",
    "    <br>\n",
    "    <font size='3'> <I> <B> Análise feita por: </B> Yasmin de Miranda Nobre </I> </font> <br>\n",
    "    <br>\n",
    "    <font size='3'> <I> <B> Base de dados por: </B> Hasthag Programação </I> </font>\n",
    "</center> \n",
    "<hr>\n"
   ]
  },
  {
   "cell_type": "markdown",
   "id": "9e65ace0",
   "metadata": {},
   "source": [
    "## 1) Importando bibliotecas e base de dados"
   ]
  },
  {
   "cell_type": "code",
   "execution_count": 1,
   "id": "f27ad6aa",
   "metadata": {},
   "outputs": [],
   "source": [
    "import pandas as pd\n",
    "import numpy as np\n",
    "import seaborn as sns\n",
    "import matplotlib.pyplot as plt \n",
    "from datetime import datetime, timedelta"
   ]
  },
  {
   "cell_type": "code",
   "execution_count": 2,
   "id": "44a7f4bc",
   "metadata": {},
   "outputs": [],
   "source": [
    "sns.set()"
   ]
  },
  {
   "cell_type": "code",
   "execution_count": 3,
   "id": "110ffe1a",
   "metadata": {
    "scrolled": false
   },
   "outputs": [],
   "source": [
    "base = pd.read_excel(\"Vendas.xlsx\")"
   ]
  },
  {
   "cell_type": "markdown",
   "id": "ccf7d41a",
   "metadata": {},
   "source": [
    "## 2) Análise exploratória da base de dados (geral)"
   ]
  },
  {
   "cell_type": "code",
   "execution_count": 4,
   "id": "1d5f4d97",
   "metadata": {
    "scrolled": false
   },
   "outputs": [
    {
     "data": {
      "text/html": [
       "<div>\n",
       "<style scoped>\n",
       "    .dataframe tbody tr th:only-of-type {\n",
       "        vertical-align: middle;\n",
       "    }\n",
       "\n",
       "    .dataframe tbody tr th {\n",
       "        vertical-align: top;\n",
       "    }\n",
       "\n",
       "    .dataframe thead th {\n",
       "        text-align: right;\n",
       "    }\n",
       "</style>\n",
       "<table border=\"1\" class=\"dataframe\">\n",
       "  <thead>\n",
       "    <tr style=\"text-align: right;\">\n",
       "      <th></th>\n",
       "      <th>Data</th>\n",
       "      <th>ID Loja</th>\n",
       "      <th>Produto</th>\n",
       "      <th>Quantidade</th>\n",
       "      <th>Valor Unitário</th>\n",
       "      <th>Valor Final</th>\n",
       "    </tr>\n",
       "  </thead>\n",
       "  <tbody>\n",
       "    <tr>\n",
       "      <th>0</th>\n",
       "      <td>2019-12-01</td>\n",
       "      <td>Iguatemi Campinas</td>\n",
       "      <td>Bermuda Estampa</td>\n",
       "      <td>1</td>\n",
       "      <td>169</td>\n",
       "      <td>169</td>\n",
       "    </tr>\n",
       "    <tr>\n",
       "      <th>1</th>\n",
       "      <td>2019-12-01</td>\n",
       "      <td>Iguatemi Esplanada</td>\n",
       "      <td>Bermuda Xadrez</td>\n",
       "      <td>1</td>\n",
       "      <td>155</td>\n",
       "      <td>155</td>\n",
       "    </tr>\n",
       "    <tr>\n",
       "      <th>2</th>\n",
       "      <td>2019-12-01</td>\n",
       "      <td>Norte Shopping</td>\n",
       "      <td>Bermuda</td>\n",
       "      <td>2</td>\n",
       "      <td>150</td>\n",
       "      <td>300</td>\n",
       "    </tr>\n",
       "    <tr>\n",
       "      <th>3</th>\n",
       "      <td>2019-12-01</td>\n",
       "      <td>Iguatemi Campinas</td>\n",
       "      <td>Bermuda Listrado</td>\n",
       "      <td>3</td>\n",
       "      <td>163</td>\n",
       "      <td>489</td>\n",
       "    </tr>\n",
       "    <tr>\n",
       "      <th>4</th>\n",
       "      <td>2019-12-01</td>\n",
       "      <td>Iguatemi Campinas</td>\n",
       "      <td>Bermuda Linho</td>\n",
       "      <td>3</td>\n",
       "      <td>195</td>\n",
       "      <td>585</td>\n",
       "    </tr>\n",
       "  </tbody>\n",
       "</table>\n",
       "</div>"
      ],
      "text/plain": [
       "        Data             ID Loja           Produto  Quantidade  \\\n",
       "0 2019-12-01   Iguatemi Campinas   Bermuda Estampa           1   \n",
       "1 2019-12-01  Iguatemi Esplanada    Bermuda Xadrez           1   \n",
       "2 2019-12-01      Norte Shopping           Bermuda           2   \n",
       "3 2019-12-01   Iguatemi Campinas  Bermuda Listrado           3   \n",
       "4 2019-12-01   Iguatemi Campinas     Bermuda Linho           3   \n",
       "\n",
       "   Valor Unitário  Valor Final  \n",
       "0             169          169  \n",
       "1             155          155  \n",
       "2             150          300  \n",
       "3             163          489  \n",
       "4             195          585  "
      ]
     },
     "execution_count": 4,
     "metadata": {},
     "output_type": "execute_result"
    }
   ],
   "source": [
    "base.head() #visualizando as 5 primeiras observações da base de dados"
   ]
  },
  {
   "cell_type": "markdown",
   "id": "3be308ca",
   "metadata": {},
   "source": [
    "A fim de tornar a análise mais simples, iremos mudar os nomes das variáveis:"
   ]
  },
  {
   "cell_type": "code",
   "execution_count": 5,
   "id": "f5c62b68",
   "metadata": {},
   "outputs": [
    {
     "data": {
      "text/html": [
       "<div>\n",
       "<style scoped>\n",
       "    .dataframe tbody tr th:only-of-type {\n",
       "        vertical-align: middle;\n",
       "    }\n",
       "\n",
       "    .dataframe tbody tr th {\n",
       "        vertical-align: top;\n",
       "    }\n",
       "\n",
       "    .dataframe thead th {\n",
       "        text-align: right;\n",
       "    }\n",
       "</style>\n",
       "<table border=\"1\" class=\"dataframe\">\n",
       "  <thead>\n",
       "    <tr style=\"text-align: right;\">\n",
       "      <th></th>\n",
       "      <th>data</th>\n",
       "      <th>id</th>\n",
       "      <th>produto</th>\n",
       "      <th>qtd</th>\n",
       "      <th>v_u</th>\n",
       "      <th>v_f</th>\n",
       "    </tr>\n",
       "  </thead>\n",
       "  <tbody>\n",
       "    <tr>\n",
       "      <th>0</th>\n",
       "      <td>2019-12-01</td>\n",
       "      <td>Iguatemi Campinas</td>\n",
       "      <td>Bermuda Estampa</td>\n",
       "      <td>1</td>\n",
       "      <td>169</td>\n",
       "      <td>169</td>\n",
       "    </tr>\n",
       "    <tr>\n",
       "      <th>1</th>\n",
       "      <td>2019-12-01</td>\n",
       "      <td>Iguatemi Esplanada</td>\n",
       "      <td>Bermuda Xadrez</td>\n",
       "      <td>1</td>\n",
       "      <td>155</td>\n",
       "      <td>155</td>\n",
       "    </tr>\n",
       "    <tr>\n",
       "      <th>2</th>\n",
       "      <td>2019-12-01</td>\n",
       "      <td>Norte Shopping</td>\n",
       "      <td>Bermuda</td>\n",
       "      <td>2</td>\n",
       "      <td>150</td>\n",
       "      <td>300</td>\n",
       "    </tr>\n",
       "    <tr>\n",
       "      <th>3</th>\n",
       "      <td>2019-12-01</td>\n",
       "      <td>Iguatemi Campinas</td>\n",
       "      <td>Bermuda Listrado</td>\n",
       "      <td>3</td>\n",
       "      <td>163</td>\n",
       "      <td>489</td>\n",
       "    </tr>\n",
       "    <tr>\n",
       "      <th>4</th>\n",
       "      <td>2019-12-01</td>\n",
       "      <td>Iguatemi Campinas</td>\n",
       "      <td>Bermuda Linho</td>\n",
       "      <td>3</td>\n",
       "      <td>195</td>\n",
       "      <td>585</td>\n",
       "    </tr>\n",
       "  </tbody>\n",
       "</table>\n",
       "</div>"
      ],
      "text/plain": [
       "        data                  id           produto  qtd  v_u  v_f\n",
       "0 2019-12-01   Iguatemi Campinas   Bermuda Estampa    1  169  169\n",
       "1 2019-12-01  Iguatemi Esplanada    Bermuda Xadrez    1  155  155\n",
       "2 2019-12-01      Norte Shopping           Bermuda    2  150  300\n",
       "3 2019-12-01   Iguatemi Campinas  Bermuda Listrado    3  163  489\n",
       "4 2019-12-01   Iguatemi Campinas     Bermuda Linho    3  195  585"
      ]
     },
     "execution_count": 5,
     "metadata": {},
     "output_type": "execute_result"
    }
   ],
   "source": [
    "base.columns=['data',\"id\",'produto','qtd','v_u','v_f']\n",
    "base.head()"
   ]
  },
  {
   "cell_type": "markdown",
   "id": "5619f273",
   "metadata": {},
   "source": [
    "Legenda da Base de Dados: <br>\n",
    "1. <I> data </I>: Dia da venda <br>\n",
    "   <br>\n",
    "2. <I> id </I>: Identificação da loja onde ocorreu a venda <br>\n",
    "    <br>\n",
    "3. <I> produto </I>: Produto que foi vendido <br>\n",
    "   <br>\n",
    "4. <I> qtd </I>: Quantidade do produto que foi vendida <br>\n",
    "    <br>\n",
    "5. <I> v_u </I>: Valor unitário, em reais, do produto que está sendo vendido <br>\n",
    "    <br>\n",
    "6. <I> v_f </I>: Valor final (total), em reais, da venda. Considera a quantidade de produtos que foram vendidos e multiplica pelo seu valor unitário. Ao longo da análise pode ser referido como \"valor da venda\" <br>"
   ]
  },
  {
   "cell_type": "markdown",
   "id": "15748f63",
   "metadata": {},
   "source": [
    "### 2.1) Analisando lojas que estão presentes na base de dados"
   ]
  },
  {
   "cell_type": "code",
   "execution_count": 6,
   "id": "593ac023",
   "metadata": {},
   "outputs": [
    {
     "data": {
      "text/plain": [
       "array(['Iguatemi Campinas', 'Iguatemi Esplanada', 'Norte Shopping',\n",
       "       'Bourbon Shopping SP', 'Center Shopping Uberlândia'], dtype=object)"
      ]
     },
     "execution_count": 6,
     "metadata": {},
     "output_type": "execute_result"
    }
   ],
   "source": [
    "base['id'].unique() #quais lojas aparecem"
   ]
  },
  {
   "cell_type": "code",
   "execution_count": 7,
   "id": "9670e87f",
   "metadata": {
    "scrolled": false
   },
   "outputs": [
    {
     "data": {
      "text/plain": [
       "Iguatemi Campinas             16\n",
       "Iguatemi Esplanada             8\n",
       "Norte Shopping                11\n",
       "Bourbon Shopping SP           13\n",
       "Center Shopping Uberlândia     9\n",
       "Name: id, dtype: int64"
      ]
     },
     "execution_count": 7,
     "metadata": {},
     "output_type": "execute_result"
    }
   ],
   "source": [
    "base['id'].value_counts(sort=False) #quantidade de vezes que loja foi observada"
   ]
  },
  {
   "cell_type": "markdown",
   "id": "848f1350",
   "metadata": {},
   "source": [
    "Iremos fazer uma análise mais detalhada da base de dados, por loja, na seção 3. Por ora, cabe essa noção de quais lojas aparecem e com que frequência"
   ]
  },
  {
   "cell_type": "markdown",
   "id": "0ff769cb",
   "metadata": {},
   "source": [
    "### 2.2) Analisando valor acumulado das vendas (valor final)"
   ]
  },
  {
   "cell_type": "code",
   "execution_count": 9,
   "id": "4debcbb8",
   "metadata": {
    "scrolled": false
   },
   "outputs": [
    {
     "name": "stderr",
     "output_type": "stream",
     "text": [
      "C:\\Users\\yasmi\\anaconda3\\envs\\r_env\\lib\\site-packages\\seaborn\\distributions.py:2619: FutureWarning: `distplot` is a deprecated function and will be removed in a future version. Please adapt your code to use either `displot` (a figure-level function with similar flexibility) or `histplot` (an axes-level function for histograms).\n",
      "  warnings.warn(msg, FutureWarning)\n"
     ]
    },
    {
     "data": {
      "text/plain": [
       "<matplotlib.legend.Legend at 0x164a48cdfa0>"
      ]
     },
     "execution_count": 9,
     "metadata": {},
     "output_type": "execute_result"
    },
    {
     "data": {
      "image/png": "[encoded data removed]",
      "text/plain": [
       "<Figure size 504x288 with 1 Axes>"
      ]
     },
     "metadata": {
      "needs_background": "light"
     },
     "output_type": "display_data"
    }
   ],
   "source": [
    "plt.figure(figsize=(7, 4))\n",
    "sns.distplot(base['v_f'], bins=3, \n",
    "             axlabel=\"Valor Final (R\\$)\", \n",
    "             color=\"green\",\n",
    "             label = \"Valor Final (R\\$)\")\n",
    "\n",
    "plt.title(\"Densidade e Histograma do Valor Final (R\\$)\")\n",
    "plt.legend()"
   ]
  },
  {
   "cell_type": "code",
   "execution_count": 10,
   "id": "a2142b76",
   "metadata": {
    "scrolled": false
   },
   "outputs": [
    {
     "data": {
      "text/plain": [
       "count       57.000000\n",
       "mean       980.614035\n",
       "std       2757.203926\n",
       "min        150.000000\n",
       "25%        163.000000\n",
       "50%        310.000000\n",
       "75%        600.000000\n",
       "max      15700.000000\n",
       "Name: v_f, dtype: float64"
      ]
     },
     "execution_count": 10,
     "metadata": {},
     "output_type": "execute_result"
    }
   ],
   "source": [
    "base['v_f'].describe() "
   ]
  },
  {
   "cell_type": "markdown",
   "id": "eca90d41",
   "metadata": {},
   "source": [
    "<B> Comentários </B>: <br>\n",
    "<br>    \n",
    "A partir do comando 'describe' notamos que 57 vendas foram observadas. Nesse conjunto de dados notamos que um cliente aleatório inviste em média $R\\$980$ reais na BMD.\n",
    "\n",
    "Entretanto, como notamos no histograma apresentado e nas medidas 'std' (desvio padrão), 'min' (mínimo) e 'max' (máximo), existe uma grande variação no valor final de uma venda: Houveram clientes cujas compras somaram valores relativamente baixos, como $R\\$150$, e outros cujo investimento total foi de quase $R\\$16.000$. \n",
    "\n",
    "Entretanto, a maior parte dos clientes tendem a gastar \"pouco\", ou seja, até 5 mil reais na empresa. Percebemos pelo gráfico que em poucas vezes o valor final foi maior que este número. "
   ]
  },
  {
   "cell_type": "markdown",
   "id": "d5cb5788",
   "metadata": {},
   "source": [
    "## 2.3) Analisando pelo período em que ocorreram as vendas"
   ]
  },
  {
   "cell_type": "code",
   "execution_count": 11,
   "id": "d4322732",
   "metadata": {},
   "outputs": [
    {
     "name": "stderr",
     "output_type": "stream",
     "text": [
      "<ipython-input-11-0413363f52c3>:1: FutureWarning: Treating datetime data as categorical rather than numeric in `.describe` is deprecated and will be removed in a future version of pandas. Specify `datetime_is_numeric=True` to silence this warning and adopt the future behavior now.\n",
      "  base['data'].describe()\n"
     ]
    },
    {
     "data": {
      "text/plain": [
       "count                      57\n",
       "unique                     24\n",
       "top       2019-12-01 00:00:00\n",
       "freq                        5\n",
       "first     2019-12-01 00:00:00\n",
       "last      2019-12-26 00:00:00\n",
       "Name: data, dtype: object"
      ]
     },
     "execution_count": 11,
     "metadata": {},
     "output_type": "execute_result"
    }
   ],
   "source": [
    "base['data'].describe()"
   ]
  },
  {
   "cell_type": "markdown",
   "id": "71134725",
   "metadata": {},
   "source": [
    "Como as datas estão no tipo \"aaaa-mm-dd\" e sabemos que todas as vendas ocorreram em dezembro de 2019, a analise será feita com a distinção dos dias do mês e dias da semana. Assim:"
   ]
  },
  {
   "cell_type": "code",
   "execution_count": 12,
   "id": "191457f6",
   "metadata": {},
   "outputs": [],
   "source": [
    "v_data = list()\n",
    "for i in range(len(base)):\n",
    "    v_data.append(base['data'][i].strftime(\"%d\"))\n",
    "    i = i+1"
   ]
  },
  {
   "cell_type": "code",
   "execution_count": 13,
   "id": "6800297d",
   "metadata": {},
   "outputs": [],
   "source": [
    "#quantidade por data"
   ]
  },
  {
   "cell_type": "code",
   "execution_count": 14,
   "id": "131d2cac",
   "metadata": {
    "scrolled": false
   },
   "outputs": [
    {
     "data": {
      "image/png": "[encoded data removed]",
      "text/plain": [
       "<Figure size 504x288 with 1 Axes>"
      ]
     },
     "metadata": {
      "needs_background": "light"
     },
     "output_type": "display_data"
    }
   ],
   "source": [
    "plt.figure(figsize=(7, 4))\n",
    "plt.plot(v_data,base['v_f'], color=\"green\")\n",
    "plt.title(\"Valor Final de Vendas ao longo de Dezembro/19\")\n",
    "plt.show()"
   ]
  },
  {
   "cell_type": "markdown",
   "id": "1a688eb3",
   "metadata": {},
   "source": [
    "<B> Comentários </B>: <br>\n",
    "<br>    \n",
    "É possível perceber que o maior valor final das vendas (quantidade de produtos * valor unitário do produto) ocorreu no dias 25, sendo maior que $R\\$14.000$. Como nesse dia comemoramos o Natal e muitas pessoas compram seu presente na \"última hora\", faz sentido o aumento exponencial deste indicador.\n",
    "\n",
    "É importante observar, entretanto, que durante a maior parte do tempo, ou seja, entre os dias 05 e 23, o valor final das vendas foi constantemente baixo: abaixo de $R\\$2.000$.\n",
    "\n",
    "No gráfico abaixo vemos que a quantidade de produtos vendidos no dia teve comportamento identico ao do valor final das vendas. Essa situação faz sentido, visto que o valor final das vendas aumenta conforme a quantidade de produtos vendidos aumenta. Com"
   ]
  },
  {
   "cell_type": "code",
   "execution_count": 15,
   "id": "77fb1b93",
   "metadata": {},
   "outputs": [
    {
     "data": {
      "image/png": "[encoded data removed]",
      "text/plain": [
       "<Figure size 504x288 with 1 Axes>"
      ]
     },
     "metadata": {
      "needs_background": "light"
     },
     "output_type": "display_data"
    }
   ],
   "source": [
    "plt.figure(figsize=(7, 4))\n",
    "plt.plot(v_data,base['qtd'], color=\"red\")\n",
    "plt.title(\"Quantidade de Vendas ao longo de Dezembro/19\")\n",
    "plt.show()"
   ]
  },
  {
   "cell_type": "markdown",
   "id": "428054ed",
   "metadata": {},
   "source": [
    "<B> Comentários </B>: <br>\n",
    "<br>    \n",
    "No gráfico acima vemos que a quantidade de produtos vendidos no dia teve comportamento identico ao do valor final das vendas. Essa situação faz sentido, visto que o valor final das vendas aumenta conforme a quantidade de produtos vendidos aumenta. Notamos essa relação no gráfico de dispersão abaixo, o qual, por sua vez, sugere que o valor final da venda pode ser modelado por meio de uma regressão linear simples (que parta da origem) em função da quantidade de vendas."
   ]
  },
  {
   "cell_type": "code",
   "execution_count": 16,
   "id": "340fc7af",
   "metadata": {},
   "outputs": [
    {
     "data": {
      "image/png": "[encoded data removed]",
      "text/plain": [
       "<Figure size 504x288 with 1 Axes>"
      ]
     },
     "metadata": {
      "needs_background": "light"
     },
     "output_type": "display_data"
    }
   ],
   "source": [
    "plt.figure(figsize=(7, 4))\n",
    "plt.scatter(base['qtd'],base['v_f'], color=\"black\")\n",
    "plt.title(\"Quantidade de Vendas vs Valor Final da Venda\")\n",
    "plt.show()"
   ]
  },
  {
   "cell_type": "code",
   "execution_count": 17,
   "id": "85388725",
   "metadata": {},
   "outputs": [],
   "source": [
    "v_dias = list()\n",
    "for i in range(len(base)):\n",
    "    v_dias.append(base['data'][i].strftime(\"%A\"))\n",
    "    i = i+1"
   ]
  },
  {
   "cell_type": "code",
   "execution_count": 18,
   "id": "f077f8ba",
   "metadata": {},
   "outputs": [
    {
     "data": {
      "text/plain": [
       "['Sunday',\n",
       " 'Sunday',\n",
       " 'Sunday',\n",
       " 'Sunday',\n",
       " 'Sunday',\n",
       " 'Tuesday',\n",
       " 'Tuesday',\n",
       " 'Tuesday',\n",
       " 'Tuesday',\n",
       " 'Wednesday',\n",
       " 'Wednesday',\n",
       " 'Wednesday',\n",
       " 'Wednesday',\n",
       " 'Thursday',\n",
       " 'Thursday',\n",
       " 'Thursday',\n",
       " 'Friday',\n",
       " 'Saturday',\n",
       " 'Saturday',\n",
       " 'Sunday',\n",
       " 'Sunday',\n",
       " 'Monday',\n",
       " 'Tuesday',\n",
       " 'Wednesday',\n",
       " 'Wednesday',\n",
       " 'Thursday',\n",
       " 'Saturday',\n",
       " 'Sunday',\n",
       " 'Sunday',\n",
       " 'Sunday',\n",
       " 'Monday',\n",
       " 'Monday',\n",
       " 'Tuesday',\n",
       " 'Tuesday',\n",
       " 'Tuesday',\n",
       " 'Tuesday',\n",
       " 'Wednesday',\n",
       " 'Wednesday',\n",
       " 'Thursday',\n",
       " 'Thursday',\n",
       " 'Thursday',\n",
       " 'Thursday',\n",
       " 'Friday',\n",
       " 'Friday',\n",
       " 'Saturday',\n",
       " 'Saturday',\n",
       " 'Saturday',\n",
       " 'Sunday',\n",
       " 'Sunday',\n",
       " 'Monday',\n",
       " 'Monday',\n",
       " 'Tuesday',\n",
       " 'Tuesday',\n",
       " 'Tuesday',\n",
       " 'Tuesday',\n",
       " 'Wednesday',\n",
       " 'Thursday']"
      ]
     },
     "execution_count": 18,
     "metadata": {},
     "output_type": "execute_result"
    }
   ],
   "source": [
    "v_dias"
   ]
  },
  {
   "cell_type": "code",
   "execution_count": 19,
   "id": "c057cf16",
   "metadata": {},
   "outputs": [],
   "source": [
    "v_dias = ['Domingo',\n",
    "  'Domingo',\n",
    "  'Domingo',\n",
    "  'Domingo',\n",
    "  'Domingo',\n",
    "  'Terça-feira',\n",
    "  'Terça-feira',\n",
    "  'Terça-feira',\n",
    "  'Terça-feira',\n",
    "  'Quarta-feira',\n",
    "  'Quarta-feira',\n",
    "  'Quarta-feira',\n",
    "  'Quarta-feira',\n",
    "  'Quinta-feira',\n",
    "  'Quinta-feira',\n",
    "  'Quinta-feira',\n",
    "  'Sexta-feira',\n",
    "  'Sábado',\n",
    "  'Sábado',\n",
    "  'Domingo',\n",
    "  'Domingo',\n",
    "  'Segunda-feira',\n",
    "  'Terça-feira',\n",
    "  'Quarta-feira',\n",
    "  'Quarta-feira',\n",
    "  'Quinta-feira',\n",
    "  'Sábado',\n",
    "  'Domingo',\n",
    "  'Domingo',\n",
    "  'Domingo',\n",
    "  'Segunda-feira',\n",
    "  'Segunda-feira',\n",
    "  'Terça-feira',\n",
    "  'Terça-feira',\n",
    "  'Terça-feira',\n",
    "  'Terça-feira',\n",
    "  'Quarta-feira',\n",
    "  'Quarta-feira',\n",
    "  'Quinta-feira',\n",
    "  'Quinta-feira',\n",
    "  'Quinta-feira',\n",
    "  'Quinta-feira',\n",
    "  'Sexta-feira',\n",
    "  'Sexta-feira',\n",
    "  'Sábado',\n",
    "  'Sábado',\n",
    "  'Sábado',\n",
    "  'Domingo',\n",
    "  'Domingo',\n",
    "  'Segunda-feira',\n",
    "  'Segunda-feira',\n",
    "  'Terça-feira',\n",
    "  'Terça-feira',\n",
    "  'Terça-feira',\n",
    "  'Terça-feira',\n",
    "  'Quarta-feira',\n",
    "  'Quinta-feira']"
   ]
  },
  {
   "cell_type": "code",
   "execution_count": 20,
   "id": "415d568f",
   "metadata": {},
   "outputs": [
    {
     "data": {
      "image/png": "[encoded data removed]",
      "text/plain": [
       "<Figure size 504x288 with 1 Axes>"
      ]
     },
     "metadata": {
      "needs_background": "light"
     },
     "output_type": "display_data"
    }
   ],
   "source": [
    "plt.figure(figsize=(7, 4))\n",
    "plt.bar(v_dias,base['v_f'], color=\"green\")\n",
    "plt.title(\"Valor Acumulado de Vendas em Dezembro por Dia da Semana\")\n",
    "plt.xticks(rotation=45)\n",
    "plt.show()"
   ]
  },
  {
   "cell_type": "markdown",
   "id": "7c064f0f",
   "metadata": {},
   "source": [
    "<B> Comentários </B>: <br>\n",
    "<br>    \n",
    "No gráfico acima notamos que o dia da semana em que houve maior valor acumulado de vendas foi na Quarta-Feira, o dia do Natal daquele ano, seguido da Terça-Feira. Curiosamente, o dia que arrecadou o menor valor foi na Sexta, com menos de $R\\$2.000$ vendidos ao longo do mês. Visualmente, há indicios de que na sexta ocorre a venda final média, cujo investimento é de $R\\$950$.\n",
    "\n",
    "Diante disso os gerentes das lojas poderiam considerar campanhas específicas para aumentar o valor acumulado das vendas durante todo o mês e entre a Sexta-Feira e Segunda-Feira. Além disso, vemos que há maior necessidade de atendimento ao cliente entre Terça-Feira e Quinta-Feira e no dia do Natal. Essas informações podem auxiliar na alocação de seus devidos funcionários."
   ]
  },
  {
   "cell_type": "code",
   "execution_count": 21,
   "id": "6fa9ad28",
   "metadata": {},
   "outputs": [
    {
     "data": {
      "image/png": "[encoded data removed]",
      "text/plain": [
       "<Figure size 504x288 with 1 Axes>"
      ]
     },
     "metadata": {
      "needs_background": "light"
     },
     "output_type": "display_data"
    }
   ],
   "source": [
    "plt.figure(figsize=(7, 4))\n",
    "plt.bar(v_dias,base['qtd'], color=\"red\")\n",
    "plt.title(\"Quantidade de Vendas em Dezembro por Dia da Semana\")\n",
    "plt.xticks(rotation=45)\n",
    "plt.show()"
   ]
  },
  {
   "cell_type": "markdown",
   "id": "7cef37ee",
   "metadata": {},
   "source": [
    "### 2.4) Quanto à quantidade de vendas"
   ]
  },
  {
   "cell_type": "code",
   "execution_count": 22,
   "id": "e16d253b",
   "metadata": {
    "scrolled": false
   },
   "outputs": [
    {
     "data": {
      "text/plain": [
       "Text(0.5, 1.0, 'Boxplot da Quantidade de Produtos Vendidos')"
      ]
     },
     "execution_count": 22,
     "metadata": {},
     "output_type": "execute_result"
    },
    {
     "data": {
      "image/png": "[encoded data removed]",
      "text/plain": [
       "<Figure size 504x288 with 1 Axes>"
      ]
     },
     "metadata": {
      "needs_background": "light"
     },
     "output_type": "display_data"
    }
   ],
   "source": [
    "plt.figure(figsize=(7, 4))\n",
    "plt.boxplot(base['qtd'])\n",
    "plt.title(\"Boxplot da Quantidade de Produtos Vendidos\")"
   ]
  },
  {
   "cell_type": "markdown",
   "id": "255b881c",
   "metadata": {},
   "source": [
    "É possivel notar 3 observações cuja quantidade de produtos vendidos foi bem acima do comum, configurando como quantidades atípicas (55,78 e 100 bermudas). Esses clientes puxaram a média de quantidade de produtos vendidos pra cima e com certeza também influenciaram o valor final das vendas, investigado inicialmente.\n",
    "\n",
    "Abaixo vemos medidas descritivas dessa variável, bem como a frequência de cada quantidade de produtos vendidos. Aproximadamente 60% das pessoas que compram em BMD adquirem poucos produtos: até 2 bermudas."
   ]
  },
  {
   "cell_type": "code",
   "execution_count": 23,
   "id": "282131b7",
   "metadata": {
    "scrolled": false
   },
   "outputs": [
    {
     "data": {
      "text/plain": [
       "count     57.00\n",
       "mean       6.14\n",
       "std       17.58\n",
       "min        1.00\n",
       "25%        1.00\n",
       "50%        2.00\n",
       "75%        4.00\n",
       "max      100.00\n",
       "Name: qtd, dtype: float64"
      ]
     },
     "execution_count": 23,
     "metadata": {},
     "output_type": "execute_result"
    }
   ],
   "source": [
    "round(base['qtd'].describe(),2)"
   ]
  },
  {
   "cell_type": "code",
   "execution_count": 24,
   "id": "6eaed5c1",
   "metadata": {},
   "outputs": [
    {
     "data": {
      "text/plain": [
       "1      25\n",
       "4      10\n",
       "2       9\n",
       "3       8\n",
       "5       2\n",
       "55      1\n",
       "78      1\n",
       "100     1\n",
       "Name: qtd, dtype: int64"
      ]
     },
     "execution_count": 24,
     "metadata": {},
     "output_type": "execute_result"
    }
   ],
   "source": [
    "freq_qtd = base['qtd'].value_counts()\n",
    "freq_qtd"
   ]
  },
  {
   "cell_type": "markdown",
   "id": "35aa91e5",
   "metadata": {},
   "source": [
    "### 2.3) Quanto aos produtos"
   ]
  },
  {
   "cell_type": "code",
   "execution_count": 25,
   "id": "a14ce22d",
   "metadata": {},
   "outputs": [],
   "source": [
    "b_est = base[base['produto']=='Bermuda Estampa']\n",
    "\n",
    "b_x = base[base['produto']=='Bermuda Xadrez']\n",
    "\n",
    "b = base[base['produto']=='Bermuda']\n",
    "\n",
    "b_listr =base[base['produto']=='Bermuda Listrado']\n",
    "\n",
    "b_linho = base[base['produto']=='Bermuda Linho']\n",
    "\n",
    "b_liso =base[base['produto']=='Bermuda Liso']"
   ]
  },
  {
   "cell_type": "code",
   "execution_count": 26,
   "id": "0367f449",
   "metadata": {},
   "outputs": [],
   "source": [
    "prod = ['Estampa','Xadrez','Basico', 'Listrado','Linho','Liso']\n",
    "\n",
    "quant_prod=[sum(b_est['qtd']),  sum(b_x['qtd']),\n",
    "            sum(b['qtd']), sum(b_listr['qtd']),\n",
    "            sum(b_linho['qtd']), sum(b_liso['qtd'])]\n"
   ]
  },
  {
   "cell_type": "code",
   "execution_count": 27,
   "id": "dcaf8cff",
   "metadata": {
    "scrolled": true
   },
   "outputs": [
    {
     "data": {
      "image/png": "[encoded data removed]",
      "text/plain": [
       "<Figure size 504x288 with 1 Axes>"
      ]
     },
     "metadata": {
      "needs_background": "light"
     },
     "output_type": "display_data"
    }
   ],
   "source": [
    "plt.figure(figsize=(7, 4))\n",
    "plt.bar(prod,quant_prod, color=\"blue\")\n",
    "plt.title(\"Quantidade de Produtos Vendidos\")\n",
    "plt.show()"
   ]
  },
  {
   "cell_type": "code",
   "execution_count": 28,
   "id": "f53a13c1",
   "metadata": {},
   "outputs": [
    {
     "data": {
      "text/plain": [
       "[21, 28, 23, 25, 20, 233]"
      ]
     },
     "execution_count": 28,
     "metadata": {},
     "output_type": "execute_result"
    }
   ],
   "source": [
    "quant_prod"
   ]
  },
  {
   "cell_type": "code",
   "execution_count": 29,
   "id": "d9c24c70",
   "metadata": {},
   "outputs": [
    {
     "data": {
      "text/plain": [
       "[169, 155, 150, 163, 195, 157]"
      ]
     },
     "execution_count": 29,
     "metadata": {},
     "output_type": "execute_result"
    }
   ],
   "source": [
    "valor_uni=[(b_est['v_u'][0]),(b_x['v_u'][1]),\n",
    "            (b['v_u'][2]), (b_listr['v_u'][3]),\n",
    "            (b_linho['v_u'][4]), (b_liso['v_u'][13])]\n",
    "valor_uni\n"
   ]
  },
  {
   "cell_type": "markdown",
   "id": "5072f577",
   "metadata": {},
   "source": [
    "Podemos ver pelo gráfico acima que a bermuda do tipo 'Liso' é a mais popular entre os consumidores, tendo sido vendida mais de 200 vezes no mês, mais de 4 vezes o que as demais venderam.\n",
    "\n",
    "Sugere-se realizar uma pesquisa com os consumidores antes de estocar as bermudas a fim de entender melhor os gostos dos clientes. Vendo os dados, algo que pode ser feito para a empresa não se prejudicar é realizar promoções, a fim de esvaziar o estoque das bermudas que estão saindo pouco. \n",
    "\n",
    "Outra coisa que poderia explicar o destaque da bermuda lisa é o valor, porém, como visto na célula acima, a peça mais barata é a 'Basico' (apenas 'Bermuda' na base de dados), e seu valor é similar ao da 'Liso'. Ou seja, não é como se a quantidade de vendas do tipo 'Liso' se destacasse apenas porque ela é a mais acessível."
   ]
  },
  {
   "cell_type": "markdown",
   "id": "bc09cb36",
   "metadata": {},
   "source": [
    "### 3) Analise por loja"
   ]
  },
  {
   "cell_type": "markdown",
   "id": "cfc240a0",
   "metadata": {},
   "source": [
    "Anteriormente tinhamos mostrado a frequência das lojas observadas na base de dados, mas podemos perceber essa informação de uma maneira melhor, por meio do seguinte gráfico:"
   ]
  },
  {
   "cell_type": "code",
   "execution_count": 30,
   "id": "a9449e67",
   "metadata": {},
   "outputs": [],
   "source": [
    "freq_L = base['id'].value_counts(sort=False)\n",
    "freq_lojas = list()\n",
    "for i in range(len(freq_L)):\n",
    "    freq_lojas.append(freq_L[i])\n",
    "    i = i+1"
   ]
  },
  {
   "cell_type": "code",
   "execution_count": 31,
   "id": "d99d3c3d",
   "metadata": {},
   "outputs": [
    {
     "data": {
      "image/png": "[encoded data removed]",
      "text/plain": [
       "<Figure size 504x288 with 1 Axes>"
      ]
     },
     "metadata": {
      "needs_background": "light"
     },
     "output_type": "display_data"
    }
   ],
   "source": [
    "plt.figure(figsize=(7, 4))\n",
    "plt.barh(base['id'].unique(),freq_lojas,color=[\"orange\",\"#45b5a8\",\"purple\",\"yellow\",\"gray\"])\n",
    "plt.title(\"Frequência na Base de Dados\")\n",
    "plt.show()"
   ]
  },
  {
   "cell_type": "markdown",
   "id": "17683f1e",
   "metadata": {},
   "source": [
    "A fim de facilitar a anlise, iremos dividir a base de dados da seguinte maneira: "
   ]
  },
  {
   "cell_type": "code",
   "execution_count": 32,
   "id": "e6989b18",
   "metadata": {},
   "outputs": [],
   "source": [
    "campinas = base[base['id']=='Iguatemi Campinas']\n",
    "\n",
    "esplanada = base[base['id']=='Iguatemi Esplanada']\n",
    "\n",
    "norte = base[base['id']=='Norte Shopping']\n",
    "\n",
    "bourbon = base[base['id']=='Bourbon Shopping SP']\n",
    "\n",
    "center = base[base['id']=='Center Shopping Uberlândia']"
   ]
  },
  {
   "cell_type": "code",
   "execution_count": 33,
   "id": "b33f5622",
   "metadata": {},
   "outputs": [],
   "source": [
    "quant_lojas=[sum(campinas['qtd']),  sum(esplanada['qtd']),\n",
    "            sum(norte['qtd']), sum(bourbon['qtd']),\n",
    "            sum(center['qtd'])] #vetor da quantidade total de produtos vendidos, por loja\n",
    "\n",
    "vf_lojas=[sum(campinas['v_f']),  sum(esplanada['v_f']),\n",
    "            sum(norte['v_f']), sum(bourbon['v_f']),\n",
    "            sum(center['v_f'])] #vetor do valor final obtido por cada loja"
   ]
  },
  {
   "cell_type": "code",
   "execution_count": 34,
   "id": "1d2d2706",
   "metadata": {
    "scrolled": false
   },
   "outputs": [
    {
     "name": "stderr",
     "output_type": "stream",
     "text": [
      "No artists with labels found to put in legend.  Note that artists whose label start with an underscore are ignored when legend() is called with no argument.\n"
     ]
    },
    {
     "data": {
      "text/plain": [
       "<matplotlib.legend.Legend at 0x164a8f8e1c0>"
      ]
     },
     "execution_count": 34,
     "metadata": {},
     "output_type": "execute_result"
    },
    {
     "data": {
      "image/png": "[encoded data removed]",
      "text/plain": [
       "<Figure size 504x288 with 1 Axes>"
      ]
     },
     "metadata": {
      "needs_background": "light"
     },
     "output_type": "display_data"
    }
   ],
   "source": [
    "plt.figure(figsize=(7, 4))\n",
    "plt.bar(base['id'].unique(), quant_lojas, color=[\"orange\",\"#45b5a8\",\"purple\",\"yellow\",\"gray\"])\n",
    "plt.title(\"Quantidade de Produtos Vendidos por Loja\")\n",
    "plt.xticks(rotation=45)\n",
    "plt.legend()"
   ]
  },
  {
   "cell_type": "code",
   "execution_count": 35,
   "id": "b1e030fb",
   "metadata": {},
   "outputs": [
    {
     "data": {
      "text/plain": [
       "[264, 14, 27, 27, 18]"
      ]
     },
     "execution_count": 35,
     "metadata": {},
     "output_type": "execute_result"
    }
   ],
   "source": [
    "quant_lojas"
   ]
  },
  {
   "cell_type": "code",
   "execution_count": 36,
   "id": "a126b5ca",
   "metadata": {
    "scrolled": false
   },
   "outputs": [
    {
     "name": "stderr",
     "output_type": "stream",
     "text": [
      "No artists with labels found to put in legend.  Note that artists whose label start with an underscore are ignored when legend() is called with no argument.\n"
     ]
    },
    {
     "data": {
      "text/plain": [
       "<matplotlib.legend.Legend at 0x164a8fa1100>"
      ]
     },
     "execution_count": 36,
     "metadata": {},
     "output_type": "execute_result"
    },
    {
     "data": {
      "image/png": "[encoded data removed]",
      "text/plain": [
       "<Figure size 504x288 with 1 Axes>"
      ]
     },
     "metadata": {
      "needs_background": "light"
     },
     "output_type": "display_data"
    }
   ],
   "source": [
    "plt.figure(figsize=(7, 4))\n",
    "plt.bar(base['id'].unique(), vf_lojas, color=[\"orange\",\"#45b5a8\",\"purple\",\"yellow\",\"gray\"])\n",
    "plt.title(\"Valor Final de Vendas por Loja\")\n",
    "plt.xticks(rotation=45)\n",
    "plt.legend()"
   ]
  },
  {
   "cell_type": "code",
   "execution_count": 37,
   "id": "5656db15",
   "metadata": {},
   "outputs": [
    {
     "data": {
      "text/plain": [
       "[41720, 2473, 4322, 4386, 2994]"
      ]
     },
     "execution_count": 37,
     "metadata": {},
     "output_type": "execute_result"
    }
   ],
   "source": [
    "vf_lojas"
   ]
  },
  {
   "cell_type": "markdown",
   "id": "44e80c68",
   "metadata": {},
   "source": [
    "<B> Comentários </B>: <br>\n",
    "<br>    \n",
    "Notamos que a loja presente em 'Iguatemi Esplanada' é a que menos aparece na base de dados. Desse modo, esperavamos que essa seria a filial que menos vendeu produtos e que acumulou menos dinheiro ao fim do período observado. Do mesmo modo, como \"Iguatemi Campinas\" possui maior frequência nas observações, ela teria maior impacto nas medidas que estamos investigando.\n",
    "\n",
    "Com os gráficos do Valor Final de vendas que cada loja acumulou vemos que \"Iguatemi Campinas\" de fato possui maior participação na geração de receita de BMD, enquanto a participação das demais são similares. Entretanto, ela vende mais do que 5x a mais que as outras lojas. \n",
    "\n",
    "Embora \"Iguatemi Campinas\" tenha sido considerada 16 vezes em nossa amostra, as outras lojas foram entre 8 e 13 vezes, ou seja, esse valor não é tão diferente a ponto de justificar um valor final de vendas acumulado tão baixo para as demais lojas ou tão expressivo para \"Iguatemi Campinas\". Ademais, o preço dos produtos são os mesmos nas diferentes filiais. \n",
    "\n",
    "Recomenda-se análise mais profunda de outras características das filiais para entender o motivo de \"Iguatemi Campinas\" se destacar."
   ]
  },
  {
   "cell_type": "code",
   "execution_count": 38,
   "id": "6d74a809",
   "metadata": {},
   "outputs": [],
   "source": [
    "#média de quqntidade vendida por loja\n",
    "\n",
    "#media de valor final por loja\n",
    "\n",
    "#tipo de bermuda vendido por loja\n",
    "\n",
    "#por periodo"
   ]
  },
  {
   "cell_type": "code",
   "execution_count": null,
   "id": "b1f33487",
   "metadata": {},
   "outputs": [],
   "source": []
  }
 ],
 "metadata": {
  "kernelspec": {
   "display_name": "Python 3",
   "language": "python",
   "name": "python3"
  },
  "language_info": {
   "codemirror_mode": {
    "name": "ipython",
    "version": 3
   },
   "file_extension": ".py",
   "mimetype": "text/x-python",
   "name": "python",
   "nbconvert_exporter": "python",
   "pygments_lexer": "ipython3",
   "version": "3.9.4"
  }
 },
 "nbformat": 4,
 "nbformat_minor": 5
}
