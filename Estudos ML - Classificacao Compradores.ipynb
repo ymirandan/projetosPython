{
 "cells": [
  {
   "cell_type": "markdown",
   "id": "aa4157a3",
   "metadata": {},
   "source": [
    "<center>\n",
    "    <hr> \n",
    "    <h1> 5º algoritimo: Classificação de Visitantes a um Site como Compradores: </h1>\n",
    "    <br>\n",
    "    <hr> \n",
    "    <h2> Objetivo: A partir de 3 páginas do website (principal, como funciona e contato) criar um algoritmo que classifique esse visitante como comprador ou não comprador </h2>\n",
    "    <br>\n",
    "    <I> Feito por Yasmin Miranda </I>\n",
    "    <hr> \n",
    "</center>"
   ]
  },
  {
   "cell_type": "markdown",
   "id": "f482e996",
   "metadata": {},
   "source": [
    "<center>\n",
    "    <font size = \"4\" color = \"#003666\"> <B> Importando bibliotecas necessárias: </B> </font> \n",
    "</center>"
   ]
  },
  {
   "cell_type": "code",
   "execution_count": 11,
   "id": "873d2da2",
   "metadata": {},
   "outputs": [],
   "source": [
    "import pandas as pd\n",
    "from sklearn.svm import LinearSVC\n",
    "from sklearn.metrics import accuracy_score\n",
    "from sklearn.model_selection import train_test_split"
   ]
  },
  {
   "cell_type": "markdown",
   "id": "4004cc9c",
   "metadata": {},
   "source": [
    "<center>\n",
    "<font size = \"4\" color = \"#003666\"> <B> Criando a base de dados: </B> </font> \n",
    "</center>"
   ]
  },
  {
   "cell_type": "code",
   "execution_count": 2,
   "id": "f5086b32",
   "metadata": {
    "scrolled": false
   },
   "outputs": [
    {
     "data": {
      "text/html": [
       "<div>\n",
       "<style scoped>\n",
       "    .dataframe tbody tr th:only-of-type {\n",
       "        vertical-align: middle;\n",
       "    }\n",
       "\n",
       "    .dataframe tbody tr th {\n",
       "        vertical-align: top;\n",
       "    }\n",
       "\n",
       "    .dataframe thead th {\n",
       "        text-align: right;\n",
       "    }\n",
       "</style>\n",
       "<table border=\"1\" class=\"dataframe\">\n",
       "  <thead>\n",
       "    <tr style=\"text-align: right;\">\n",
       "      <th></th>\n",
       "      <th>home</th>\n",
       "      <th>how_it_works</th>\n",
       "      <th>contact</th>\n",
       "      <th>bought</th>\n",
       "    </tr>\n",
       "  </thead>\n",
       "  <tbody>\n",
       "    <tr>\n",
       "      <th>0</th>\n",
       "      <td>1</td>\n",
       "      <td>1</td>\n",
       "      <td>0</td>\n",
       "      <td>0</td>\n",
       "    </tr>\n",
       "    <tr>\n",
       "      <th>1</th>\n",
       "      <td>1</td>\n",
       "      <td>1</td>\n",
       "      <td>0</td>\n",
       "      <td>0</td>\n",
       "    </tr>\n",
       "    <tr>\n",
       "      <th>2</th>\n",
       "      <td>1</td>\n",
       "      <td>1</td>\n",
       "      <td>0</td>\n",
       "      <td>0</td>\n",
       "    </tr>\n",
       "    <tr>\n",
       "      <th>3</th>\n",
       "      <td>1</td>\n",
       "      <td>1</td>\n",
       "      <td>0</td>\n",
       "      <td>0</td>\n",
       "    </tr>\n",
       "    <tr>\n",
       "      <th>4</th>\n",
       "      <td>1</td>\n",
       "      <td>1</td>\n",
       "      <td>0</td>\n",
       "      <td>0</td>\n",
       "    </tr>\n",
       "  </tbody>\n",
       "</table>\n",
       "</div>"
      ],
      "text/plain": [
       "   home  how_it_works  contact  bought\n",
       "0     1             1        0       0\n",
       "1     1             1        0       0\n",
       "2     1             1        0       0\n",
       "3     1             1        0       0\n",
       "4     1             1        0       0"
      ]
     },
     "execution_count": 2,
     "metadata": {},
     "output_type": "execute_result"
    }
   ],
   "source": [
    "uri = \"https://gist.githubusercontent.com/guilhermesilveira/2d2efa37d66b6c84a722ea627a897ced/raw/10968b997d885cbded1c92938c7a9912ba41c615/tracking.csv\" \n",
    "dados = pd.read_csv(uri)\n",
    "dados.head()\n",
    "#3 primeriras colunas são features e ultima é a variavel resposta"
   ]
  },
  {
   "cell_type": "code",
   "execution_count": 3,
   "id": "7808a749",
   "metadata": {},
   "outputs": [
    {
     "data": {
      "text/plain": [
       "(99, 4)"
      ]
     },
     "execution_count": 3,
     "metadata": {},
     "output_type": "execute_result"
    }
   ],
   "source": [
    "dados.shape"
   ]
  },
  {
   "cell_type": "code",
   "execution_count": 4,
   "id": "c1b7228d",
   "metadata": {},
   "outputs": [],
   "source": [
    "#traduzir colunas para portugues\n",
    "mapa = {\n",
    "    \"home\":\"principal\",\n",
    "    \"how_it_works\":\"como_funciona\",\n",
    "    \"contact\":\"contato\",\n",
    "    \"bought\":\"comprou\"\n",
    "}\n",
    "dados = dados.rename(columns=mapa)"
   ]
  },
  {
   "cell_type": "code",
   "execution_count": 5,
   "id": "2d436bb9",
   "metadata": {},
   "outputs": [],
   "source": [
    "x = dados[[\"principal\",\"como_funciona\",\"contato\"]]\n",
    "y = dados[\"comprou\"] #pegando apenas uma coluna não precisa de dois colchetes (array)"
   ]
  },
  {
   "cell_type": "code",
   "execution_count": 25,
   "id": "97e43f63",
   "metadata": {},
   "outputs": [
    {
     "name": "stdout",
     "output_type": "stream",
     "text": [
      "Treinaremos com 74 elementos e testaremos com 25 elementos\n"
     ]
    }
   ],
   "source": [
    "SEED = 20\n",
    "treino_x, teste_x, treino_y, teste_y = train_test_split(\n",
    "    x,y,random_state=SEED,stratify=y,test_size=0.25)\n",
    "print(\"Treinaremos com %d elementos e testaremos com %d elementos\" % (len(treino_x), len(teste_x)))"
   ]
  },
  {
   "cell_type": "markdown",
   "id": "0b9698ee",
   "metadata": {},
   "source": [
    "<center>\n",
    "<font size = \"4\" color = \"#003666\"> <B> Criando algoritmo: </B> </font> \n",
    "</center>"
   ]
  },
  {
   "cell_type": "code",
   "execution_count": 26,
   "id": "4b0cf073",
   "metadata": {
    "scrolled": false
   },
   "outputs": [
    {
     "data": {
      "text/plain": [
       "LinearSVC()"
      ]
     },
     "execution_count": 26,
     "metadata": {},
     "output_type": "execute_result"
    }
   ],
   "source": [
    "modelo = LinearSVC() \n",
    "modelo.fit(treino_x,treino_y)"
   ]
  },
  {
   "cell_type": "markdown",
   "id": "982cdfca",
   "metadata": {},
   "source": [
    "<center>\n",
    "<font size = \"4\" color = \"#003666\"> <B> Testando algoritmo: </B> </font> \n",
    "</center>"
   ]
  },
  {
   "cell_type": "code",
   "execution_count": 27,
   "id": "44bd041f",
   "metadata": {},
   "outputs": [
    {
     "data": {
      "text/plain": [
       "array([0, 1, 0, 0, 1], dtype=int64)"
      ]
     },
     "execution_count": 27,
     "metadata": {},
     "output_type": "execute_result"
    }
   ],
   "source": [
    "previsoes = modelo.predict(teste_x)\n",
    "previsoes[:5] #previsao de compra para primeiros 5 visitantes do conj teste"
   ]
  },
  {
   "cell_type": "code",
   "execution_count": 28,
   "id": "45ab982b",
   "metadata": {},
   "outputs": [
    {
     "data": {
      "text/plain": [
       "41    0\n",
       "39    1\n",
       "32    0\n",
       "79    1\n",
       "68    1\n",
       "Name: comprou, dtype: int64"
      ]
     },
     "execution_count": 28,
     "metadata": {},
     "output_type": "execute_result"
    }
   ],
   "source": [
    "teste_y[:5]"
   ]
  },
  {
   "cell_type": "markdown",
   "id": "98dddcd9",
   "metadata": {},
   "source": [
    "<center>\n",
    "<font size = \"4\" color = \"#003666\"> <B> Validando algoritmo: </B> </font> \n",
    "</center>"
   ]
  },
  {
   "cell_type": "code",
   "execution_count": 29,
   "id": "ad9174ad",
   "metadata": {},
   "outputs": [
    {
     "name": "stdout",
     "output_type": "stream",
     "text": [
      "Taxa de acerto: 96.00%\n"
     ]
    }
   ],
   "source": [
    "acuracia = accuracy_score(teste_y, previsoes)\n",
    "print(\"Taxa de acerto: %.2f%%\" % (acuracia*100))"
   ]
  },
  {
   "cell_type": "code",
   "execution_count": 36,
   "id": "7694bdd0",
   "metadata": {},
   "outputs": [
    {
     "data": {
      "text/plain": [
       "0    49\n",
       "1    25\n",
       "Name: comprou, dtype: int64"
      ]
     },
     "execution_count": 36,
     "metadata": {},
     "output_type": "execute_result"
    }
   ],
   "source": [
    "treino_y.value_counts()"
   ]
  },
  {
   "cell_type": "code",
   "execution_count": 37,
   "id": "279dbb4f",
   "metadata": {},
   "outputs": [
    {
     "data": {
      "text/plain": [
       "0    17\n",
       "1     8\n",
       "Name: comprou, dtype: int64"
      ]
     },
     "execution_count": 37,
     "metadata": {},
     "output_type": "execute_result"
    }
   ],
   "source": [
    "teste_y.value_counts()\n"
   ]
  },
  {
   "cell_type": "markdown",
   "id": "eed13d69",
   "metadata": {},
   "source": [
    "Como no treino tem em torno de 2x mais pessoas que não compraram, esperamos que essa chance apareça no teste tambem. No teste apareceu uma razão de chances parecida."
   ]
  },
  {
   "cell_type": "code",
   "execution_count": null,
   "id": "4404ab17",
   "metadata": {},
   "outputs": [],
   "source": []
  }
 ],
 "metadata": {
  "kernelspec": {
   "display_name": "Python 3",
   "language": "python",
   "name": "python3"
  },
  "language_info": {
   "codemirror_mode": {
    "name": "ipython",
    "version": 3
   },
   "file_extension": ".py",
   "mimetype": "text/x-python",
   "name": "python",
   "nbconvert_exporter": "python",
   "pygments_lexer": "ipython3",
   "version": "3.8.8"
  }
 },
 "nbformat": 4,
 "nbformat_minor": 5
}
